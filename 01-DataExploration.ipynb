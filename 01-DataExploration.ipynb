{
 "cells": [
  {
   "cell_type": "code",
   "execution_count": 1,
   "metadata": {},
   "outputs": [],
   "source": [
    "import pandas as pd\n",
    "import numpy as np\n",
    "import json\n",
    "from matplotlib import pyplot as plt"
   ]
  },
  {
   "cell_type": "code",
   "execution_count": null,
   "metadata": {},
   "outputs": [],
   "source": [
    "train = pd.read_csv(\"zindi_data/Train.csv\")\n",
    "\n",
    "train.sample(10)"
   ]
  },
  {
   "cell_type": "code",
   "execution_count": null,
   "metadata": {},
   "outputs": [],
   "source": [
    "from PIL import Image\n",
    "\n",
    "images_id = train[\"Image_ID\"].drop_duplicates()\n",
    "image_shape: pd.Series = images_id.map(lambda x: Image.open(\"zindi_data/images/\"+x).size)\n",
    "\n",
    "image_shape"
   ]
  },
  {
   "cell_type": "code",
   "execution_count": null,
   "metadata": {},
   "outputs": [],
   "source": [
    "image_shape = image_shape.apply(list).tolist()\n",
    "\n",
    "image_shape[:5]"
   ]
  },
  {
   "cell_type": "code",
   "execution_count": null,
   "metadata": {},
   "outputs": [],
   "source": [
    "image_shape = pd.DataFrame(image_shape, index=images_id, columns=[\"width\", \"height\"])\n",
    "\n",
    "image_shape.sample(5)"
   ]
  },
  {
   "cell_type": "code",
   "execution_count": null,
   "metadata": {},
   "outputs": [],
   "source": [
    "train[\"class\"].value_counts()"
   ]
  },
  {
   "cell_type": "code",
   "execution_count": null,
   "metadata": {},
   "outputs": [],
   "source": [
    "train[\n",
    "    train[\"class\"] == \"NEG\"\n",
    "].head(5)"
   ]
  },
  {
   "cell_type": "code",
   "execution_count": null,
   "metadata": {},
   "outputs": [],
   "source": [
    "train[\"Image_ID\"].nunique()"
   ]
  },
  {
   "cell_type": "code",
   "execution_count": null,
   "metadata": {},
   "outputs": [],
   "source": [
    "test = pd.read_csv(\"zindi_data/Test.csv\")\n",
    "\n",
    "test.sample(2)"
   ]
  },
  {
   "cell_type": "code",
   "execution_count": null,
   "metadata": {},
   "outputs": [],
   "source": [
    "test[\"Image_ID\"].nunique()"
   ]
  },
  {
   "cell_type": "code",
   "execution_count": null,
   "metadata": {},
   "outputs": [],
   "source": [
    "train[[\"Image_ID\", \"class\"]].groupby(\"Image_ID\")[\"class\"].nunique()"
   ]
  },
  {
   "cell_type": "code",
   "execution_count": null,
   "metadata": {},
   "outputs": [],
   "source": [
    "train[train[\"class\"] == \"NEG\"][[\"Image_ID\", \"class\"]].groupby(\"Image_ID\")[\"class\"].nunique()"
   ]
  },
  {
   "cell_type": "code",
   "execution_count": null,
   "metadata": {},
   "outputs": [],
   "source": [
    "train[\n",
    "    train[\"class\"] == \"NEG\"\n",
    "].describe()"
   ]
  },
  {
   "cell_type": "code",
   "execution_count": null,
   "metadata": {},
   "outputs": [],
   "source": [
    "from glob import glob\n",
    "\n",
    "len(glob(\"zindi_data/*.jpg\")), 1178 + 2747"
   ]
  },
  {
   "cell_type": "code",
   "execution_count": 15,
   "metadata": {},
   "outputs": [],
   "source": [
    "from PIL import Image, ImageDraw\n",
    "import os\n",
    "\n",
    "cols = [\"xmin\", \"ymin\", \"xmax\", \"ymax\"]\n",
    "color_map = {\"Trophozoite\": \"red\", \"WBC\": \"blue\"}\n",
    "\n",
    "\n",
    "def draw(image_id: str):\n",
    "    img = Image.open(os.path.join(\"zindi_data/images\", image_id))\n",
    "    draw = ImageDraw.Draw(img)\n",
    "    raw = train[(train[\"Image_ID\"] == image_id) & (train[\"class\"] != \"NEG\")]\n",
    "    for _, line in raw.iterrows():\n",
    "        draw.rectangle([line[i] for i in cols], fill=None, outline=color_map[line[\"class\"]])\n",
    "    return img"
   ]
  },
  {
   "cell_type": "code",
   "execution_count": null,
   "metadata": {},
   "outputs": [],
   "source": [
    "image_id = train[\"Image_ID\"].sample().values[0]\n",
    "\n",
    "draw(image_id)"
   ]
  },
  {
   "cell_type": "code",
   "execution_count": null,
   "metadata": {},
   "outputs": [],
   "source": [
    "labels = [\"Trophozoite\", \"WBC\", \"NEG\"]\n",
    "\n",
    "def prepare(raw: pd.Series):\n",
    "    x = raw.value_counts().to_dict()\n",
    "    for i in labels:\n",
    "        if i not in x:\n",
    "            x[i] = 0\n",
    "    return x\n",
    "\n",
    "train[[\n",
    "    \"Image_ID\", \"class\"\n",
    "]].groupby(\"Image_ID\")[\"class\"].apply(prepare)"
   ]
  },
  {
   "cell_type": "code",
   "execution_count": null,
   "metadata": {},
   "outputs": [],
   "source": [
    "file_count = train[[\n",
    "    \"Image_ID\", \"class\"\n",
    "]].groupby(\"Image_ID\")[\"class\"].apply(prepare).reset_index()\n",
    "file_count"
   ]
  },
  {
   "cell_type": "code",
   "execution_count": null,
   "metadata": {},
   "outputs": [],
   "source": [
    "file_count = file_count.pivot_table(values=\"class\", index=\"Image_ID\", columns=\"level_1\")\n",
    "\n",
    "file_count"
   ]
  },
  {
   "cell_type": "code",
   "execution_count": null,
   "metadata": {},
   "outputs": [],
   "source": [
    "file_count = file_count.sum(axis=1)\n",
    "file_count"
   ]
  },
  {
   "cell_type": "code",
   "execution_count": 21,
   "metadata": {},
   "outputs": [],
   "source": [
    "def split_by_box_count(x):\n",
    "    if x == 1:\n",
    "        return 0\n",
    "    if x <= 5:\n",
    "        return 1\n",
    "    if x <= 12:\n",
    "        return 2\n",
    "    if x <= 20:\n",
    "        return 3\n",
    "    if x <= 30:\n",
    "        return 4\n",
    "    return 5"
   ]
  },
  {
   "cell_type": "code",
   "execution_count": null,
   "metadata": {},
   "outputs": [],
   "source": [
    "file_count = file_count.apply(split_by_box_count)\n",
    "\n",
    "file_count.value_counts()"
   ]
  },
  {
   "cell_type": "code",
   "execution_count": 23,
   "metadata": {},
   "outputs": [],
   "source": [
    "from sklearn.model_selection import train_test_split\n",
    "\n",
    "train_image, test_image = train_test_split(file_count.index, test_size=0.1, stratify=file_count.values, random_state=41)"
   ]
  },
  {
   "cell_type": "code",
   "execution_count": null,
   "metadata": {},
   "outputs": [],
   "source": [
    "len(train_image), len(test_image)"
   ]
  },
  {
   "cell_type": "code",
   "execution_count": null,
   "metadata": {},
   "outputs": [],
   "source": [
    "train_image[:5]"
   ]
  },
  {
   "cell_type": "code",
   "execution_count": null,
   "metadata": {},
   "outputs": [],
   "source": [
    "train = pd.merge(train, image_shape.reset_index())\n",
    "\n",
    "train.sample(5)"
   ]
  },
  {
   "cell_type": "code",
   "execution_count": null,
   "metadata": {},
   "outputs": [],
   "source": [
    "def check_bbox(df):\n",
    "    # Condition 1: Coordinates must be non-negative\n",
    "    condition_1 = (df[['ymin', 'xmin', 'ymax', 'xmax']] >= 0).all(axis=1)\n",
    "\n",
    "    # Condition 2: ymin <= ymax and xmin <= xmax\n",
    "    condition_2 = (df['ymin'] <= df['ymax']) & (df['xmin'] <= df['xmax'])\n",
    "\n",
    "    # Condition 3: Bounding box coordinates must be within image bounds\n",
    "    condition_3 = (df['ymin'] <= df['height']) & (df['ymax'] <= df['height']) & \\\n",
    "                  (df['xmin'] <= df['width']) & (df['xmax'] <= df['width'])\n",
    "\n",
    "    # Combine all conditions\n",
    "    return condition_1 & condition_2 & condition_3\n",
    "\n",
    "condition = check_bbox(train)\n",
    "condition"
   ]
  },
  {
   "cell_type": "code",
   "execution_count": null,
   "metadata": {},
   "outputs": [],
   "source": [
    "condition.sum()"
   ]
  },
  {
   "cell_type": "code",
   "execution_count": null,
   "metadata": {},
   "outputs": [],
   "source": [
    "print(len(train))\n",
    "train = train[condition]\n",
    "print(len(train))"
   ]
  },
  {
   "cell_type": "code",
   "execution_count": null,
   "metadata": {},
   "outputs": [],
   "source": [
    "train_data = train[train[\"Image_ID\"].isin(train_image)]\n",
    "test_data = train[train[\"Image_ID\"].isin(test_image)]\n",
    "\n",
    "len(train_data), len(test_data)"
   ]
  },
  {
   "cell_type": "code",
   "execution_count": null,
   "metadata": {},
   "outputs": [],
   "source": [
    "train_data.sample(5)"
   ]
  },
  {
   "cell_type": "code",
   "execution_count": 32,
   "metadata": {},
   "outputs": [],
   "source": [
    "train_data.to_csv(\"zindi_data/TrainDataset.csv\", index=False)\n",
    "test_data.to_csv(\"zindi_data/TestDataset.csv\", index=False)"
   ]
  },
  {
   "cell_type": "code",
   "execution_count": null,
   "metadata": {},
   "outputs": [],
   "source": []
  }
 ],
 "metadata": {
  "kernelspec": {
   "display_name": ".venv",
   "language": "python",
   "name": "python3"
  },
  "language_info": {
   "codemirror_mode": {
    "name": "ipython",
    "version": 3
   },
   "file_extension": ".py",
   "mimetype": "text/x-python",
   "name": "python",
   "nbconvert_exporter": "python",
   "pygments_lexer": "ipython3",
   "version": "3.11.7"
  }
 },
 "nbformat": 4,
 "nbformat_minor": 2
}
