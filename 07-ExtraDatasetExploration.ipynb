{
 "cells": [
  {
   "cell_type": "code",
   "execution_count": null,
   "metadata": {},
   "outputs": [],
   "source": [
    "import pandas as pd\n",
    "import os\n",
    "import json\n",
    "\n",
    "thin_uganda = pd.read_csv(\"zindi_data/extra_dataset/Thin_Uganda/Labels-CSV.csv\")\n",
    "thin_uganda = thin_uganda.rename(columns={\"Image_name\": \"name\", \"Class\": \"class\", \"width\": \"w\", \"height\": \"h\"})\n",
    "thin_uganda[\"name\"] = thin_uganda[\"name\"].str.replace(\".jpg\", \".txt\")\n",
    "thin_uganda[\"path\"] = \"zindi_data/extra_dataset/Thin_Uganda/\" + thin_uganda[\"name\"]\n",
    "thin_uganda.sample(5)"
   ]
  },
  {
   "cell_type": "code",
   "execution_count": null,
   "metadata": {},
   "outputs": [],
   "source": [
    "thin_uganda[\"name\"].nunique()"
   ]
  },
  {
   "cell_type": "code",
   "execution_count": null,
   "metadata": {},
   "outputs": [],
   "source": [
    "from glob import glob\n",
    "\n",
    "\n",
    "def load_text(path: str):\n",
    "\ttry:\n",
    "\t\tlines = [\n",
    "\t\t\tlist(map(float, i.strip().split()))\n",
    "\t\t\tfor i in open(path).read().splitlines()\n",
    "\t\t\tif i.strip()\n",
    "\t\t]\n",
    "\t\tlines = pd.DataFrame(lines, columns=[\"class\", \"x\", \"y\", \"w\", \"h\"])\n",
    "\t\tlines[\"path\"] = path\n",
    "\t\tlines[\"name\"] = os.path.basename(path)\n",
    "\t\treturn lines\n",
    "\texcept:\n",
    "\t\tprint(path)\n",
    "\t\treturn pd.DataFrame(columns=[\"class\", \"x\", \"y\", \"w\", \"h\"])\n",
    "\n",
    "example = load_text(\"zindi_data/extra_dataset/Thick_Ghana/3045.txt\")\n",
    "\n",
    "example"
   ]
  },
  {
   "cell_type": "code",
   "execution_count": null,
   "metadata": {},
   "outputs": [],
   "source": [
    "files = glob(\"zindi_data/extra_dataset/*/*.txt\")\n",
    "thick_ghana_text = glob(\"zindi_data/extra_dataset/Thick_Ghana/*.txt\")\n",
    "thin_images_ghana_text = glob(\"zindi_data/extra_dataset/Thin_Images_Ghana/*.txt\")\n",
    "thin_uganda_text = glob(\"zindi_data/extra_dataset/Thin_Uganda/*.txt\")\n",
    "\n",
    "len(files), len(thick_ghana_text), len(thin_images_ghana_text), len(thin_uganda_text)"
   ]
  },
  {
   "cell_type": "code",
   "execution_count": null,
   "metadata": {},
   "outputs": [],
   "source": [
    "from tqdm import tqdm\n",
    "\n",
    "thick_ghana = list(map(load_text, tqdm(thick_ghana_text)))\n",
    "thin_images_ghana = list(map(load_text, tqdm(thin_images_ghana_text)))"
   ]
  },
  {
   "cell_type": "markdown",
   "metadata": {},
   "source": [
    "Ghana Label Name :\n",
    "* gametocyte\n",
    "* trophozoite\n",
    "* other stage\n",
    "* white blood cell\n",
    "* artefacts\n",
    "* ring stage"
   ]
  },
  {
   "cell_type": "code",
   "execution_count": 6,
   "metadata": {},
   "outputs": [],
   "source": [
    "thick_ghana = pd.concat([i for i in thick_ghana if len(i)], ignore_index=True)\n",
    "thin_images_ghana = pd.concat([i for i in thin_images_ghana if len(i)], ignore_index=True)"
   ]
  },
  {
   "cell_type": "code",
   "execution_count": null,
   "metadata": {},
   "outputs": [],
   "source": [
    "thick_ghana.sample(5)"
   ]
  },
  {
   "cell_type": "code",
   "execution_count": 8,
   "metadata": {},
   "outputs": [],
   "source": [
    "from PIL import Image\n",
    "\n",
    "def get_shape(path: str):\n",
    "\tpath = path.replace(\".txt\", \".jpg\")\n",
    "\treturn list(Image.open(path).size)\n",
    "\n",
    "# thick_ghana\n",
    "paths = thick_ghana[\"path\"].drop_duplicates()\n",
    "img_shape = paths.apply(get_shape)\n",
    "df_shape = pd.DataFrame(img_shape.tolist(), columns=[\"width\", \"height\"], index=paths.values)\n",
    "df_shape.index.name = \"path\"\n",
    "df_shape.reset_index(inplace=True)\n",
    "thick_ghana = thick_ghana.merge(df_shape, on=\"path\")\n",
    "\n",
    "# thick_ghana\n",
    "paths = thin_images_ghana[\"path\"].drop_duplicates()\n",
    "img_shape = paths.apply(get_shape)\n",
    "df_shape = pd.DataFrame(img_shape.tolist(), columns=[\"width\", \"height\"], index=paths.values)\n",
    "df_shape.index.name = \"path\"\n",
    "df_shape.reset_index(inplace=True)\n",
    "thin_images_ghana = thin_images_ghana.merge(df_shape, on=\"path\")"
   ]
  },
  {
   "cell_type": "code",
   "execution_count": null,
   "metadata": {},
   "outputs": [],
   "source": [
    "thick_ghana.sample(5)"
   ]
  },
  {
   "cell_type": "code",
   "execution_count": 10,
   "metadata": {},
   "outputs": [],
   "source": [
    "def create_position(df: pd.DataFrame):\n",
    "\tdf = df.rename(columns={\"x\": \"x_yolo\", \"y\": \"y_yolo\", \"w\": \"w_yolo\", \"h\": \"h_yolo\",})\n",
    "\n",
    "\tdf[\"xmin\"] = (df[\"x_yolo\"].values - df[\"w_yolo\"].values / 2) * df[\"width\"].values\n",
    "\tdf[\"ymin\"] = (df[\"y_yolo\"].values - df[\"h_yolo\"].values / 2) * df[\"height\"].values\n",
    "\tdf[\"w\"] = df[\"w_yolo\"].values * df[\"width\"].values\n",
    "\tdf[\"h\"] = df[\"h_yolo\"].values * df[\"height\"].values\n",
    "\treturn df\n",
    "\n",
    "thick_ghana = create_position(thick_ghana)\n",
    "thin_images_ghana = create_position(thin_images_ghana)"
   ]
  },
  {
   "cell_type": "code",
   "execution_count": null,
   "metadata": {},
   "outputs": [],
   "source": [
    "thick_ghana.sample(5)"
   ]
  },
  {
   "cell_type": "code",
   "execution_count": null,
   "metadata": {},
   "outputs": [],
   "source": [
    "thick_ghana.describe()"
   ]
  },
  {
   "cell_type": "code",
   "execution_count": null,
   "metadata": {},
   "outputs": [],
   "source": [
    "ghana_ds = pd.concat([thick_ghana, thin_images_ghana], ignore_index=True)\n",
    "\n",
    "ghana_ds.sample(5)"
   ]
  },
  {
   "cell_type": "code",
   "execution_count": null,
   "metadata": {},
   "outputs": [],
   "source": [
    "((ghana_ds[\"xmin\"] + ghana_ds[\"w\"]) > (ghana_ds[\"width\"])).sum()"
   ]
  },
  {
   "cell_type": "code",
   "execution_count": null,
   "metadata": {},
   "outputs": [],
   "source": [
    "((ghana_ds[\"ymin\"] + ghana_ds[\"h\"]) > (ghana_ds[\"height\"])).sum()"
   ]
  },
  {
   "cell_type": "code",
   "execution_count": null,
   "metadata": {},
   "outputs": [],
   "source": [
    "ghana_ds"
   ]
  },
  {
   "cell_type": "code",
   "execution_count": null,
   "metadata": {},
   "outputs": [],
   "source": [
    "thin_uganda"
   ]
  },
  {
   "cell_type": "code",
   "execution_count": null,
   "metadata": {},
   "outputs": [],
   "source": [
    "img_shape = list(map(get_shape, thin_uganda_text))\n",
    "df_shape = pd.DataFrame(img_shape, columns=[\"width\", \"height\"], index=thin_uganda_text)\n",
    "df_shape.index.name = \"path\"\n",
    "df_shape.reset_index(inplace=True)\n",
    "\n",
    "df_shape"
   ]
  },
  {
   "cell_type": "code",
   "execution_count": null,
   "metadata": {},
   "outputs": [],
   "source": [
    "thin_uganda = thin_uganda.merge(df_shape)\n",
    "thin_uganda"
   ]
  },
  {
   "cell_type": "code",
   "execution_count": null,
   "metadata": {},
   "outputs": [],
   "source": [
    "((thin_uganda[\"xmin\"] + thin_uganda[\"w\"]) > (thin_uganda[\"width\"])).sum()"
   ]
  },
  {
   "cell_type": "code",
   "execution_count": null,
   "metadata": {},
   "outputs": [],
   "source": [
    "((thin_uganda[\"ymin\"] + thin_uganda[\"h\"]) > (thin_uganda[\"height\"])).sum()"
   ]
  },
  {
   "cell_type": "code",
   "execution_count": null,
   "metadata": {},
   "outputs": [],
   "source": [
    "thin_uganda[((thin_uganda[\"ymin\"] + thin_uganda[\"h\"]) > (thin_uganda[\"height\"]))]"
   ]
  },
  {
   "cell_type": "code",
   "execution_count": 23,
   "metadata": {},
   "outputs": [],
   "source": [
    "from PIL import Image, ImageDraw\n",
    "\n",
    "def draw_image(data: pd.DataFrame):\n",
    "\tpath = data[\"path\"].values[0].replace(\".txt\", \".jpg\")\n",
    "\timg = Image.open(path)\n",
    "\tdraw = ImageDraw.Draw(img)\n",
    "\t\n",
    "\tfor _, raw in data.iterrows():\n",
    "\t\tdraw.rectangle([raw[\"xmin\"], raw[\"ymin\"], raw[\"xmin\"]+raw[\"w\"], raw[\"ymin\"]+raw[\"h\"]], fill=None, outline=\"blue\")\n",
    "\treturn img"
   ]
  },
  {
   "cell_type": "code",
   "execution_count": null,
   "metadata": {},
   "outputs": [],
   "source": [
    "draw_image(thin_uganda[thin_uganda[\"name\"] == \"1669297727332.txt\"])"
   ]
  },
  {
   "cell_type": "code",
   "execution_count": null,
   "metadata": {},
   "outputs": [],
   "source": []
  },
  {
   "cell_type": "code",
   "execution_count": null,
   "metadata": {},
   "outputs": [],
   "source": []
  },
  {
   "cell_type": "code",
   "execution_count": null,
   "metadata": {},
   "outputs": [],
   "source": []
  },
  {
   "cell_type": "code",
   "execution_count": null,
   "metadata": {},
   "outputs": [],
   "source": []
  },
  {
   "cell_type": "code",
   "execution_count": null,
   "metadata": {},
   "outputs": [],
   "source": []
  },
  {
   "cell_type": "code",
   "execution_count": null,
   "metadata": {},
   "outputs": [],
   "source": []
  },
  {
   "cell_type": "code",
   "execution_count": null,
   "metadata": {},
   "outputs": [],
   "source": []
  },
  {
   "cell_type": "code",
   "execution_count": null,
   "metadata": {},
   "outputs": [],
   "source": []
  },
  {
   "cell_type": "code",
   "execution_count": null,
   "metadata": {},
   "outputs": [],
   "source": []
  },
  {
   "cell_type": "code",
   "execution_count": null,
   "metadata": {},
   "outputs": [],
   "source": []
  },
  {
   "cell_type": "code",
   "execution_count": null,
   "metadata": {},
   "outputs": [],
   "source": []
  },
  {
   "cell_type": "code",
   "execution_count": null,
   "metadata": {},
   "outputs": [],
   "source": []
  },
  {
   "cell_type": "code",
   "execution_count": null,
   "metadata": {},
   "outputs": [],
   "source": []
  },
  {
   "cell_type": "code",
   "execution_count": null,
   "metadata": {},
   "outputs": [],
   "source": []
  },
  {
   "cell_type": "code",
   "execution_count": null,
   "metadata": {},
   "outputs": [],
   "source": []
  },
  {
   "cell_type": "code",
   "execution_count": null,
   "metadata": {},
   "outputs": [],
   "source": []
  },
  {
   "cell_type": "code",
   "execution_count": null,
   "metadata": {},
   "outputs": [],
   "source": []
  },
  {
   "cell_type": "code",
   "execution_count": null,
   "metadata": {},
   "outputs": [],
   "source": []
  },
  {
   "cell_type": "code",
   "execution_count": null,
   "metadata": {},
   "outputs": [],
   "source": []
  },
  {
   "cell_type": "code",
   "execution_count": null,
   "metadata": {},
   "outputs": [],
   "source": []
  },
  {
   "cell_type": "code",
   "execution_count": null,
   "metadata": {},
   "outputs": [],
   "source": [
    "cols = [\"Thick_Ghana\", \"Thin_Images_Ghana\", \"Thin_Uganda\"]\n",
    "\n",
    "negative_values = annotations[(annotations[\"y\"] < 0) | (annotations[\"x\"] < 0)]\n",
    "\n",
    "for i in cols:\n",
    "\tprint(\n",
    "\t\tnegative_values[i].sum(),\n",
    "\t\tnegative_values.loc[negative_values[i], \"path\"].nunique(),\n",
    "\t\tannotations[annotations[i]][\"path\"].nunique(),\n",
    "\t\ti,\n",
    "\t)"
   ]
  },
  {
   "cell_type": "code",
   "execution_count": null,
   "metadata": {},
   "outputs": [],
   "source": []
  }
 ],
 "metadata": {
  "kernelspec": {
   "display_name": ".venv",
   "language": "python",
   "name": "python3"
  },
  "language_info": {
   "codemirror_mode": {
    "name": "ipython",
    "version": 3
   },
   "file_extension": ".py",
   "mimetype": "text/x-python",
   "name": "python",
   "nbconvert_exporter": "python",
   "pygments_lexer": "ipython3",
<<<<<<< HEAD
<<<<<<< HEAD
   "version": "3.11.7"
=======
   "version": "3.9.18"
>>>>>>> 6dc9af1 (Addinf extra dataset explaration)
=======
   "version": "3.9.18"
>>>>>>> b04fe00 (Addinf extra dataset explaration)
  }
 },
 "nbformat": 4,
 "nbformat_minor": 2
}
