{
 "cells": [
  {
   "cell_type": "code",
   "execution_count": 1,
   "metadata": {},
   "outputs": [],
   "source": [
    "import pandas as pd\n",
    "import numpy as np\n",
    "import json\n",
    "from matplotlib import pyplot as plt"
   ]
  },
  {
   "cell_type": "code",
   "execution_count": null,
   "metadata": {},
   "outputs": [],
   "source": [
    "train = pd.read_csv(\"zindi_data/Train.csv\")\n",
    "\n",
    "train.sample(10)"
   ]
  },
  {
   "cell_type": "code",
   "execution_count": null,
   "metadata": {},
   "outputs": [],
   "source": [
    "from PIL import Image\n",
    "\n",
    "images_id = train[\"Image_ID\"].drop_duplicates()\n",
    "image_shape: pd.Series = images_id.map(lambda x: Image.open(\"zindi_data/images/\"+x).size)\n",
    "\n",
    "image_shape"
   ]
  },
  {
   "cell_type": "code",
   "execution_count": null,
   "metadata": {},
   "outputs": [],
   "source": [
    "image_shape = image_shape.apply(list).tolist()\n",
    "\n",
    "image_shape[:5]"
   ]
  },
  {
   "cell_type": "code",
   "execution_count": null,
   "metadata": {},
   "outputs": [],
   "source": [
    "image_shape = pd.DataFrame(image_shape, index=images_id, columns=[\"width\", \"height\"])\n",
    "\n",
    "image_shape.sample(5)"
   ]
  },
  {
   "cell_type": "code",
   "execution_count": null,
   "metadata": {},
   "outputs": [],
   "source": [
    "train[\"class\"].value_counts()"
   ]
  },
  {
   "cell_type": "code",
   "execution_count": null,
   "metadata": {},
   "outputs": [],
   "source": [
    "train[\n",
    "    train[\"class\"] == \"NEG\"\n",
    "].head(5)"
   ]
  },
  {
   "cell_type": "code",
   "execution_count": null,
   "metadata": {},
   "outputs": [],
   "source": [
    "train[\"Image_ID\"].nunique()"
   ]
  },
  {
   "cell_type": "code",
   "execution_count": null,
   "metadata": {},
   "outputs": [],
   "source": [
    "test = pd.read_csv(\"zindi_data/Test.csv\")\n",
    "\n",
    "test.sample(2)"
   ]
  },
  {
   "cell_type": "code",
   "execution_count": null,
   "metadata": {},
   "outputs": [],
   "source": [
    "test[\"Image_ID\"].nunique()"
   ]
  },
  {
   "cell_type": "code",
   "execution_count": null,
   "metadata": {},
   "outputs": [],
   "source": [
    "train[[\"Image_ID\", \"class\"]].groupby(\"Image_ID\")[\"class\"].nunique()"
   ]
  },
  {
   "cell_type": "code",
   "execution_count": null,
   "metadata": {},
   "outputs": [],
   "source": [
    "train[train[\"class\"] == \"NEG\"][[\"Image_ID\", \"class\"]].groupby(\"Image_ID\")[\"class\"].nunique()"
   ]
  },
  {
   "cell_type": "code",
   "execution_count": null,
   "metadata": {},
   "outputs": [],
   "source": [
    "train[\n",
    "    train[\"class\"] == \"NEG\"\n",
    "].describe()"
   ]
  },
  {
   "cell_type": "code",
   "execution_count": null,
   "metadata": {},
   "outputs": [],
   "source": [
    "from glob import glob\n",
    "\n",
    "len(glob(\"zindi_data/images/*.jpg\")), 1178 + 2747"
   ]
  },
  {
   "cell_type": "code",
   "execution_count": 19,
   "metadata": {},
   "outputs": [],
   "source": [
    "from PIL import Image, ImageDraw\n",
    "import os\n",
    "\n",
    "cols = [\"xmin\", \"ymin\", \"xmax\", \"ymax\"]\n",
    "color_map = {\"Trophozoite\": \"red\", \"WBC\": \"blue\"}\n",
    "\n",
    "\n",
    "def draw(image_id: str):\n",
    "    print(image_id)\n",
    "    img = Image.open(os.path.join(\"zindi_data/images\", image_id))\n",
    "    draw = ImageDraw.Draw(img)\n",
    "    raw = train[(train[\"Image_ID\"] == image_id) & (train[\"class\"] != \"NEG\")]\n",
    "    for _, line in raw.iterrows():\n",
    "        draw.rectangle([line[i] for i in cols], fill=None, outline=color_map[line[\"class\"]])\n",
    "    return img"
   ]
  },
  {
   "cell_type": "code",
   "execution_count": null,
   "metadata": {},
   "outputs": [],
   "source": [
    "image_id = train[\"Image_ID\"].sample().values[0]\n",
    "\n",
    "draw(image_id)"
   ]
  },
  {
   "cell_type": "code",
   "execution_count": null,
   "metadata": {},
   "outputs": [],
   "source": [
    "image_id = train[\n",
    "    train[\"class\"] == \"NEG\"\n",
    "][\"Image_ID\"].sample().values[0]\n",
    "\n",
    "draw(image_id)"
   ]
  },
  {
   "cell_type": "code",
   "execution_count": null,
   "metadata": {},
   "outputs": [],
   "source": [
    "image_id = train[\n",
    "    train[\"class\"] == \"Trophozoite\"\n",
    "][\"Image_ID\"].sample().values[0]\n",
    "\n",
    "draw(image_id)"
   ]
  },
  {
   "cell_type": "code",
   "execution_count": null,
   "metadata": {},
   "outputs": [],
   "source": [
    "# WBC\n",
    "image_id = train[\n",
    "    train[\"class\"] == \"WBC\"\n",
    "][\"Image_ID\"].sample().values[0]\n",
    "\n",
    "draw(image_id)"
   ]
  },
  {
   "cell_type": "code",
   "execution_count": null,
   "metadata": {},
   "outputs": [],
   "source": []
  }
 ],
 "metadata": {
  "kernelspec": {
   "display_name": ".venv",
   "language": "python",
   "name": "python3"
  },
  "language_info": {
   "codemirror_mode": {
    "name": "ipython",
    "version": 3
   },
   "file_extension": ".py",
   "mimetype": "text/x-python",
   "name": "python",
   "nbconvert_exporter": "python",
   "pygments_lexer": "ipython3",
<<<<<<< HEAD
   "version": "3.11.7"
=======
   "version": "3.9.18"
>>>>>>> 6dc9af1 (Addinf extra dataset explaration)
  }
 },
 "nbformat": 4,
 "nbformat_minor": 2
}
