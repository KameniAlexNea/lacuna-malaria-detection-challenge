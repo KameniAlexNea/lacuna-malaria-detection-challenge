{
 "cells": [
  {
   "cell_type": "code",
   "execution_count": 1,
   "metadata": {},
   "outputs": [],
   "source": [
    "import os\n",
    "\n",
    "os.environ[\"CUDA_DEVICE_ORDER\"] = \"PCI_BUS_ID\"\n",
    "os.environ[\"CUDA_VISIBLE_DEVICES\"] = \"1\""
   ]
  },
  {
   "cell_type": "code",
   "execution_count": 2,
   "metadata": {},
   "outputs": [],
   "source": [
    "CHP_ID = \"1740\"\n",
    "SUBMODEL = \"cond-detr-50\" # \"cond-detr-50\"\n",
    "MODEL_PATH = f\"logs/{SUBMODEL}/checkpoint-{CHP_ID}\"\n",
    "# IMAGE_SHAPE = 1333 _Shape{IMAGE_SHAPE}\n",
    "THR = 0.01\n",
    "iou_threshold = 0.8\n",
    "FILE_NAME = f\"{SUBMODEL}_THR{THR*100:.3f}_IOU{iou_threshold:.3f}_ID{CHP_ID}_P\""
   ]
  },
  {
   "cell_type": "code",
   "execution_count": 3,
   "metadata": {},
   "outputs": [],
   "source": [
    "from transformers import (\n",
    "\tAutoImageProcessor,\n",
    "\tAutoModelForObjectDetection,\n",
    "\tConditionalDetrImageProcessor,\n",
    "    ConditionalDetrForObjectDetection\n",
    ")\n",
    "from PIL import Image\n",
    "import torch\n",
    "from torchvision.ops import nms\n",
    "\n",
    "import pandas as pd\n",
    "import numpy as np"
   ]
  },
  {
   "cell_type": "code",
   "execution_count": 4,
   "metadata": {},
   "outputs": [
    {
     "data": {
      "text/html": [
       "<div>\n",
       "<style scoped>\n",
       "    .dataframe tbody tr th:only-of-type {\n",
       "        vertical-align: middle;\n",
       "    }\n",
       "\n",
       "    .dataframe tbody tr th {\n",
       "        vertical-align: top;\n",
       "    }\n",
       "\n",
       "    .dataframe thead th {\n",
       "        text-align: right;\n",
       "    }\n",
       "</style>\n",
       "<table border=\"1\" class=\"dataframe\">\n",
       "  <thead>\n",
       "    <tr style=\"text-align: right;\">\n",
       "      <th></th>\n",
       "      <th>image_id</th>\n",
       "      <th>bbox</th>\n",
       "      <th>category_id</th>\n",
       "      <th>id</th>\n",
       "    </tr>\n",
       "  </thead>\n",
       "  <tbody>\n",
       "    <tr>\n",
       "      <th>1069</th>\n",
       "      <td>id_yzmpc6cgm1.jpg</td>\n",
       "      <td>[2429, 1281, 86, 100]</td>\n",
       "      <td>0</td>\n",
       "      <td>1069</td>\n",
       "    </tr>\n",
       "    <tr>\n",
       "      <th>2024</th>\n",
       "      <td>id_087dra2apu.jpg</td>\n",
       "      <td>[2619, 2100, 86, 102]</td>\n",
       "      <td>0</td>\n",
       "      <td>2024</td>\n",
       "    </tr>\n",
       "    <tr>\n",
       "      <th>558</th>\n",
       "      <td>id_tt0yabytpy.jpg</td>\n",
       "      <td>[2304, 1379, 238, 238]</td>\n",
       "      <td>1</td>\n",
       "      <td>558</td>\n",
       "    </tr>\n",
       "    <tr>\n",
       "      <th>1361</th>\n",
       "      <td>id_hmd5mr6xz8.jpg</td>\n",
       "      <td>[1136, 2647, 95, 95]</td>\n",
       "      <td>0</td>\n",
       "      <td>1361</td>\n",
       "    </tr>\n",
       "    <tr>\n",
       "      <th>213</th>\n",
       "      <td>id_u0ixesq8l0.jpg</td>\n",
       "      <td>[1527, 930, 238, 185]</td>\n",
       "      <td>1</td>\n",
       "      <td>213</td>\n",
       "    </tr>\n",
       "  </tbody>\n",
       "</table>\n",
       "</div>"
      ],
      "text/plain": [
       "               image_id                    bbox  category_id    id\n",
       "1069  id_yzmpc6cgm1.jpg   [2429, 1281, 86, 100]            0  1069\n",
       "2024  id_087dra2apu.jpg   [2619, 2100, 86, 102]            0  2024\n",
       "558   id_tt0yabytpy.jpg  [2304, 1379, 238, 238]            1   558\n",
       "1361  id_hmd5mr6xz8.jpg    [1136, 2647, 95, 95]            0  1361\n",
       "213   id_u0ixesq8l0.jpg   [1527, 930, 238, 185]            1   213"
      ]
     },
     "execution_count": 4,
     "metadata": {},
     "output_type": "execute_result"
    }
   ],
   "source": [
    "from zindi_code.dataset import load_and_format\n",
    "from zindi_code import CLS_MAPPER\n",
    "\n",
    "image_folder = \"zindi_data/images\"\n",
    "\n",
    "test = load_and_format(\"zindi_data/ValDataset.csv\")\n",
    "test.sample(5)"
   ]
  },
  {
   "cell_type": "code",
   "execution_count": 5,
   "metadata": {},
   "outputs": [],
   "source": [
    "model_pth = MODEL_PATH\n",
    "\n",
    "image_processor: ConditionalDetrImageProcessor = AutoImageProcessor.from_pretrained(\n",
    "    model_pth\n",
    ")\n",
    "model: ConditionalDetrForObjectDetection = AutoModelForObjectDetection.from_pretrained(\n",
    "    model_pth\n",
    ")\n",
    "\n",
    "model = model.to(\n",
    "    \"cuda\"\n",
    ").train(False)"
   ]
  },
  {
   "cell_type": "code",
   "execution_count": 6,
   "metadata": {},
   "outputs": [
    {
     "data": {
      "text/plain": [
       "ConditionalDetrImageProcessor {\n",
       "  \"do_convert_annotations\": true,\n",
       "  \"do_normalize\": true,\n",
       "  \"do_pad\": true,\n",
       "  \"do_rescale\": true,\n",
       "  \"do_resize\": true,\n",
       "  \"format\": \"coco_detection\",\n",
       "  \"image_mean\": [\n",
       "    0.485,\n",
       "    0.456,\n",
       "    0.406\n",
       "  ],\n",
       "  \"image_processor_type\": \"ConditionalDetrImageProcessor\",\n",
       "  \"image_std\": [\n",
       "    0.229,\n",
       "    0.224,\n",
       "    0.225\n",
       "  ],\n",
       "  \"pad_size\": null,\n",
       "  \"resample\": 2,\n",
       "  \"rescale_factor\": 0.00392156862745098,\n",
       "  \"size\": {\n",
       "    \"longest_edge\": 1333,\n",
       "    \"shortest_edge\": 800\n",
       "  }\n",
       "}"
      ]
     },
     "execution_count": 6,
     "metadata": {},
     "output_type": "execute_result"
    }
   ],
   "source": [
    "image_processor"
   ]
  },
  {
   "cell_type": "code",
   "execution_count": 7,
   "metadata": {},
   "outputs": [
    {
     "data": {
      "text/plain": [
       "{0: 'Trophozoite', 1: 'WBC'}"
      ]
     },
     "execution_count": 7,
     "metadata": {},
     "output_type": "execute_result"
    }
   ],
   "source": [
    "model.config.id2label"
   ]
  },
  {
   "cell_type": "code",
   "execution_count": 8,
   "metadata": {},
   "outputs": [],
   "source": [
    "from transformers.image_transforms import center_to_corners_format\n",
    "from torch import nn\n",
    "from typing import Union, List, Tuple\n",
    "from transformers.utils.generic import TensorType\n",
    "\n",
    "n_run = []"
   ]
  },
  {
   "cell_type": "code",
   "execution_count": 9,
   "metadata": {},
   "outputs": [],
   "source": [
    "@torch.no_grad()\n",
    "def make_predictions(images: list[Image.Image]):\n",
    "\tinputs = image_processor(images=images, return_tensors=\"pt\").to(\"cuda\")\n",
    "\toutputs = model(**inputs)\n",
    "\ttarget_sizes = torch.tensor([image.size[::-1] for image in images])\n",
    "\treturn image_processor.post_process_object_detection(\n",
    "\t\toutputs, threshold=THR, target_sizes=target_sizes\n",
    "\t)\n",
    "\n",
    "def load_transform(path: str):\n",
    "\treturn Image.open(os.path.join(image_folder, path)).convert(\"RGB\")\n",
    "\timage = Image.open(os.path.join(image_folder, path))\n",
    "\treturn np.array(image.convert(\"RGB\"))[:, :, ::-1]\n",
    "\n",
    "def load_images(image_pths: list[str]):\n",
    "\treturn [\n",
    "\t\tload_transform(image_pth)\n",
    "\t\tfor image_pth in image_pths\n",
    "\t]\n",
    "\n",
    "\n",
    "def predicts(image_pths: list[str]):\n",
    "\timages = load_images(image_pths)\n",
    "\tresults = make_predictions(images)\n",
    "\tpredictions = []\n",
    "\tfor image_pth, result in zip(image_pths, results):\n",
    "\t\tprediction = []\n",
    "\t\tif len(result[\"boxes\"]):\n",
    "\t\t\tindices = nms(result[\"boxes\"], result[\"scores\"], iou_threshold)\n",
    "\t\t\tif not len(indices):\n",
    "\t\t\t\tcontinue\n",
    "\t\t\tfor score, label, box in zip(\n",
    "\t\t\t\tresult[\"scores\"][indices],\n",
    "\t\t\t\tresult[\"labels\"][indices],\n",
    "\t\t\t\tresult[\"boxes\"][indices],\n",
    "\t\t\t):\n",
    "\t\t\t\tx1, y1, x2, y2 = (round(i, 2) for i in box.tolist())\n",
    "\t\t\t\tprediction.append(\n",
    "\t\t\t\t\t[\n",
    "\t\t\t\t\t\timage_pth,\n",
    "\t\t\t\t\t\tx1,\n",
    "\t\t\t\t\t\ty1,\n",
    "\t\t\t\t\t\tx2 - x1,\n",
    "\t\t\t\t\t\ty2 - y1,\n",
    "\t\t\t\t\t\tmodel.config.id2label[label.item()],\n",
    "\t\t\t\t\t\tround(score.item(), 3),\n",
    "\t\t\t\t\t]\n",
    "\t\t\t\t)\n",
    "\t\tif not len(prediction):\n",
    "\t\t\tprediction.append([image_pth] + [0, 0, 0, 0, \"NEG\", 1.])\n",
    "\t\tpredictions.extend(prediction)\n",
    "\treturn pd.DataFrame(\n",
    "\t\tpredictions, columns=[\"image_id\", \"x\", \"y\", \"w\", \"h\", \"category_id\", \"score\"]\n",
    "\t)"
   ]
  },
  {
   "cell_type": "code",
   "execution_count": 10,
   "metadata": {},
   "outputs": [
    {
     "data": {
      "text/plain": [
       "array(['id_w8xnbd5rvm.jpg', 'id_ytq3slqkjm.jpg', 'id_e20xnaq5qn.jpg',\n",
       "       'id_7fc9zyfy0e.jpg', 'id_6g52lmvz2y.jpg', 'id_z0i61ad0tq.jpg',\n",
       "       'id_55a6sf8hbe.jpg', 'id_dg0icorzno.jpg', 'id_zdg96srigj.jpg',\n",
       "       'id_ezd6x40fd0.jpg', 'id_ch6r0g46fr.jpg', 'id_4cotsn0obm.jpg',\n",
       "       'id_0fdars2kkw.jpg', 'id_4wkzpeu6or.jpg', 'id_idjqlz4ppb.jpg',\n",
       "       'id_by6e6shi2z.jpg'], dtype=object)"
      ]
     },
     "execution_count": 10,
     "metadata": {},
     "output_type": "execute_result"
    }
   ],
   "source": [
    "image_pths = test[\"image_id\"].unique()[:16]\n",
    "image_pths"
   ]
  },
  {
   "cell_type": "code",
   "execution_count": 11,
   "metadata": {},
   "outputs": [],
   "source": [
    "results = predicts(image_pths)"
   ]
  },
  {
   "cell_type": "code",
   "execution_count": 12,
   "metadata": {},
   "outputs": [
    {
     "data": {
      "text/plain": [
       "category_id\n",
       "Trophozoite    1101\n",
       "WBC             119\n",
       "Name: count, dtype: int64"
      ]
     },
     "execution_count": 12,
     "metadata": {},
     "output_type": "execute_result"
    }
   ],
   "source": [
    "results[\"category_id\"].value_counts()"
   ]
  },
  {
   "cell_type": "code",
   "execution_count": 13,
   "metadata": {},
   "outputs": [],
   "source": [
    "from tqdm import tqdm"
   ]
  },
  {
   "cell_type": "code",
   "execution_count": 14,
   "metadata": {},
   "outputs": [
    {
     "name": "stderr",
     "output_type": "stream",
     "text": [
      "100%|██████████| 18/18 [01:09<00:00,  3.84s/it]\n"
     ]
    }
   ],
   "source": [
    "batch_size = 16\n",
    "test_images = test[\"image_id\"].unique()\n",
    "results = [\n",
    "\tpredicts(test_images[i : i + batch_size])\n",
    "\tfor i in tqdm(\n",
    "\t\trange(0, len(test_images), batch_size), total=len(test_images) // batch_size + 1\n",
    "\t) if i < len(test_images)\n",
    "]"
   ]
  },
  {
   "cell_type": "code",
   "execution_count": 15,
   "metadata": {},
   "outputs": [],
   "source": [
    "predictions = pd.concat(results, ignore_index=True)"
   ]
  },
  {
   "cell_type": "code",
   "execution_count": 16,
   "metadata": {},
   "outputs": [
    {
     "data": {
      "text/html": [
       "<div>\n",
       "<style scoped>\n",
       "    .dataframe tbody tr th:only-of-type {\n",
       "        vertical-align: middle;\n",
       "    }\n",
       "\n",
       "    .dataframe tbody tr th {\n",
       "        vertical-align: top;\n",
       "    }\n",
       "\n",
       "    .dataframe thead th {\n",
       "        text-align: right;\n",
       "    }\n",
       "</style>\n",
       "<table border=\"1\" class=\"dataframe\">\n",
       "  <thead>\n",
       "    <tr style=\"text-align: right;\">\n",
       "      <th></th>\n",
       "      <th>image_id</th>\n",
       "      <th>x</th>\n",
       "      <th>y</th>\n",
       "      <th>w</th>\n",
       "      <th>h</th>\n",
       "      <th>category_id</th>\n",
       "      <th>score</th>\n",
       "    </tr>\n",
       "  </thead>\n",
       "  <tbody>\n",
       "    <tr>\n",
       "      <th>7849</th>\n",
       "      <td>id_wv8ze1pfbz.jpg</td>\n",
       "      <td>1378.58</td>\n",
       "      <td>686.81</td>\n",
       "      <td>38.96</td>\n",
       "      <td>32.22</td>\n",
       "      <td>Trophozoite</td>\n",
       "      <td>0.126</td>\n",
       "    </tr>\n",
       "    <tr>\n",
       "      <th>18402</th>\n",
       "      <td>id_0iiow811re.jpg</td>\n",
       "      <td>2239.50</td>\n",
       "      <td>91.82</td>\n",
       "      <td>168.47</td>\n",
       "      <td>117.10</td>\n",
       "      <td>Trophozoite</td>\n",
       "      <td>0.052</td>\n",
       "    </tr>\n",
       "    <tr>\n",
       "      <th>15636</th>\n",
       "      <td>id_4f9wdugdot.jpg</td>\n",
       "      <td>3340.59</td>\n",
       "      <td>2009.79</td>\n",
       "      <td>73.90</td>\n",
       "      <td>73.21</td>\n",
       "      <td>Trophozoite</td>\n",
       "      <td>0.106</td>\n",
       "    </tr>\n",
       "    <tr>\n",
       "      <th>17282</th>\n",
       "      <td>id_auoihg3sqz.jpg</td>\n",
       "      <td>778.68</td>\n",
       "      <td>457.54</td>\n",
       "      <td>30.68</td>\n",
       "      <td>26.14</td>\n",
       "      <td>Trophozoite</td>\n",
       "      <td>0.047</td>\n",
       "    </tr>\n",
       "    <tr>\n",
       "      <th>19472</th>\n",
       "      <td>id_s6axfrvztf.jpg</td>\n",
       "      <td>2633.45</td>\n",
       "      <td>1271.18</td>\n",
       "      <td>70.29</td>\n",
       "      <td>78.29</td>\n",
       "      <td>Trophozoite</td>\n",
       "      <td>0.077</td>\n",
       "    </tr>\n",
       "    <tr>\n",
       "      <th>17226</th>\n",
       "      <td>id_auoihg3sqz.jpg</td>\n",
       "      <td>755.64</td>\n",
       "      <td>589.71</td>\n",
       "      <td>38.67</td>\n",
       "      <td>36.04</td>\n",
       "      <td>Trophozoite</td>\n",
       "      <td>0.251</td>\n",
       "    </tr>\n",
       "    <tr>\n",
       "      <th>18781</th>\n",
       "      <td>id_7dyurqpi1w.jpg</td>\n",
       "      <td>1249.49</td>\n",
       "      <td>2721.75</td>\n",
       "      <td>93.08</td>\n",
       "      <td>106.09</td>\n",
       "      <td>Trophozoite</td>\n",
       "      <td>0.065</td>\n",
       "    </tr>\n",
       "    <tr>\n",
       "      <th>12718</th>\n",
       "      <td>id_hmd5mr6xz8.jpg</td>\n",
       "      <td>3131.46</td>\n",
       "      <td>1150.58</td>\n",
       "      <td>79.80</td>\n",
       "      <td>88.07</td>\n",
       "      <td>Trophozoite</td>\n",
       "      <td>0.076</td>\n",
       "    </tr>\n",
       "    <tr>\n",
       "      <th>19272</th>\n",
       "      <td>id_66de5o5tvg.jpg</td>\n",
       "      <td>2211.52</td>\n",
       "      <td>2805.37</td>\n",
       "      <td>74.79</td>\n",
       "      <td>84.99</td>\n",
       "      <td>Trophozoite</td>\n",
       "      <td>0.190</td>\n",
       "    </tr>\n",
       "    <tr>\n",
       "      <th>9511</th>\n",
       "      <td>id_0o3fxfendl.jpg</td>\n",
       "      <td>980.44</td>\n",
       "      <td>170.20</td>\n",
       "      <td>34.09</td>\n",
       "      <td>31.98</td>\n",
       "      <td>Trophozoite</td>\n",
       "      <td>0.125</td>\n",
       "    </tr>\n",
       "  </tbody>\n",
       "</table>\n",
       "</div>"
      ],
      "text/plain": [
       "                image_id        x        y       w       h  category_id  score\n",
       "7849   id_wv8ze1pfbz.jpg  1378.58   686.81   38.96   32.22  Trophozoite  0.126\n",
       "18402  id_0iiow811re.jpg  2239.50    91.82  168.47  117.10  Trophozoite  0.052\n",
       "15636  id_4f9wdugdot.jpg  3340.59  2009.79   73.90   73.21  Trophozoite  0.106\n",
       "17282  id_auoihg3sqz.jpg   778.68   457.54   30.68   26.14  Trophozoite  0.047\n",
       "19472  id_s6axfrvztf.jpg  2633.45  1271.18   70.29   78.29  Trophozoite  0.077\n",
       "17226  id_auoihg3sqz.jpg   755.64   589.71   38.67   36.04  Trophozoite  0.251\n",
       "18781  id_7dyurqpi1w.jpg  1249.49  2721.75   93.08  106.09  Trophozoite  0.065\n",
       "12718  id_hmd5mr6xz8.jpg  3131.46  1150.58   79.80   88.07  Trophozoite  0.076\n",
       "19272  id_66de5o5tvg.jpg  2211.52  2805.37   74.79   84.99  Trophozoite  0.190\n",
       "9511   id_0o3fxfendl.jpg   980.44   170.20   34.09   31.98  Trophozoite  0.125"
      ]
     },
     "execution_count": 16,
     "metadata": {},
     "output_type": "execute_result"
    }
   ],
   "source": [
    "predictions.sample(10)"
   ]
  },
  {
   "cell_type": "code",
   "execution_count": 17,
   "metadata": {},
   "outputs": [
    {
     "data": {
      "text/plain": [
       "category_id\n",
       "Trophozoite    0.882925\n",
       "WBC            0.117075\n",
       "Name: proportion, dtype: float64"
      ]
     },
     "execution_count": 17,
     "metadata": {},
     "output_type": "execute_result"
    }
   ],
   "source": [
    "predictions[\"category_id\"].value_counts(True)"
   ]
  },
  {
   "cell_type": "code",
   "execution_count": 19,
   "metadata": {},
   "outputs": [
    {
     "data": {
      "text/plain": [
       "count    20773.000000\n",
       "mean         0.150609\n",
       "std          0.131796\n",
       "min          0.032000\n",
       "25%          0.066000\n",
       "50%          0.103000\n",
       "75%          0.176000\n",
       "max          0.736000\n",
       "Name: score, dtype: float64"
      ]
     },
     "execution_count": 19,
     "metadata": {},
     "output_type": "execute_result"
    }
   ],
   "source": [
    "predictions[\"score\"].describe()"
   ]
  },
  {
   "cell_type": "code",
   "execution_count": 20,
   "metadata": {},
   "outputs": [],
   "source": [
    "predictions.to_csv(f\"zindi_data/validation/prediction_{FILE_NAME}.csv\", index=False)"
   ]
  },
  {
   "cell_type": "code",
   "execution_count": 21,
   "metadata": {},
   "outputs": [
    {
     "data": {
      "text/plain": [
       "'zindi_data/validation/prediction_cond-detr-50_THR1.000_IOU0.800_ID1740_P.csv'"
      ]
     },
     "execution_count": 21,
     "metadata": {},
     "output_type": "execute_result"
    }
   ],
   "source": [
    "f\"zindi_data/validation/prediction_{FILE_NAME}.csv\""
   ]
  },
  {
   "cell_type": "code",
   "execution_count": null,
   "metadata": {},
   "outputs": [],
   "source": []
  }
 ],
 "metadata": {
  "kernelspec": {
   "display_name": ".venv",
   "language": "python",
   "name": "python3"
  },
  "language_info": {
   "codemirror_mode": {
    "name": "ipython",
    "version": 3
   },
   "file_extension": ".py",
   "mimetype": "text/x-python",
   "name": "python",
   "nbconvert_exporter": "python",
   "pygments_lexer": "ipython3",
   "version": "3.9.18"
  }
 },
 "nbformat": 4,
 "nbformat_minor": 2
}
