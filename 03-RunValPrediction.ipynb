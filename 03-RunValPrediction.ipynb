{
 "cells": [
  {
   "cell_type": "code",
   "execution_count": 1,
   "metadata": {},
   "outputs": [],
   "source": [
    "import os\n",
    "\n",
    "os.environ[\"CUDA_DEVICE_ORDER\"] = \"PCI_BUS_ID\"\n",
    "os.environ[\"CUDA_VISIBLE_DEVICES\"] = \"0\""
   ]
  },
  {
   "cell_type": "code",
   "execution_count": 2,
   "metadata": {},
   "outputs": [],
   "source": [
    "CHP_ID = \"464\"\n",
    "SUBMODEL = \"cond-detr-50\" # \"cond-detr-50\"\n",
    "MODEL_PATH = f\"logs/model2/checkpoint-{CHP_ID}\"\n",
    "# IMAGE_SHAPE = 1333 _Shape{IMAGE_SHAPE}\n",
    "THR = 0.0\n",
    "iou_threshold = 0.4\n",
    "FILE_NAME = f\"{SUBMODEL}_THR{THR*100:.3f}_IOU{iou_threshold:.3f}_ID{CHP_ID}\""
   ]
  },
  {
   "cell_type": "code",
   "execution_count": 3,
   "metadata": {},
   "outputs": [],
   "source": [
    "from typing import List, Tuple, Union\n",
    "\n",
    "import numpy as np\n",
    "import pandas as pd\n",
    "import torch\n",
    "from PIL import Image\n",
    "from torchvision.ops import nms\n",
    "from tqdm import tqdm\n",
    "from transformers import (AutoImageProcessor, AutoModelForObjectDetection,\n",
    "                          ConditionalDetrForObjectDetection,\n",
    "                          ConditionalDetrImageProcessor)\n",
    "from transformers.image_transforms import center_to_corners_format\n",
    "from transformers.utils.generic import TensorType\n",
    "\n",
    "from zindi_code import CLS_MAPPER\n",
    "from zindi_code.dataset_class import load_and_format"
   ]
  },
  {
   "cell_type": "code",
   "execution_count": 4,
   "metadata": {},
   "outputs": [
    {
     "data": {
      "text/html": [
       "<div>\n",
       "<style scoped>\n",
       "    .dataframe tbody tr th:only-of-type {\n",
       "        vertical-align: middle;\n",
       "    }\n",
       "\n",
       "    .dataframe tbody tr th {\n",
       "        vertical-align: top;\n",
       "    }\n",
       "\n",
       "    .dataframe thead th {\n",
       "        text-align: right;\n",
       "    }\n",
       "</style>\n",
       "<table border=\"1\" class=\"dataframe\">\n",
       "  <thead>\n",
       "    <tr style=\"text-align: right;\">\n",
       "      <th></th>\n",
       "      <th>image_id</th>\n",
       "      <th>bbox</th>\n",
       "      <th>category_id</th>\n",
       "      <th>id</th>\n",
       "    </tr>\n",
       "  </thead>\n",
       "  <tbody>\n",
       "    <tr>\n",
       "      <th>717</th>\n",
       "      <td>id_qa70t0m4yc.jpg</td>\n",
       "      <td>[2515, 1242, 2596, 1313]</td>\n",
       "      <td>0</td>\n",
       "      <td>717</td>\n",
       "    </tr>\n",
       "    <tr>\n",
       "      <th>172</th>\n",
       "      <td>id_0fdars2kkw.jpg</td>\n",
       "      <td>[586, 846, 620, 878]</td>\n",
       "      <td>0</td>\n",
       "      <td>172</td>\n",
       "    </tr>\n",
       "    <tr>\n",
       "      <th>874</th>\n",
       "      <td>id_dtffc5i3ry.jpg</td>\n",
       "      <td>[673, 607, 724, 656]</td>\n",
       "      <td>1</td>\n",
       "      <td>874</td>\n",
       "    </tr>\n",
       "    <tr>\n",
       "      <th>423</th>\n",
       "      <td>id_wy8p0eu51i.jpg</td>\n",
       "      <td>[392, 550, 447, 612]</td>\n",
       "      <td>1</td>\n",
       "      <td>423</td>\n",
       "    </tr>\n",
       "    <tr>\n",
       "      <th>64</th>\n",
       "      <td>id_ctkvvkc84k.jpg</td>\n",
       "      <td>[881, 840, 942, 906]</td>\n",
       "      <td>1</td>\n",
       "      <td>64</td>\n",
       "    </tr>\n",
       "  </tbody>\n",
       "</table>\n",
       "</div>"
      ],
      "text/plain": [
       "              image_id                      bbox  category_id   id\n",
       "717  id_qa70t0m4yc.jpg  [2515, 1242, 2596, 1313]            0  717\n",
       "172  id_0fdars2kkw.jpg      [586, 846, 620, 878]            0  172\n",
       "874  id_dtffc5i3ry.jpg      [673, 607, 724, 656]            1  874\n",
       "423  id_wy8p0eu51i.jpg      [392, 550, 447, 612]            1  423\n",
       "64   id_ctkvvkc84k.jpg      [881, 840, 942, 906]            1   64"
      ]
     },
     "execution_count": 4,
     "metadata": {},
     "output_type": "execute_result"
    }
   ],
   "source": [
    "\n",
    "image_folder = \"zindi_data/images\"\n",
    "\n",
    "test = load_and_format(\"zindi_data/ValDataset.csv\")\n",
    "test.sample(5)"
   ]
  },
  {
   "cell_type": "code",
   "execution_count": 5,
   "metadata": {},
   "outputs": [],
   "source": [
    "model_pth = MODEL_PATH\n",
    "\n",
    "image_processor: ConditionalDetrImageProcessor = AutoImageProcessor.from_pretrained(\n",
    "    model_pth, use_fast=False,\n",
    ")\n",
    "model: ConditionalDetrForObjectDetection = AutoModelForObjectDetection.from_pretrained(\n",
    "    model_pth\n",
    ")\n",
    "\n",
    "model = model.eval().to(\n",
    "    \"cuda\"\n",
    ") # .train(False)"
   ]
  },
  {
   "cell_type": "code",
   "execution_count": 6,
   "metadata": {},
   "outputs": [
    {
     "data": {
      "text/plain": [
       "ConditionalDetrImageProcessor {\n",
       "  \"do_convert_annotations\": true,\n",
       "  \"do_normalize\": true,\n",
       "  \"do_pad\": true,\n",
       "  \"do_rescale\": true,\n",
       "  \"do_resize\": true,\n",
       "  \"format\": \"coco_detection\",\n",
       "  \"image_mean\": [\n",
       "    0.485,\n",
       "    0.456,\n",
       "    0.406\n",
       "  ],\n",
       "  \"image_processor_type\": \"ConditionalDetrImageProcessor\",\n",
       "  \"image_std\": [\n",
       "    0.229,\n",
       "    0.224,\n",
       "    0.225\n",
       "  ],\n",
       "  \"pad_size\": {\n",
       "    \"height\": 800,\n",
       "    \"width\": 1333\n",
       "  },\n",
       "  \"resample\": 2,\n",
       "  \"rescale_factor\": 0.00392156862745098,\n",
       "  \"size\": {\n",
       "    \"max_height\": 800,\n",
       "    \"max_width\": 1333\n",
       "  }\n",
       "}"
      ]
     },
     "execution_count": 6,
     "metadata": {},
     "output_type": "execute_result"
    }
   ],
   "source": [
    "image_processor"
   ]
  },
  {
   "cell_type": "code",
   "execution_count": 7,
   "metadata": {},
   "outputs": [
    {
     "data": {
      "text/plain": [
       "{0: 'Trophozoite', 1: 'WBC'}"
      ]
     },
     "execution_count": 7,
     "metadata": {},
     "output_type": "execute_result"
    }
   ],
   "source": [
    "model.config.id2label"
   ]
  },
  {
   "cell_type": "code",
   "execution_count": 8,
   "metadata": {},
   "outputs": [],
   "source": [
    "def make_prediction(image: Image.Image):\n",
    "    inputs = image_processor(images=[image], return_tensors=\"pt\")\n",
    "    outputs = model(**inputs.to(\"cuda\"))\n",
    "    target_sizes = torch.tensor([[image.size[1], image.size[0]]])\n",
    "    results = image_processor.post_process_object_detection(\n",
    "        outputs, threshold=THR, target_sizes=target_sizes\n",
    "    )[0]\n",
    "    return results\n",
    "\n",
    "\n",
    "def _make_predictions(images: list[Image.Image]):\n",
    "    inputs = image_processor(\n",
    "        images=[np.array(image) for image in images], return_tensors=\"pt\"\n",
    "    ).to(\"cuda\")\n",
    "    # inputs = image_processor.pad(inputs)\n",
    "    outputs = model(**inputs)\n",
    "    target_sizes = torch.tensor([image.size[::-1] for image in images])\n",
    "    return image_processor.post_process_object_detection(\n",
    "        outputs, threshold=THR, target_sizes=target_sizes\n",
    "    )\n",
    "\n",
    "\n",
    "@torch.no_grad()\n",
    "def make_predictions(images: list[Image.Image]):\n",
    "    predictions = [make_prediction(image) for image in images]\n",
    "    return predictions\n",
    "\n",
    "\n",
    "def load_transform(path: str):\n",
    "    return Image.open(os.path.join(image_folder, path)).convert(\"RGB\")\n",
    "\n",
    "\n",
    "def load_images(image_pths: list[str]):\n",
    "    return [load_transform(image_pth) for image_pth in image_pths]\n",
    "\n",
    "\n",
    "def predicts(image_pths: list[str]):\n",
    "    images = load_images(image_pths)\n",
    "    results = make_predictions(images)\n",
    "    predictions = []\n",
    "    for image_pth, result in zip(image_pths, results):\n",
    "        prediction = []\n",
    "        if len(result[\"boxes\"]):\n",
    "            indices = nms(result[\"boxes\"], result[\"scores\"], iou_threshold)\n",
    "            if not len(indices):\n",
    "                continue\n",
    "            for score, label, box in zip(\n",
    "                result[\"scores\"][indices],\n",
    "                result[\"labels\"][indices],\n",
    "                result[\"boxes\"][indices],\n",
    "            ):\n",
    "                x1, y1, x2, y2 = (round(i, 2) for i in box.tolist())\n",
    "                prediction.append(\n",
    "                    [\n",
    "                        image_pth,\n",
    "                        x1,\n",
    "                        y1,\n",
    "                        x2 - x1,\n",
    "                        y2 - y1,\n",
    "                        model.config.id2label[label.item()],\n",
    "                        round(score.item(), 3),\n",
    "                    ]\n",
    "                )\n",
    "        if not len(prediction):\n",
    "            prediction.append([image_pth, 0, 0, 0, 0, \"NEG\", 1.0])\n",
    "        predictions.extend(prediction)\n",
    "    return pd.DataFrame(\n",
    "        predictions, columns=[\"image_id\", \"x\", \"y\", \"w\", \"h\", \"category_id\", \"score\"]\n",
    "    )"
   ]
  },
  {
   "cell_type": "code",
   "execution_count": 9,
   "metadata": {},
   "outputs": [
    {
     "data": {
      "text/plain": [
       "array(['id_w8xnbd5rvm.jpg', 'id_ytq3slqkjm.jpg', 'id_e20xnaq5qn.jpg',\n",
       "       'id_7fc9zyfy0e.jpg', 'id_6g52lmvz2y.jpg', 'id_z0i61ad0tq.jpg',\n",
       "       'id_55a6sf8hbe.jpg', 'id_dg0icorzno.jpg', 'id_zdg96srigj.jpg',\n",
       "       'id_ezd6x40fd0.jpg', 'id_ch6r0g46fr.jpg', 'id_4cotsn0obm.jpg',\n",
       "       'id_0fdars2kkw.jpg', 'id_4wkzpeu6or.jpg', 'id_idjqlz4ppb.jpg',\n",
       "       'id_by6e6shi2z.jpg'], dtype=object)"
      ]
     },
     "execution_count": 9,
     "metadata": {},
     "output_type": "execute_result"
    }
   ],
   "source": [
    "image_pths = test[\"image_id\"].unique()[:16]\n",
    "image_pths"
   ]
  },
  {
   "cell_type": "code",
   "execution_count": 10,
   "metadata": {},
   "outputs": [],
   "source": [
    "results = predicts(image_pths)"
   ]
  },
  {
   "cell_type": "code",
   "execution_count": 11,
   "metadata": {},
   "outputs": [
    {
     "data": {
      "text/plain": [
       "category_id\n",
       "Trophozoite    654\n",
       "WBC             94\n",
       "Name: count, dtype: int64"
      ]
     },
     "execution_count": 11,
     "metadata": {},
     "output_type": "execute_result"
    }
   ],
   "source": [
    "results[\"category_id\"].value_counts()"
   ]
  },
  {
   "cell_type": "code",
   "execution_count": 12,
   "metadata": {},
   "outputs": [
    {
     "data": {
      "text/html": [
       "<div>\n",
       "<style scoped>\n",
       "    .dataframe tbody tr th:only-of-type {\n",
       "        vertical-align: middle;\n",
       "    }\n",
       "\n",
       "    .dataframe tbody tr th {\n",
       "        vertical-align: top;\n",
       "    }\n",
       "\n",
       "    .dataframe thead th {\n",
       "        text-align: right;\n",
       "    }\n",
       "</style>\n",
       "<table border=\"1\" class=\"dataframe\">\n",
       "  <thead>\n",
       "    <tr style=\"text-align: right;\">\n",
       "      <th></th>\n",
       "      <th>image_id</th>\n",
       "      <th>x</th>\n",
       "      <th>y</th>\n",
       "      <th>w</th>\n",
       "      <th>h</th>\n",
       "      <th>category_id</th>\n",
       "      <th>score</th>\n",
       "    </tr>\n",
       "  </thead>\n",
       "  <tbody>\n",
       "    <tr>\n",
       "      <th>183</th>\n",
       "      <td>id_7fc9zyfy0e.jpg</td>\n",
       "      <td>2434.29</td>\n",
       "      <td>920.61</td>\n",
       "      <td>93.13</td>\n",
       "      <td>119.26</td>\n",
       "      <td>Trophozoite</td>\n",
       "      <td>0.243</td>\n",
       "    </tr>\n",
       "    <tr>\n",
       "      <th>337</th>\n",
       "      <td>id_dg0icorzno.jpg</td>\n",
       "      <td>560.36</td>\n",
       "      <td>736.58</td>\n",
       "      <td>30.19</td>\n",
       "      <td>28.37</td>\n",
       "      <td>Trophozoite</td>\n",
       "      <td>0.258</td>\n",
       "    </tr>\n",
       "    <tr>\n",
       "      <th>87</th>\n",
       "      <td>id_ytq3slqkjm.jpg</td>\n",
       "      <td>1294.39</td>\n",
       "      <td>277.03</td>\n",
       "      <td>32.35</td>\n",
       "      <td>31.83</td>\n",
       "      <td>Trophozoite</td>\n",
       "      <td>0.340</td>\n",
       "    </tr>\n",
       "    <tr>\n",
       "      <th>496</th>\n",
       "      <td>id_ch6r0g46fr.jpg</td>\n",
       "      <td>921.96</td>\n",
       "      <td>1283.94</td>\n",
       "      <td>74.51</td>\n",
       "      <td>92.50</td>\n",
       "      <td>Trophozoite</td>\n",
       "      <td>0.271</td>\n",
       "    </tr>\n",
       "    <tr>\n",
       "      <th>524</th>\n",
       "      <td>id_ch6r0g46fr.jpg</td>\n",
       "      <td>2596.14</td>\n",
       "      <td>1984.62</td>\n",
       "      <td>82.66</td>\n",
       "      <td>102.40</td>\n",
       "      <td>Trophozoite</td>\n",
       "      <td>0.177</td>\n",
       "    </tr>\n",
       "    <tr>\n",
       "      <th>97</th>\n",
       "      <td>id_ytq3slqkjm.jpg</td>\n",
       "      <td>610.21</td>\n",
       "      <td>895.81</td>\n",
       "      <td>32.43</td>\n",
       "      <td>31.05</td>\n",
       "      <td>Trophozoite</td>\n",
       "      <td>0.317</td>\n",
       "    </tr>\n",
       "    <tr>\n",
       "      <th>737</th>\n",
       "      <td>id_by6e6shi2z.jpg</td>\n",
       "      <td>670.61</td>\n",
       "      <td>424.23</td>\n",
       "      <td>31.86</td>\n",
       "      <td>29.12</td>\n",
       "      <td>Trophozoite</td>\n",
       "      <td>0.274</td>\n",
       "    </tr>\n",
       "    <tr>\n",
       "      <th>733</th>\n",
       "      <td>id_by6e6shi2z.jpg</td>\n",
       "      <td>1518.25</td>\n",
       "      <td>14.19</td>\n",
       "      <td>36.67</td>\n",
       "      <td>32.52</td>\n",
       "      <td>Trophozoite</td>\n",
       "      <td>0.281</td>\n",
       "    </tr>\n",
       "    <tr>\n",
       "      <th>435</th>\n",
       "      <td>id_ezd6x40fd0.jpg</td>\n",
       "      <td>953.66</td>\n",
       "      <td>95.77</td>\n",
       "      <td>29.84</td>\n",
       "      <td>30.36</td>\n",
       "      <td>Trophozoite</td>\n",
       "      <td>0.339</td>\n",
       "    </tr>\n",
       "    <tr>\n",
       "      <th>730</th>\n",
       "      <td>id_by6e6shi2z.jpg</td>\n",
       "      <td>281.32</td>\n",
       "      <td>380.97</td>\n",
       "      <td>35.75</td>\n",
       "      <td>32.89</td>\n",
       "      <td>Trophozoite</td>\n",
       "      <td>0.290</td>\n",
       "    </tr>\n",
       "  </tbody>\n",
       "</table>\n",
       "</div>"
      ],
      "text/plain": [
       "              image_id        x        y      w       h  category_id  score\n",
       "183  id_7fc9zyfy0e.jpg  2434.29   920.61  93.13  119.26  Trophozoite  0.243\n",
       "337  id_dg0icorzno.jpg   560.36   736.58  30.19   28.37  Trophozoite  0.258\n",
       "87   id_ytq3slqkjm.jpg  1294.39   277.03  32.35   31.83  Trophozoite  0.340\n",
       "496  id_ch6r0g46fr.jpg   921.96  1283.94  74.51   92.50  Trophozoite  0.271\n",
       "524  id_ch6r0g46fr.jpg  2596.14  1984.62  82.66  102.40  Trophozoite  0.177\n",
       "97   id_ytq3slqkjm.jpg   610.21   895.81  32.43   31.05  Trophozoite  0.317\n",
       "737  id_by6e6shi2z.jpg   670.61   424.23  31.86   29.12  Trophozoite  0.274\n",
       "733  id_by6e6shi2z.jpg  1518.25    14.19  36.67   32.52  Trophozoite  0.281\n",
       "435  id_ezd6x40fd0.jpg   953.66    95.77  29.84   30.36  Trophozoite  0.339\n",
       "730  id_by6e6shi2z.jpg   281.32   380.97  35.75   32.89  Trophozoite  0.290"
      ]
     },
     "execution_count": 12,
     "metadata": {},
     "output_type": "execute_result"
    }
   ],
   "source": [
    "results.sample(10)"
   ]
  },
  {
   "cell_type": "code",
   "execution_count": 13,
   "metadata": {},
   "outputs": [
    {
     "name": "stderr",
     "output_type": "stream",
     "text": [
      "100%|██████████| 18/18 [01:21<00:00,  4.55s/it]\n"
     ]
    }
   ],
   "source": [
    "batch_size = 16\n",
    "test_images = test[\"image_id\"].unique()\n",
    "results = [\n",
    "\tpredicts(test_images[i : i + batch_size])\n",
    "\tfor i in tqdm(\n",
    "\t\trange(0, len(test_images), batch_size), total=len(test_images) // batch_size + 1\n",
    "\t) if i < len(test_images)\n",
    "]"
   ]
  },
  {
   "cell_type": "code",
   "execution_count": 14,
   "metadata": {},
   "outputs": [],
   "source": [
    "predictions = pd.concat(results, ignore_index=True)"
   ]
  },
  {
   "cell_type": "code",
   "execution_count": 15,
   "metadata": {},
   "outputs": [
    {
     "data": {
      "text/html": [
       "<div>\n",
       "<style scoped>\n",
       "    .dataframe tbody tr th:only-of-type {\n",
       "        vertical-align: middle;\n",
       "    }\n",
       "\n",
       "    .dataframe tbody tr th {\n",
       "        vertical-align: top;\n",
       "    }\n",
       "\n",
       "    .dataframe thead th {\n",
       "        text-align: right;\n",
       "    }\n",
       "</style>\n",
       "<table border=\"1\" class=\"dataframe\">\n",
       "  <thead>\n",
       "    <tr style=\"text-align: right;\">\n",
       "      <th></th>\n",
       "      <th>image_id</th>\n",
       "      <th>x</th>\n",
       "      <th>y</th>\n",
       "      <th>w</th>\n",
       "      <th>h</th>\n",
       "      <th>category_id</th>\n",
       "      <th>score</th>\n",
       "    </tr>\n",
       "  </thead>\n",
       "  <tbody>\n",
       "    <tr>\n",
       "      <th>8754</th>\n",
       "      <td>id_yinirldwcz.jpg</td>\n",
       "      <td>585.17</td>\n",
       "      <td>1614.98</td>\n",
       "      <td>89.65</td>\n",
       "      <td>110.49</td>\n",
       "      <td>Trophozoite</td>\n",
       "      <td>0.339</td>\n",
       "    </tr>\n",
       "    <tr>\n",
       "      <th>4676</th>\n",
       "      <td>id_0nm5i3vtg9.jpg</td>\n",
       "      <td>942.58</td>\n",
       "      <td>699.92</td>\n",
       "      <td>28.72</td>\n",
       "      <td>28.96</td>\n",
       "      <td>Trophozoite</td>\n",
       "      <td>0.300</td>\n",
       "    </tr>\n",
       "    <tr>\n",
       "      <th>7295</th>\n",
       "      <td>id_ebv1caqkrd.jpg</td>\n",
       "      <td>889.37</td>\n",
       "      <td>569.34</td>\n",
       "      <td>29.02</td>\n",
       "      <td>29.16</td>\n",
       "      <td>Trophozoite</td>\n",
       "      <td>0.280</td>\n",
       "    </tr>\n",
       "    <tr>\n",
       "      <th>5218</th>\n",
       "      <td>id_56cm3hgim3.jpg</td>\n",
       "      <td>807.76</td>\n",
       "      <td>2553.06</td>\n",
       "      <td>90.03</td>\n",
       "      <td>118.08</td>\n",
       "      <td>Trophozoite</td>\n",
       "      <td>0.170</td>\n",
       "    </tr>\n",
       "    <tr>\n",
       "      <th>547</th>\n",
       "      <td>id_4cotsn0obm.jpg</td>\n",
       "      <td>1271.22</td>\n",
       "      <td>604.45</td>\n",
       "      <td>33.16</td>\n",
       "      <td>32.78</td>\n",
       "      <td>Trophozoite</td>\n",
       "      <td>0.279</td>\n",
       "    </tr>\n",
       "    <tr>\n",
       "      <th>9006</th>\n",
       "      <td>id_aviegh5t3l.jpg</td>\n",
       "      <td>2360.99</td>\n",
       "      <td>908.14</td>\n",
       "      <td>109.80</td>\n",
       "      <td>145.26</td>\n",
       "      <td>WBC</td>\n",
       "      <td>0.264</td>\n",
       "    </tr>\n",
       "    <tr>\n",
       "      <th>7225</th>\n",
       "      <td>id_igebahf2c3.jpg</td>\n",
       "      <td>1931.81</td>\n",
       "      <td>1969.17</td>\n",
       "      <td>106.52</td>\n",
       "      <td>134.02</td>\n",
       "      <td>Trophozoite</td>\n",
       "      <td>0.077</td>\n",
       "    </tr>\n",
       "    <tr>\n",
       "      <th>10348</th>\n",
       "      <td>id_ynfnpmojzt.jpg</td>\n",
       "      <td>2862.34</td>\n",
       "      <td>1393.12</td>\n",
       "      <td>149.06</td>\n",
       "      <td>176.55</td>\n",
       "      <td>WBC</td>\n",
       "      <td>0.361</td>\n",
       "    </tr>\n",
       "    <tr>\n",
       "      <th>7160</th>\n",
       "      <td>id_55n7okb0sj.jpg</td>\n",
       "      <td>1588.17</td>\n",
       "      <td>521.49</td>\n",
       "      <td>33.23</td>\n",
       "      <td>37.45</td>\n",
       "      <td>Trophozoite</td>\n",
       "      <td>0.093</td>\n",
       "    </tr>\n",
       "    <tr>\n",
       "      <th>7512</th>\n",
       "      <td>id_5283833d2l.jpg</td>\n",
       "      <td>2198.76</td>\n",
       "      <td>461.47</td>\n",
       "      <td>91.93</td>\n",
       "      <td>114.60</td>\n",
       "      <td>Trophozoite</td>\n",
       "      <td>0.180</td>\n",
       "    </tr>\n",
       "  </tbody>\n",
       "</table>\n",
       "</div>"
      ],
      "text/plain": [
       "                image_id        x        y       w       h  category_id  score\n",
       "8754   id_yinirldwcz.jpg   585.17  1614.98   89.65  110.49  Trophozoite  0.339\n",
       "4676   id_0nm5i3vtg9.jpg   942.58   699.92   28.72   28.96  Trophozoite  0.300\n",
       "7295   id_ebv1caqkrd.jpg   889.37   569.34   29.02   29.16  Trophozoite  0.280\n",
       "5218   id_56cm3hgim3.jpg   807.76  2553.06   90.03  118.08  Trophozoite  0.170\n",
       "547    id_4cotsn0obm.jpg  1271.22   604.45   33.16   32.78  Trophozoite  0.279\n",
       "9006   id_aviegh5t3l.jpg  2360.99   908.14  109.80  145.26          WBC  0.264\n",
       "7225   id_igebahf2c3.jpg  1931.81  1969.17  106.52  134.02  Trophozoite  0.077\n",
       "10348  id_ynfnpmojzt.jpg  2862.34  1393.12  149.06  176.55          WBC  0.361\n",
       "7160   id_55n7okb0sj.jpg  1588.17   521.49   33.23   37.45  Trophozoite  0.093\n",
       "7512   id_5283833d2l.jpg  2198.76   461.47   91.93  114.60  Trophozoite  0.180"
      ]
     },
     "execution_count": 15,
     "metadata": {},
     "output_type": "execute_result"
    }
   ],
   "source": [
    "predictions.sample(10)"
   ]
  },
  {
   "cell_type": "code",
   "execution_count": 16,
   "metadata": {},
   "outputs": [
    {
     "data": {
      "text/plain": [
       "category_id\n",
       "Trophozoite    0.825375\n",
       "WBC            0.174625\n",
       "Name: proportion, dtype: float64"
      ]
     },
     "execution_count": 16,
     "metadata": {},
     "output_type": "execute_result"
    }
   ],
   "source": [
    "predictions[\"category_id\"].value_counts(True)"
   ]
  },
  {
   "cell_type": "code",
   "execution_count": 17,
   "metadata": {},
   "outputs": [
    {
     "data": {
      "text/plain": [
       "count    11476.000000\n",
       "mean         0.244534\n",
       "std          0.111838\n",
       "min          0.055000\n",
       "25%          0.156000\n",
       "50%          0.236000\n",
       "75%          0.313000\n",
       "max          0.664000\n",
       "Name: score, dtype: float64"
      ]
     },
     "execution_count": 17,
     "metadata": {},
     "output_type": "execute_result"
    }
   ],
   "source": [
    "predictions[\"score\"].describe()"
   ]
  },
  {
   "cell_type": "code",
   "execution_count": 18,
   "metadata": {},
   "outputs": [
    {
     "data": {
      "text/plain": [
       "'zindi_data/validation/prediction_cond-detr-50_THR0.000_IOU0.400_ID464.csv'"
      ]
     },
     "execution_count": 18,
     "metadata": {},
     "output_type": "execute_result"
    }
   ],
   "source": [
    "f\"zindi_data/validation/prediction_{FILE_NAME}.csv\""
   ]
  },
  {
   "cell_type": "code",
   "execution_count": 19,
   "metadata": {},
   "outputs": [],
   "source": [
    "predictions = predictions.rename(columns={\"x\": \"xmin\", \"y\": \"ymin\"})\n",
    "predictions = predictions.rename(columns={\"category_id\": \"class\", \"image_id\": \"Image_ID\", \"score\": \"confidence\"})\n",
    "\n",
    "predictions[\"xmax\"] = predictions[\"xmin\"] + predictions[\"w\"]\n",
    "predictions[\"ymax\"] = predictions[\"ymin\"] + predictions[\"h\"]\n",
    "\n",
    "predictions.to_csv(f\"zindi_data/validation/prediction_{FILE_NAME}.csv\", index=False)"
   ]
  },
  {
   "cell_type": "code",
   "execution_count": null,
   "metadata": {},
   "outputs": [],
   "source": []
  }
 ],
 "metadata": {
  "kernelspec": {
   "display_name": ".venv",
   "language": "python",
   "name": "python3"
  },
  "language_info": {
   "codemirror_mode": {
    "name": "ipython",
    "version": 3
   },
   "file_extension": ".py",
   "mimetype": "text/x-python",
   "name": "python",
   "nbconvert_exporter": "python",
   "pygments_lexer": "ipython3",
   "version": "3.11.7"
  }
 },
 "nbformat": 4,
 "nbformat_minor": 2
}
