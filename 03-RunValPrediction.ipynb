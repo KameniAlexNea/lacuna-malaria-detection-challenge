{
 "cells": [
  {
   "cell_type": "code",
   "execution_count": 1,
   "metadata": {},
   "outputs": [],
   "source": [
    "import os\n",
    "\n",
    "os.environ[\"CUDA_DEVICE_ORDER\"] = \"PCI_BUS_ID\"\n",
    "os.environ[\"CUDA_VISIBLE_DEVICES\"] = \"0\""
   ]
  },
  {
   "cell_type": "code",
   "execution_count": 2,
   "metadata": {},
   "outputs": [],
   "source": [
    "CHP_ID = \"580\"\n",
    "SUBMODEL = \"cond-detr-50\" # \"cond-detr-50\"\n",
    "MODEL_PATH = f\"logs/model2/checkpoint-{CHP_ID}\"\n",
    "# IMAGE_SHAPE = 1333 _Shape{IMAGE_SHAPE}\n",
    "THR = 0.0\n",
    "iou_threshold = 0.4\n",
    "FILE_NAME = f\"{SUBMODEL}_THR{THR*100:.3f}_IOU{iou_threshold:.3f}_ID{CHP_ID}\""
   ]
  },
  {
   "cell_type": "code",
   "execution_count": 3,
   "metadata": {},
   "outputs": [],
   "source": [
    "from typing import List, Tuple, Union\n",
    "\n",
    "import numpy as np\n",
    "import pandas as pd\n",
    "import torch\n",
    "from PIL import Image\n",
    "from torchvision.ops import nms\n",
    "from tqdm import tqdm\n",
    "from transformers import (AutoImageProcessor, AutoModelForObjectDetection,\n",
    "\t\t\t\t\t\t  ConditionalDetrForObjectDetection,\n",
    "\t\t\t\t\t\t  ConditionalDetrImageProcessor)\n",
    "from transformers.image_transforms import center_to_corners_format\n",
    "from transformers.utils.generic import TensorType\n",
    "\n",
    "from zindi_code import CLS_MAPPER\n",
    "from zindi_code.dataset_class import load_and_format"
   ]
  },
  {
   "cell_type": "code",
   "execution_count": 4,
   "metadata": {},
   "outputs": [
    {
     "data": {
      "text/html": [
       "<div>\n",
       "<style scoped>\n",
       "    .dataframe tbody tr th:only-of-type {\n",
       "        vertical-align: middle;\n",
       "    }\n",
       "\n",
       "    .dataframe tbody tr th {\n",
       "        vertical-align: top;\n",
       "    }\n",
       "\n",
       "    .dataframe thead th {\n",
       "        text-align: right;\n",
       "    }\n",
       "</style>\n",
       "<table border=\"1\" class=\"dataframe\">\n",
       "  <thead>\n",
       "    <tr style=\"text-align: right;\">\n",
       "      <th></th>\n",
       "      <th>image_id</th>\n",
       "      <th>bbox</th>\n",
       "      <th>category_id</th>\n",
       "      <th>id</th>\n",
       "    </tr>\n",
       "  </thead>\n",
       "  <tbody>\n",
       "    <tr>\n",
       "      <th>585</th>\n",
       "      <td>id_6ujuefpy4m.jpg</td>\n",
       "      <td>[619, 89, 657, 119]</td>\n",
       "      <td>0</td>\n",
       "      <td>585</td>\n",
       "    </tr>\n",
       "    <tr>\n",
       "      <th>513</th>\n",
       "      <td>id_i7nitsscaw.jpg</td>\n",
       "      <td>[972, 630, 1033, 689]</td>\n",
       "      <td>1</td>\n",
       "      <td>513</td>\n",
       "    </tr>\n",
       "    <tr>\n",
       "      <th>1583</th>\n",
       "      <td>id_ezd6x40fd0.jpg</td>\n",
       "      <td>[1665, 463, 1701, 495]</td>\n",
       "      <td>0</td>\n",
       "      <td>1583</td>\n",
       "    </tr>\n",
       "    <tr>\n",
       "      <th>1514</th>\n",
       "      <td>id_3xidcn77dw.jpg</td>\n",
       "      <td>[1651, 166, 1721, 238]</td>\n",
       "      <td>1</td>\n",
       "      <td>1514</td>\n",
       "    </tr>\n",
       "    <tr>\n",
       "      <th>77</th>\n",
       "      <td>id_147gpcegp6.jpg</td>\n",
       "      <td>[962, 842, 1082, 940]</td>\n",
       "      <td>0</td>\n",
       "      <td>77</td>\n",
       "    </tr>\n",
       "  </tbody>\n",
       "</table>\n",
       "</div>"
      ],
      "text/plain": [
       "               image_id                    bbox  category_id    id\n",
       "585   id_6ujuefpy4m.jpg     [619, 89, 657, 119]            0   585\n",
       "513   id_i7nitsscaw.jpg   [972, 630, 1033, 689]            1   513\n",
       "1583  id_ezd6x40fd0.jpg  [1665, 463, 1701, 495]            0  1583\n",
       "1514  id_3xidcn77dw.jpg  [1651, 166, 1721, 238]            1  1514\n",
       "77    id_147gpcegp6.jpg   [962, 842, 1082, 940]            0    77"
      ]
     },
     "execution_count": 4,
     "metadata": {},
     "output_type": "execute_result"
    }
   ],
   "source": [
    "\n",
    "image_folder = \"zindi_data/images\"\n",
    "\n",
    "test = load_and_format(\"zindi_data/ValDataset.csv\")\n",
    "test.sample(5)"
   ]
  },
  {
   "cell_type": "code",
   "execution_count": 5,
   "metadata": {},
   "outputs": [],
   "source": [
    "model_pth = MODEL_PATH\n",
    "\n",
    "image_processor: ConditionalDetrImageProcessor = AutoImageProcessor.from_pretrained(\n",
    "\tmodel_pth, use_fast=False,\n",
    ")\n",
    "model: ConditionalDetrForObjectDetection = AutoModelForObjectDetection.from_pretrained(\n",
    "\tmodel_pth\n",
    ")\n",
    "\n",
    "model = model.eval().to(\n",
    "\t\"cuda\"\n",
    ") # .train(False)"
   ]
  },
  {
   "cell_type": "code",
   "execution_count": 6,
   "metadata": {},
   "outputs": [
    {
     "data": {
      "text/plain": [
       "ConditionalDetrImageProcessor {\n",
       "  \"do_convert_annotations\": true,\n",
       "  \"do_normalize\": true,\n",
       "  \"do_pad\": true,\n",
       "  \"do_rescale\": true,\n",
       "  \"do_resize\": true,\n",
       "  \"format\": \"coco_detection\",\n",
       "  \"image_mean\": [\n",
       "    0.485,\n",
       "    0.456,\n",
       "    0.406\n",
       "  ],\n",
       "  \"image_processor_type\": \"ConditionalDetrImageProcessor\",\n",
       "  \"image_std\": [\n",
       "    0.229,\n",
       "    0.224,\n",
       "    0.225\n",
       "  ],\n",
       "  \"pad_size\": {\n",
       "    \"height\": 800,\n",
       "    \"width\": 1333\n",
       "  },\n",
       "  \"resample\": 2,\n",
       "  \"rescale_factor\": 0.00392156862745098,\n",
       "  \"size\": {\n",
       "    \"max_height\": 800,\n",
       "    \"max_width\": 1333\n",
       "  }\n",
       "}"
      ]
     },
     "execution_count": 6,
     "metadata": {},
     "output_type": "execute_result"
    }
   ],
   "source": [
    "image_processor"
   ]
  },
  {
   "cell_type": "code",
   "execution_count": 7,
   "metadata": {},
   "outputs": [
    {
     "data": {
      "text/plain": [
       "{0: 'Trophozoite', 1: 'WBC', 2: 'MASK'}"
      ]
     },
     "execution_count": 7,
     "metadata": {},
     "output_type": "execute_result"
    }
   ],
   "source": [
    "model.config.id2label"
   ]
  },
  {
   "cell_type": "code",
   "execution_count": 8,
   "metadata": {},
   "outputs": [],
   "source": [
    "@torch.inference_mode()\n",
    "def make_prediction(image: Image.Image):\n",
    "    inputs = image_processor(images=[image], return_tensors=\"pt\")\n",
    "    outputs = model(**inputs.to(\"cuda\"))\n",
    "    target_sizes = torch.tensor([[image.size[1], image.size[0]]])\n",
    "    results = image_processor.post_process_object_detection(\n",
    "        outputs, threshold=THR, target_sizes=target_sizes\n",
    "    )[0]\n",
    "    return results\n",
    "\n",
    "\n",
    "def _make_predictions(images: list[Image.Image]):\n",
    "    inputs = image_processor(\n",
    "        images=[np.array(image) for image in images], return_tensors=\"pt\"\n",
    "    ).to(\"cuda\")\n",
    "    # inputs = image_processor.pad(inputs)\n",
    "    outputs = model(**inputs)\n",
    "    target_sizes = torch.tensor([image.size[::-1] for image in images])\n",
    "    return image_processor.post_process_object_detection(\n",
    "        outputs, threshold=THR, target_sizes=target_sizes\n",
    "    )\n",
    "\n",
    "\n",
    "@torch.inference_mode()\n",
    "def make_predictions(images: list[Image.Image]):\n",
    "    predictions = [make_prediction(image) for image in images]\n",
    "    return predictions\n",
    "\n",
    "\n",
    "def load_transform(path: str):\n",
    "    return Image.open(os.path.join(image_folder, path)).convert(\"RGB\")\n",
    "\n",
    "\n",
    "def load_images(image_pths: list[str]):\n",
    "    return [load_transform(image_pth) for image_pth in image_pths]\n",
    "\n",
    "\n",
    "def predicts(image_pths: list[str]):\n",
    "    images = load_images(image_pths)\n",
    "    results = make_predictions(images)\n",
    "    predictions = []\n",
    "    for image_pth, result in zip(image_pths, results):\n",
    "        prediction = []\n",
    "        if len(result[\"boxes\"]):\n",
    "            indices = nms(result[\"boxes\"], result[\"scores\"], iou_threshold)\n",
    "            if not len(indices):\n",
    "                continue\n",
    "            for score, label, box in zip(\n",
    "                result[\"scores\"][indices],\n",
    "                result[\"labels\"][indices],\n",
    "                result[\"boxes\"][indices],\n",
    "            ):\n",
    "                x1, y1, x2, y2 = (round(i, 2) for i in box.tolist())\n",
    "                if label.item() != 2:\n",
    "                    prediction.append(\n",
    "                        [\n",
    "                            image_pth,\n",
    "                            x1,\n",
    "                            y1,\n",
    "                            x2 - x1,\n",
    "                            y2 - y1,\n",
    "                            model.config.id2label[label.item()],\n",
    "                            round(score.item(), 3),\n",
    "                        ]\n",
    "                    )\n",
    "        if not len(prediction):\n",
    "            prediction.append([image_pth, 0, 0, 0, 0, \"NEG\", 1.0])\n",
    "        predictions.extend(prediction)\n",
    "    return pd.DataFrame(\n",
    "        predictions, columns=[\"image_id\", \"x\", \"y\", \"w\", \"h\", \"category_id\", \"score\"]\n",
    "    )"
   ]
  },
  {
   "cell_type": "code",
   "execution_count": 9,
   "metadata": {},
   "outputs": [
    {
     "data": {
      "text/plain": [
       "array(['id_w8xnbd5rvm.jpg', 'id_ytq3slqkjm.jpg', 'id_e20xnaq5qn.jpg',\n",
       "       'id_7fc9zyfy0e.jpg', 'id_6g52lmvz2y.jpg', 'id_z0i61ad0tq.jpg',\n",
       "       'id_55a6sf8hbe.jpg', 'id_dg0icorzno.jpg', 'id_zdg96srigj.jpg',\n",
       "       'id_ezd6x40fd0.jpg', 'id_ch6r0g46fr.jpg', 'id_4cotsn0obm.jpg',\n",
       "       'id_0fdars2kkw.jpg', 'id_4wkzpeu6or.jpg', 'id_idjqlz4ppb.jpg',\n",
       "       'id_by6e6shi2z.jpg'], dtype=object)"
      ]
     },
     "execution_count": 9,
     "metadata": {},
     "output_type": "execute_result"
    }
   ],
   "source": [
    "image_pths = test[\"image_id\"].unique()[:16]\n",
    "image_pths"
   ]
  },
  {
   "cell_type": "code",
   "execution_count": 10,
   "metadata": {},
   "outputs": [],
   "source": [
    "image = load_images([image_pths[0]])[0]\n",
    "inputs = image_processor(images=[image], return_tensors=\"pt\")\n",
    "with torch.inference_mode():\n",
    "\toutputs = model(**inputs.to(\"cuda\"))\n",
    "target_sizes = torch.tensor([[image.size[1], image.size[0]]])"
   ]
  },
  {
   "cell_type": "code",
   "execution_count": 11,
   "metadata": {},
   "outputs": [
    {
     "data": {
      "text/plain": [
       "{'pixel_values': tensor([[[[-1.7240, -1.7583, -1.7240,  ...,  0.0000,  0.0000,  0.0000],\n",
       "          [-1.7583, -1.7069, -1.7069,  ...,  0.0000,  0.0000,  0.0000],\n",
       "          [-1.7583, -1.6898, -1.7583,  ...,  0.0000,  0.0000,  0.0000],\n",
       "          ...,\n",
       "          [-1.9467, -1.9124, -1.8953,  ...,  0.0000,  0.0000,  0.0000],\n",
       "          [-1.9295, -1.9295, -1.9124,  ...,  0.0000,  0.0000,  0.0000],\n",
       "          [-1.9124, -1.9295, -1.9124,  ...,  0.0000,  0.0000,  0.0000]],\n",
       "\n",
       "         [[-1.8256, -1.8431, -1.8081,  ...,  0.0000,  0.0000,  0.0000],\n",
       "          [-1.8606, -1.7906, -1.7731,  ...,  0.0000,  0.0000,  0.0000],\n",
       "          [-1.8606, -1.7731, -1.8256,  ...,  0.0000,  0.0000,  0.0000],\n",
       "          ...,\n",
       "          [-2.0007, -1.9657, -1.9482,  ...,  0.0000,  0.0000,  0.0000],\n",
       "          [-2.0007, -2.0007, -1.9657,  ...,  0.0000,  0.0000,  0.0000],\n",
       "          [-1.9832, -2.0007, -1.9657,  ...,  0.0000,  0.0000,  0.0000]],\n",
       "\n",
       "         [[-1.4907, -1.5081, -1.4559,  ...,  0.0000,  0.0000,  0.0000],\n",
       "          [-1.5604, -1.4733, -1.4384,  ...,  0.0000,  0.0000,  0.0000],\n",
       "          [-1.5779, -1.4907, -1.5430,  ...,  0.0000,  0.0000,  0.0000],\n",
       "          ...,\n",
       "          [-1.7870, -1.7696, -1.7347,  ...,  0.0000,  0.0000,  0.0000],\n",
       "          [-1.7522, -1.7522, -1.7696,  ...,  0.0000,  0.0000,  0.0000],\n",
       "          [-1.7347, -1.7522, -1.7696,  ...,  0.0000,  0.0000,  0.0000]]]],\n",
       "       device='cuda:0'), 'pixel_mask': tensor([[[1, 1, 1,  ..., 0, 0, 0],\n",
       "         [1, 1, 1,  ..., 0, 0, 0],\n",
       "         [1, 1, 1,  ..., 0, 0, 0],\n",
       "         ...,\n",
       "         [1, 1, 1,  ..., 0, 0, 0],\n",
       "         [1, 1, 1,  ..., 0, 0, 0],\n",
       "         [1, 1, 1,  ..., 0, 0, 0]]], device='cuda:0')}"
      ]
     },
     "execution_count": 11,
     "metadata": {},
     "output_type": "execute_result"
    }
   ],
   "source": [
    "inputs"
   ]
  },
  {
   "cell_type": "code",
   "execution_count": 12,
   "metadata": {},
   "outputs": [
    {
     "data": {
      "text/plain": [
       "torch.Size([1, 800, 1333])"
      ]
     },
     "execution_count": 12,
     "metadata": {},
     "output_type": "execute_result"
    }
   ],
   "source": [
    "inputs[\"pixel_mask\"].shape"
   ]
  },
  {
   "cell_type": "code",
   "execution_count": 13,
   "metadata": {},
   "outputs": [
    {
     "data": {
      "text/plain": [
       "torch.Size([1, 3, 800, 1333])"
      ]
     },
     "execution_count": 13,
     "metadata": {},
     "output_type": "execute_result"
    }
   ],
   "source": [
    "inputs[\"pixel_values\"].shape"
   ]
  },
  {
   "cell_type": "code",
   "execution_count": 14,
   "metadata": {},
   "outputs": [
    {
     "data": {
      "text/plain": [
       "torch.Size([800, 1333])"
      ]
     },
     "execution_count": 14,
     "metadata": {},
     "output_type": "execute_result"
    }
   ],
   "source": [
    "inputs[\"pixel_values\"][0, 0].shape"
   ]
  },
  {
   "cell_type": "code",
   "execution_count": 15,
   "metadata": {},
   "outputs": [
    {
     "data": {
      "text/plain": [
       "tensor(1069, device='cuda:0')"
      ]
     },
     "execution_count": 15,
     "metadata": {},
     "output_type": "execute_result"
    }
   ],
   "source": [
    "inputs[\"pixel_mask\"][0, 0].sum()"
   ]
  },
  {
   "cell_type": "code",
   "execution_count": 16,
   "metadata": {},
   "outputs": [
    {
     "data": {
      "text/plain": [
       "(4032, 3016)"
      ]
     },
     "execution_count": 16,
     "metadata": {},
     "output_type": "execute_result"
    }
   ],
   "source": [
    "image.size"
   ]
  },
  {
   "cell_type": "code",
   "execution_count": 17,
   "metadata": {},
   "outputs": [
    {
     "data": {
      "text/plain": [
       "tensor([[[0.5330, 0.2409, 0.2261],\n",
       "         [0.6431, 0.1797, 0.1772],\n",
       "         [0.3508, 0.3056, 0.3436],\n",
       "         [0.7310, 0.1203, 0.1487],\n",
       "         [0.3790, 0.3061, 0.3149],\n",
       "         [0.5801, 0.1888, 0.2311],\n",
       "         [0.6157, 0.1811, 0.2032],\n",
       "         [0.4695, 0.2456, 0.2849],\n",
       "         [0.6175, 0.1955, 0.1870],\n",
       "         [0.6577, 0.1849, 0.1574],\n",
       "         [0.7480, 0.1218, 0.1301],\n",
       "         [0.6071, 0.1839, 0.2090],\n",
       "         [0.4473, 0.2655, 0.2873],\n",
       "         [0.3217, 0.3293, 0.3490],\n",
       "         [0.6479, 0.1731, 0.1790],\n",
       "         [0.7343, 0.1412, 0.1245],\n",
       "         [0.4905, 0.2351, 0.2744],\n",
       "         [0.3634, 0.3101, 0.3265],\n",
       "         [0.6656, 0.1763, 0.1581],\n",
       "         [0.3692, 0.2964, 0.3344],\n",
       "         [0.6655, 0.1738, 0.1607],\n",
       "         [0.4801, 0.2225, 0.2974],\n",
       "         [0.6621, 0.1572, 0.1807],\n",
       "         [0.7489, 0.1310, 0.1201],\n",
       "         [0.7201, 0.1336, 0.1463],\n",
       "         [0.4986, 0.2393, 0.2621],\n",
       "         [0.7264, 0.1317, 0.1419],\n",
       "         [0.7327, 0.1524, 0.1150],\n",
       "         [0.5890, 0.1927, 0.2183],\n",
       "         [0.7130, 0.1422, 0.1448],\n",
       "         [0.4534, 0.2607, 0.2859],\n",
       "         [0.3183, 0.3309, 0.3507],\n",
       "         [0.3451, 0.3132, 0.3417],\n",
       "         [0.6574, 0.1787, 0.1639],\n",
       "         [0.3949, 0.2898, 0.3153],\n",
       "         [0.5802, 0.2705, 0.1493],\n",
       "         [0.3177, 0.3260, 0.3564],\n",
       "         [0.4684, 0.2717, 0.2599],\n",
       "         [0.3571, 0.3163, 0.3266],\n",
       "         [0.3362, 0.3200, 0.3438],\n",
       "         [0.4690, 0.2600, 0.2710],\n",
       "         [0.5170, 0.2326, 0.2504],\n",
       "         [0.6011, 0.1779, 0.2210],\n",
       "         [0.7636, 0.1193, 0.1171],\n",
       "         [0.4307, 0.2560, 0.3133],\n",
       "         [0.3346, 0.3167, 0.3487],\n",
       "         [0.7586, 0.1250, 0.1164],\n",
       "         [0.7609, 0.1190, 0.1201],\n",
       "         [0.5777, 0.1853, 0.2370],\n",
       "         [0.6380, 0.1601, 0.2019],\n",
       "         [0.7076, 0.1437, 0.1487],\n",
       "         [0.7498, 0.1308, 0.1194],\n",
       "         [0.6523, 0.1679, 0.1798],\n",
       "         [0.7161, 0.1347, 0.1492],\n",
       "         [0.7476, 0.1371, 0.1153],\n",
       "         [0.3931, 0.3068, 0.3001],\n",
       "         [0.6515, 0.1800, 0.1685],\n",
       "         [0.3191, 0.3262, 0.3547],\n",
       "         [0.5865, 0.1729, 0.2407],\n",
       "         [0.3975, 0.3033, 0.2991],\n",
       "         [0.7394, 0.1296, 0.1310],\n",
       "         [0.3278, 0.3241, 0.3481],\n",
       "         [0.6445, 0.1513, 0.2042],\n",
       "         [0.3230, 0.3280, 0.3490],\n",
       "         [0.6204, 0.1864, 0.1932],\n",
       "         [0.6717, 0.1566, 0.1717],\n",
       "         [0.7147, 0.1294, 0.1559],\n",
       "         [0.4752, 0.2588, 0.2660],\n",
       "         [0.7109, 0.1369, 0.1523],\n",
       "         [0.7505, 0.1281, 0.1214],\n",
       "         [0.4893, 0.2457, 0.2650],\n",
       "         [0.3757, 0.3072, 0.3171],\n",
       "         [0.3242, 0.3297, 0.3461],\n",
       "         [0.3445, 0.2973, 0.3582],\n",
       "         [0.6445, 0.1695, 0.1860],\n",
       "         [0.7074, 0.1520, 0.1406],\n",
       "         [0.5920, 0.1905, 0.2174],\n",
       "         [0.6887, 0.1409, 0.1704],\n",
       "         [0.7498, 0.1198, 0.1303],\n",
       "         [0.7357, 0.1311, 0.1332],\n",
       "         [0.3200, 0.3189, 0.3611],\n",
       "         [0.6611, 0.1701, 0.1688],\n",
       "         [0.6026, 0.1706, 0.2268],\n",
       "         [0.6094, 0.1638, 0.2267],\n",
       "         [0.4197, 0.2680, 0.3123],\n",
       "         [0.7206, 0.1520, 0.1274],\n",
       "         [0.4096, 0.2884, 0.3021],\n",
       "         [0.5990, 0.1925, 0.2085],\n",
       "         [0.7147, 0.1469, 0.1384],\n",
       "         [0.3120, 0.3542, 0.3338],\n",
       "         [0.4432, 0.2645, 0.2924],\n",
       "         [0.3296, 0.3245, 0.3460],\n",
       "         [0.5329, 0.2281, 0.2390],\n",
       "         [0.3808, 0.3031, 0.3162],\n",
       "         [0.3243, 0.3318, 0.3439],\n",
       "         [0.3258, 0.3195, 0.3547],\n",
       "         [0.3128, 0.3363, 0.3509],\n",
       "         [0.6075, 0.1861, 0.2063],\n",
       "         [0.6023, 0.1984, 0.1994],\n",
       "         [0.4153, 0.2893, 0.2954],\n",
       "         [0.6596, 0.1574, 0.1830],\n",
       "         [0.4092, 0.2852, 0.3056],\n",
       "         [0.3894, 0.3421, 0.2685],\n",
       "         [0.6217, 0.1641, 0.2142],\n",
       "         [0.5708, 0.1949, 0.2343],\n",
       "         [0.6852, 0.1330, 0.1818],\n",
       "         [0.5866, 0.1829, 0.2306],\n",
       "         [0.3075, 0.3399, 0.3527],\n",
       "         [0.3069, 0.3433, 0.3498],\n",
       "         [0.3442, 0.4299, 0.2259],\n",
       "         [0.3541, 0.3218, 0.3241],\n",
       "         [0.4049, 0.2862, 0.3089],\n",
       "         [0.7535, 0.1215, 0.1249],\n",
       "         [0.3998, 0.2800, 0.3202],\n",
       "         [0.7348, 0.1280, 0.1372],\n",
       "         [0.6326, 0.1576, 0.2099],\n",
       "         [0.7595, 0.1253, 0.1152],\n",
       "         [0.6988, 0.1448, 0.1564],\n",
       "         [0.6480, 0.1775, 0.1745],\n",
       "         [0.6252, 0.1802, 0.1946],\n",
       "         [0.7586, 0.1148, 0.1266],\n",
       "         [0.4114, 0.3251, 0.2634],\n",
       "         [0.7349, 0.1294, 0.1357],\n",
       "         [0.5047, 0.2256, 0.2697],\n",
       "         [0.7478, 0.1210, 0.1312],\n",
       "         [0.3896, 0.2932, 0.3172],\n",
       "         [0.7246, 0.1265, 0.1489],\n",
       "         [0.7786, 0.1145, 0.1069],\n",
       "         [0.7250, 0.1321, 0.1429],\n",
       "         [0.4592, 0.2336, 0.3072],\n",
       "         [0.5612, 0.1949, 0.2438],\n",
       "         [0.6718, 0.1680, 0.1602],\n",
       "         [0.6583, 0.1646, 0.1770],\n",
       "         [0.6041, 0.1887, 0.2072],\n",
       "         [0.3723, 0.3344, 0.2933],\n",
       "         [0.6087, 0.1839, 0.2075],\n",
       "         [0.6014, 0.1984, 0.2001],\n",
       "         [0.5661, 0.2056, 0.2283],\n",
       "         [0.5805, 0.1768, 0.2427],\n",
       "         [0.6089, 0.1924, 0.1987],\n",
       "         [0.7177, 0.1356, 0.1467],\n",
       "         [0.6307, 0.1710, 0.1983],\n",
       "         [0.7512, 0.1334, 0.1154],\n",
       "         [0.3907, 0.2967, 0.3126],\n",
       "         [0.6142, 0.2103, 0.1755],\n",
       "         [0.7362, 0.1373, 0.1265],\n",
       "         [0.6669, 0.1760, 0.1572],\n",
       "         [0.3776, 0.2953, 0.3270],\n",
       "         [0.7195, 0.1375, 0.1430],\n",
       "         [0.3811, 0.2867, 0.3322],\n",
       "         [0.6198, 0.1722, 0.2080],\n",
       "         [0.6928, 0.1607, 0.1465],\n",
       "         [0.7129, 0.1407, 0.1463],\n",
       "         [0.4634, 0.2630, 0.2736],\n",
       "         [0.7203, 0.1298, 0.1500],\n",
       "         [0.6938, 0.1503, 0.1559],\n",
       "         [0.6348, 0.1631, 0.2021],\n",
       "         [0.3714, 0.3019, 0.3267],\n",
       "         [0.7583, 0.1207, 0.1210],\n",
       "         [0.7721, 0.1180, 0.1099],\n",
       "         [0.3801, 0.2994, 0.3205],\n",
       "         [0.5900, 0.1879, 0.2221],\n",
       "         [0.6314, 0.1742, 0.1944],\n",
       "         [0.7428, 0.1358, 0.1214],\n",
       "         [0.4265, 0.2880, 0.2855],\n",
       "         [0.6463, 0.1881, 0.1657],\n",
       "         [0.3240, 0.3203, 0.3557],\n",
       "         [0.7009, 0.1642, 0.1350],\n",
       "         [0.1721, 0.7468, 0.0811],\n",
       "         [0.5862, 0.1897, 0.2241],\n",
       "         [0.3257, 0.3232, 0.3511],\n",
       "         [0.4021, 0.2848, 0.3130],\n",
       "         [0.3530, 0.3072, 0.3398],\n",
       "         [0.5980, 0.2057, 0.1963],\n",
       "         [0.5266, 0.2659, 0.2075],\n",
       "         [0.5622, 0.1746, 0.2631],\n",
       "         [0.4436, 0.2469, 0.3095],\n",
       "         [0.4579, 0.2397, 0.3024],\n",
       "         [0.5114, 0.2424, 0.2462],\n",
       "         [0.3657, 0.3013, 0.3330],\n",
       "         [0.4476, 0.2632, 0.2892],\n",
       "         [0.7035, 0.1475, 0.1490],\n",
       "         [0.7189, 0.1466, 0.1345],\n",
       "         [0.3808, 0.2942, 0.3249],\n",
       "         [0.6646, 0.1578, 0.1776],\n",
       "         [0.7164, 0.1507, 0.1330],\n",
       "         [0.6287, 0.1825, 0.1888],\n",
       "         [0.4665, 0.2530, 0.2804],\n",
       "         [0.3567, 0.3039, 0.3394],\n",
       "         [0.4585, 0.2550, 0.2865],\n",
       "         [0.5975, 0.2054, 0.1971],\n",
       "         [0.6393, 0.1641, 0.1966],\n",
       "         [0.5598, 0.1975, 0.2428],\n",
       "         [0.3907, 0.2823, 0.3270],\n",
       "         [0.7382, 0.1392, 0.1227],\n",
       "         [0.6653, 0.1613, 0.1734],\n",
       "         [0.7632, 0.1205, 0.1163],\n",
       "         [0.6649, 0.1814, 0.1537],\n",
       "         [0.3025, 0.3334, 0.3640],\n",
       "         [0.7336, 0.1282, 0.1382],\n",
       "         [0.3454, 0.3157, 0.3390],\n",
       "         [0.4548, 0.2509, 0.2943],\n",
       "         [0.3316, 0.3231, 0.3452],\n",
       "         [0.5814, 0.2422, 0.1764],\n",
       "         [0.3373, 0.3163, 0.3464],\n",
       "         [0.3816, 0.3006, 0.3178],\n",
       "         [0.7085, 0.1367, 0.1548],\n",
       "         [0.4432, 0.2956, 0.2612],\n",
       "         [0.3563, 0.2990, 0.3447],\n",
       "         [0.5927, 0.1723, 0.2351],\n",
       "         [0.6198, 0.1808, 0.1994],\n",
       "         [0.4841, 0.2443, 0.2715],\n",
       "         [0.6291, 0.1695, 0.2014],\n",
       "         [0.6299, 0.1861, 0.1840],\n",
       "         [0.4865, 0.2289, 0.2846],\n",
       "         [0.7434, 0.1329, 0.1237],\n",
       "         [0.6540, 0.1586, 0.1874],\n",
       "         [0.6020, 0.1899, 0.2081],\n",
       "         [0.6061, 0.1934, 0.2004],\n",
       "         [0.7283, 0.1345, 0.1371],\n",
       "         [0.7287, 0.1444, 0.1270],\n",
       "         [0.5065, 0.2344, 0.2591],\n",
       "         [0.4542, 0.2197, 0.3262],\n",
       "         [0.4918, 0.2366, 0.2716],\n",
       "         [0.6287, 0.1637, 0.2076],\n",
       "         [0.3140, 0.3341, 0.3519],\n",
       "         [0.5625, 0.2301, 0.2074],\n",
       "         [0.7136, 0.1492, 0.1372],\n",
       "         [0.7081, 0.1468, 0.1451],\n",
       "         [0.2960, 0.3601, 0.3439],\n",
       "         [0.4115, 0.2730, 0.3155],\n",
       "         [0.5894, 0.1879, 0.2227],\n",
       "         [0.7008, 0.1499, 0.1493],\n",
       "         [0.6089, 0.1660, 0.2250],\n",
       "         [0.3151, 0.3261, 0.3589],\n",
       "         [0.5912, 0.2061, 0.2027],\n",
       "         [0.3600, 0.3043, 0.3357],\n",
       "         [0.3247, 0.3253, 0.3500],\n",
       "         [0.3361, 0.3118, 0.3521],\n",
       "         [0.6374, 0.1849, 0.1777],\n",
       "         [0.3839, 0.3041, 0.3120],\n",
       "         [0.7082, 0.1323, 0.1596],\n",
       "         [0.6875, 0.1573, 0.1552],\n",
       "         [0.6888, 0.1458, 0.1653],\n",
       "         [0.7434, 0.1362, 0.1204],\n",
       "         [0.6761, 0.1619, 0.1619],\n",
       "         [0.4715, 0.2313, 0.2972],\n",
       "         [0.6797, 0.1435, 0.1768],\n",
       "         [0.3195, 0.3273, 0.3531],\n",
       "         [0.4753, 0.2368, 0.2879],\n",
       "         [0.6280, 0.1691, 0.2030],\n",
       "         [0.6795, 0.1602, 0.1603],\n",
       "         [0.5388, 0.2191, 0.2421],\n",
       "         [0.7117, 0.1422, 0.1461],\n",
       "         [0.6515, 0.1573, 0.1912],\n",
       "         [0.4337, 0.2750, 0.2914],\n",
       "         [0.3322, 0.3207, 0.3472],\n",
       "         [0.6008, 0.1930, 0.2063],\n",
       "         [0.3357, 0.3275, 0.3368],\n",
       "         [0.6359, 0.1768, 0.1873],\n",
       "         [0.4256, 0.2825, 0.2919],\n",
       "         [0.6058, 0.1676, 0.2265],\n",
       "         [0.5814, 0.2016, 0.2170],\n",
       "         [0.3500, 0.3160, 0.3340],\n",
       "         [0.7355, 0.1286, 0.1359],\n",
       "         [0.3319, 0.3184, 0.3497],\n",
       "         [0.5557, 0.1994, 0.2448],\n",
       "         [0.4367, 0.2605, 0.3028],\n",
       "         [0.6060, 0.1829, 0.2111],\n",
       "         [0.5919, 0.1929, 0.2152],\n",
       "         [0.5726, 0.2121, 0.2154],\n",
       "         [0.3372, 0.3188, 0.3440],\n",
       "         [0.6681, 0.1670, 0.1648],\n",
       "         [0.4738, 0.2445, 0.2817],\n",
       "         [0.3647, 0.2978, 0.3375],\n",
       "         [0.3161, 0.3239, 0.3601],\n",
       "         [0.4316, 0.2789, 0.2895],\n",
       "         [0.5207, 0.2380, 0.2413],\n",
       "         [0.6726, 0.1491, 0.1783],\n",
       "         [0.4427, 0.2644, 0.2929],\n",
       "         [0.6097, 0.2041, 0.1862],\n",
       "         [0.3197, 0.3189, 0.3614],\n",
       "         [0.5851, 0.2134, 0.2015],\n",
       "         [0.6097, 0.1717, 0.2186],\n",
       "         [0.7306, 0.1308, 0.1385],\n",
       "         [0.3129, 0.3404, 0.3467],\n",
       "         [0.3552, 0.3478, 0.2969],\n",
       "         [0.6402, 0.1594, 0.2004],\n",
       "         [0.3925, 0.3457, 0.2618],\n",
       "         [0.2994, 0.3537, 0.3469],\n",
       "         [0.7000, 0.1446, 0.1554],\n",
       "         [0.6931, 0.1502, 0.1567],\n",
       "         [0.3547, 0.3103, 0.3350],\n",
       "         [0.6206, 0.1706, 0.2089],\n",
       "         [0.5911, 0.2018, 0.2071],\n",
       "         [0.5153, 0.2296, 0.2551],\n",
       "         [0.6633, 0.1549, 0.1819],\n",
       "         [0.6064, 0.1756, 0.2180],\n",
       "         [0.3316, 0.3235, 0.3449],\n",
       "         [0.4608, 0.2606, 0.2786]]], device='cuda:0')"
      ]
     },
     "execution_count": 17,
     "metadata": {},
     "output_type": "execute_result"
    }
   ],
   "source": [
    "outputs.logits.softmax(dim=2)"
   ]
  },
  {
   "cell_type": "code",
   "execution_count": 18,
   "metadata": {},
   "outputs": [],
   "source": [
    "results = predicts(image_pths)"
   ]
  },
  {
   "cell_type": "code",
   "execution_count": 19,
   "metadata": {},
   "outputs": [
    {
     "data": {
      "text/plain": [
       "category_id\n",
       "Trophozoite    598\n",
       "WBC             91\n",
       "Name: count, dtype: int64"
      ]
     },
     "execution_count": 19,
     "metadata": {},
     "output_type": "execute_result"
    }
   ],
   "source": [
    "results[\"category_id\"].value_counts()"
   ]
  },
  {
   "cell_type": "code",
   "execution_count": 20,
   "metadata": {},
   "outputs": [
    {
     "data": {
      "text/html": [
       "<div>\n",
       "<style scoped>\n",
       "    .dataframe tbody tr th:only-of-type {\n",
       "        vertical-align: middle;\n",
       "    }\n",
       "\n",
       "    .dataframe tbody tr th {\n",
       "        vertical-align: top;\n",
       "    }\n",
       "\n",
       "    .dataframe thead th {\n",
       "        text-align: right;\n",
       "    }\n",
       "</style>\n",
       "<table border=\"1\" class=\"dataframe\">\n",
       "  <thead>\n",
       "    <tr style=\"text-align: right;\">\n",
       "      <th></th>\n",
       "      <th>image_id</th>\n",
       "      <th>x</th>\n",
       "      <th>y</th>\n",
       "      <th>w</th>\n",
       "      <th>h</th>\n",
       "      <th>category_id</th>\n",
       "      <th>score</th>\n",
       "    </tr>\n",
       "  </thead>\n",
       "  <tbody>\n",
       "    <tr>\n",
       "      <th>380</th>\n",
       "      <td>id_zdg96srigj.jpg</td>\n",
       "      <td>1724.18</td>\n",
       "      <td>275.62</td>\n",
       "      <td>33.28</td>\n",
       "      <td>32.81</td>\n",
       "      <td>Trophozoite</td>\n",
       "      <td>0.304</td>\n",
       "    </tr>\n",
       "    <tr>\n",
       "      <th>569</th>\n",
       "      <td>id_4wkzpeu6or.jpg</td>\n",
       "      <td>2375.10</td>\n",
       "      <td>2762.81</td>\n",
       "      <td>84.09</td>\n",
       "      <td>107.10</td>\n",
       "      <td>Trophozoite</td>\n",
       "      <td>0.322</td>\n",
       "    </tr>\n",
       "    <tr>\n",
       "      <th>464</th>\n",
       "      <td>id_ch6r0g46fr.jpg</td>\n",
       "      <td>1101.46</td>\n",
       "      <td>214.43</td>\n",
       "      <td>77.33</td>\n",
       "      <td>94.46</td>\n",
       "      <td>Trophozoite</td>\n",
       "      <td>0.313</td>\n",
       "    </tr>\n",
       "    <tr>\n",
       "      <th>662</th>\n",
       "      <td>id_by6e6shi2z.jpg</td>\n",
       "      <td>518.17</td>\n",
       "      <td>436.08</td>\n",
       "      <td>34.51</td>\n",
       "      <td>31.71</td>\n",
       "      <td>Trophozoite</td>\n",
       "      <td>0.351</td>\n",
       "    </tr>\n",
       "    <tr>\n",
       "      <th>650</th>\n",
       "      <td>id_by6e6shi2z.jpg</td>\n",
       "      <td>932.57</td>\n",
       "      <td>489.53</td>\n",
       "      <td>36.40</td>\n",
       "      <td>36.93</td>\n",
       "      <td>Trophozoite</td>\n",
       "      <td>0.420</td>\n",
       "    </tr>\n",
       "    <tr>\n",
       "      <th>320</th>\n",
       "      <td>id_dg0icorzno.jpg</td>\n",
       "      <td>923.50</td>\n",
       "      <td>985.12</td>\n",
       "      <td>43.15</td>\n",
       "      <td>27.71</td>\n",
       "      <td>Trophozoite</td>\n",
       "      <td>0.110</td>\n",
       "    </tr>\n",
       "    <tr>\n",
       "      <th>376</th>\n",
       "      <td>id_zdg96srigj.jpg</td>\n",
       "      <td>784.55</td>\n",
       "      <td>109.06</td>\n",
       "      <td>34.82</td>\n",
       "      <td>33.93</td>\n",
       "      <td>Trophozoite</td>\n",
       "      <td>0.319</td>\n",
       "    </tr>\n",
       "    <tr>\n",
       "      <th>72</th>\n",
       "      <td>id_ytq3slqkjm.jpg</td>\n",
       "      <td>1295.77</td>\n",
       "      <td>276.19</td>\n",
       "      <td>33.97</td>\n",
       "      <td>32.08</td>\n",
       "      <td>Trophozoite</td>\n",
       "      <td>0.445</td>\n",
       "    </tr>\n",
       "    <tr>\n",
       "      <th>565</th>\n",
       "      <td>id_4wkzpeu6or.jpg</td>\n",
       "      <td>2312.87</td>\n",
       "      <td>854.95</td>\n",
       "      <td>86.38</td>\n",
       "      <td>109.81</td>\n",
       "      <td>Trophozoite</td>\n",
       "      <td>0.366</td>\n",
       "    </tr>\n",
       "    <tr>\n",
       "      <th>624</th>\n",
       "      <td>id_idjqlz4ppb.jpg</td>\n",
       "      <td>1103.62</td>\n",
       "      <td>1668.38</td>\n",
       "      <td>75.73</td>\n",
       "      <td>91.91</td>\n",
       "      <td>Trophozoite</td>\n",
       "      <td>0.138</td>\n",
       "    </tr>\n",
       "  </tbody>\n",
       "</table>\n",
       "</div>"
      ],
      "text/plain": [
       "              image_id        x        y      w       h  category_id  score\n",
       "380  id_zdg96srigj.jpg  1724.18   275.62  33.28   32.81  Trophozoite  0.304\n",
       "569  id_4wkzpeu6or.jpg  2375.10  2762.81  84.09  107.10  Trophozoite  0.322\n",
       "464  id_ch6r0g46fr.jpg  1101.46   214.43  77.33   94.46  Trophozoite  0.313\n",
       "662  id_by6e6shi2z.jpg   518.17   436.08  34.51   31.71  Trophozoite  0.351\n",
       "650  id_by6e6shi2z.jpg   932.57   489.53  36.40   36.93  Trophozoite  0.420\n",
       "320  id_dg0icorzno.jpg   923.50   985.12  43.15   27.71  Trophozoite  0.110\n",
       "376  id_zdg96srigj.jpg   784.55   109.06  34.82   33.93  Trophozoite  0.319\n",
       "72   id_ytq3slqkjm.jpg  1295.77   276.19  33.97   32.08  Trophozoite  0.445\n",
       "565  id_4wkzpeu6or.jpg  2312.87   854.95  86.38  109.81  Trophozoite  0.366\n",
       "624  id_idjqlz4ppb.jpg  1103.62  1668.38  75.73   91.91  Trophozoite  0.138"
      ]
     },
     "execution_count": 20,
     "metadata": {},
     "output_type": "execute_result"
    }
   ],
   "source": [
    "results.sample(10)"
   ]
  },
  {
   "cell_type": "code",
   "execution_count": 21,
   "metadata": {},
   "outputs": [
    {
     "name": "stderr",
     "output_type": "stream",
     "text": [
      "100%|██████████| 18/18 [01:20<00:00,  4.48s/it]\n"
     ]
    }
   ],
   "source": [
    "batch_size = 16\n",
    "test_images = test[\"image_id\"].unique()\n",
    "results = [\n",
    "\tpredicts(test_images[i : i + batch_size])\n",
    "\tfor i in tqdm(\n",
    "\t\trange(0, len(test_images), batch_size), total=len(test_images) // batch_size + 1\n",
    "\t) if i < len(test_images)\n",
    "]"
   ]
  },
  {
   "cell_type": "code",
   "execution_count": 22,
   "metadata": {},
   "outputs": [],
   "source": [
    "predictions = pd.concat(results, ignore_index=True)"
   ]
  },
  {
   "cell_type": "code",
   "execution_count": 23,
   "metadata": {},
   "outputs": [
    {
     "data": {
      "text/html": [
       "<div>\n",
       "<style scoped>\n",
       "    .dataframe tbody tr th:only-of-type {\n",
       "        vertical-align: middle;\n",
       "    }\n",
       "\n",
       "    .dataframe tbody tr th {\n",
       "        vertical-align: top;\n",
       "    }\n",
       "\n",
       "    .dataframe thead th {\n",
       "        text-align: right;\n",
       "    }\n",
       "</style>\n",
       "<table border=\"1\" class=\"dataframe\">\n",
       "  <thead>\n",
       "    <tr style=\"text-align: right;\">\n",
       "      <th></th>\n",
       "      <th>image_id</th>\n",
       "      <th>x</th>\n",
       "      <th>y</th>\n",
       "      <th>w</th>\n",
       "      <th>h</th>\n",
       "      <th>category_id</th>\n",
       "      <th>score</th>\n",
       "    </tr>\n",
       "  </thead>\n",
       "  <tbody>\n",
       "    <tr>\n",
       "      <th>8931</th>\n",
       "      <td>id_oheo90515w.jpg</td>\n",
       "      <td>2676.14</td>\n",
       "      <td>798.00</td>\n",
       "      <td>233.63</td>\n",
       "      <td>219.09</td>\n",
       "      <td>WBC</td>\n",
       "      <td>0.328</td>\n",
       "    </tr>\n",
       "    <tr>\n",
       "      <th>3081</th>\n",
       "      <td>id_4svm2mbojb.jpg</td>\n",
       "      <td>2378.95</td>\n",
       "      <td>236.00</td>\n",
       "      <td>95.84</td>\n",
       "      <td>108.56</td>\n",
       "      <td>Trophozoite</td>\n",
       "      <td>0.229</td>\n",
       "    </tr>\n",
       "    <tr>\n",
       "      <th>2486</th>\n",
       "      <td>id_ndhdv3wuvg.jpg</td>\n",
       "      <td>1164.99</td>\n",
       "      <td>2.12</td>\n",
       "      <td>73.15</td>\n",
       "      <td>36.67</td>\n",
       "      <td>WBC</td>\n",
       "      <td>0.239</td>\n",
       "    </tr>\n",
       "    <tr>\n",
       "      <th>8009</th>\n",
       "      <td>id_aviegh5t3l.jpg</td>\n",
       "      <td>2238.38</td>\n",
       "      <td>1119.67</td>\n",
       "      <td>77.44</td>\n",
       "      <td>97.50</td>\n",
       "      <td>Trophozoite</td>\n",
       "      <td>0.123</td>\n",
       "    </tr>\n",
       "    <tr>\n",
       "      <th>9940</th>\n",
       "      <td>id_gf1jjrs2ig.jpg</td>\n",
       "      <td>1655.77</td>\n",
       "      <td>1631.21</td>\n",
       "      <td>73.91</td>\n",
       "      <td>90.58</td>\n",
       "      <td>Trophozoite</td>\n",
       "      <td>0.221</td>\n",
       "    </tr>\n",
       "    <tr>\n",
       "      <th>6097</th>\n",
       "      <td>id_oc5se3b1wo.jpg</td>\n",
       "      <td>458.94</td>\n",
       "      <td>2003.40</td>\n",
       "      <td>84.80</td>\n",
       "      <td>106.79</td>\n",
       "      <td>Trophozoite</td>\n",
       "      <td>0.393</td>\n",
       "    </tr>\n",
       "    <tr>\n",
       "      <th>9602</th>\n",
       "      <td>id_5cmiy2xmxy.jpg</td>\n",
       "      <td>1929.12</td>\n",
       "      <td>1093.55</td>\n",
       "      <td>76.98</td>\n",
       "      <td>91.29</td>\n",
       "      <td>Trophozoite</td>\n",
       "      <td>0.238</td>\n",
       "    </tr>\n",
       "    <tr>\n",
       "      <th>1814</th>\n",
       "      <td>id_jl93f5rtzc.jpg</td>\n",
       "      <td>429.22</td>\n",
       "      <td>332.77</td>\n",
       "      <td>32.89</td>\n",
       "      <td>31.61</td>\n",
       "      <td>Trophozoite</td>\n",
       "      <td>0.399</td>\n",
       "    </tr>\n",
       "    <tr>\n",
       "      <th>1460</th>\n",
       "      <td>id_6ujuefpy4m.jpg</td>\n",
       "      <td>339.66</td>\n",
       "      <td>438.34</td>\n",
       "      <td>32.30</td>\n",
       "      <td>30.40</td>\n",
       "      <td>Trophozoite</td>\n",
       "      <td>0.338</td>\n",
       "    </tr>\n",
       "    <tr>\n",
       "      <th>4699</th>\n",
       "      <td>id_jtsa3ltfpf.jpg</td>\n",
       "      <td>1136.69</td>\n",
       "      <td>749.91</td>\n",
       "      <td>33.95</td>\n",
       "      <td>32.82</td>\n",
       "      <td>Trophozoite</td>\n",
       "      <td>0.336</td>\n",
       "    </tr>\n",
       "  </tbody>\n",
       "</table>\n",
       "</div>"
      ],
      "text/plain": [
       "               image_id        x        y       w       h  category_id  score\n",
       "8931  id_oheo90515w.jpg  2676.14   798.00  233.63  219.09          WBC  0.328\n",
       "3081  id_4svm2mbojb.jpg  2378.95   236.00   95.84  108.56  Trophozoite  0.229\n",
       "2486  id_ndhdv3wuvg.jpg  1164.99     2.12   73.15   36.67          WBC  0.239\n",
       "8009  id_aviegh5t3l.jpg  2238.38  1119.67   77.44   97.50  Trophozoite  0.123\n",
       "9940  id_gf1jjrs2ig.jpg  1655.77  1631.21   73.91   90.58  Trophozoite  0.221\n",
       "6097  id_oc5se3b1wo.jpg   458.94  2003.40   84.80  106.79  Trophozoite  0.393\n",
       "9602  id_5cmiy2xmxy.jpg  1929.12  1093.55   76.98   91.29  Trophozoite  0.238\n",
       "1814  id_jl93f5rtzc.jpg   429.22   332.77   32.89   31.61  Trophozoite  0.399\n",
       "1460  id_6ujuefpy4m.jpg   339.66   438.34   32.30   30.40  Trophozoite  0.338\n",
       "4699  id_jtsa3ltfpf.jpg  1136.69   749.91   33.95   32.82  Trophozoite  0.336"
      ]
     },
     "execution_count": 23,
     "metadata": {},
     "output_type": "execute_result"
    }
   ],
   "source": [
    "predictions.sample(10)"
   ]
  },
  {
   "cell_type": "code",
   "execution_count": 24,
   "metadata": {},
   "outputs": [
    {
     "data": {
      "text/plain": [
       "category_id\n",
       "Trophozoite    0.816655\n",
       "WBC            0.183345\n",
       "Name: proportion, dtype: float64"
      ]
     },
     "execution_count": 24,
     "metadata": {},
     "output_type": "execute_result"
    }
   ],
   "source": [
    "predictions[\"category_id\"].value_counts(True)"
   ]
  },
  {
   "cell_type": "code",
   "execution_count": 25,
   "metadata": {},
   "outputs": [
    {
     "data": {
      "text/plain": [
       "count    10003.000000\n",
       "mean         0.263023\n",
       "std          0.133959\n",
       "min          0.046000\n",
       "25%          0.147500\n",
       "50%          0.254000\n",
       "75%          0.355500\n",
       "max          0.694000\n",
       "Name: score, dtype: float64"
      ]
     },
     "execution_count": 25,
     "metadata": {},
     "output_type": "execute_result"
    }
   ],
   "source": [
    "predictions[\"score\"].describe()"
   ]
  },
  {
   "cell_type": "code",
   "execution_count": 26,
   "metadata": {},
   "outputs": [
    {
     "data": {
      "text/plain": [
       "'zindi_data/validation/prediction_cond-detr-50_THR0.000_IOU0.400_ID580.csv'"
      ]
     },
     "execution_count": 26,
     "metadata": {},
     "output_type": "execute_result"
    }
   ],
   "source": [
    "f\"zindi_data/validation/prediction_{FILE_NAME}.csv\""
   ]
  },
  {
   "cell_type": "code",
   "execution_count": 27,
   "metadata": {},
   "outputs": [],
   "source": [
    "predictions = predictions.rename(columns={\"x\": \"xmin\", \"y\": \"ymin\"})\n",
    "predictions = predictions.rename(columns={\"category_id\": \"class\", \"image_id\": \"Image_ID\", \"score\": \"confidence\"})\n",
    "\n",
    "predictions[\"xmax\"] = predictions[\"xmin\"] + predictions[\"w\"]\n",
    "predictions[\"ymax\"] = predictions[\"ymin\"] + predictions[\"h\"]\n",
    "\n",
    "predictions.to_csv(f\"zindi_data/validation/prediction_{FILE_NAME}.csv\", index=False)"
   ]
  },
  {
   "cell_type": "code",
   "execution_count": null,
   "metadata": {},
   "outputs": [],
   "source": []
  }
 ],
 "metadata": {
  "kernelspec": {
   "display_name": ".venv",
   "language": "python",
   "name": "python3"
  },
  "language_info": {
   "codemirror_mode": {
    "name": "ipython",
    "version": 3
   },
   "file_extension": ".py",
   "mimetype": "text/x-python",
   "name": "python",
   "nbconvert_exporter": "python",
   "pygments_lexer": "ipython3",
   "version": "3.11.7"
  }
 },
 "nbformat": 4,
 "nbformat_minor": 2
}
