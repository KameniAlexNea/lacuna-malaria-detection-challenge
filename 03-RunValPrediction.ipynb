{
 "cells": [
  {
   "cell_type": "code",
   "execution_count": 1,
   "metadata": {},
   "outputs": [],
   "source": [
    "import os\n",
    "\n",
    "os.environ[\"CUDA_DEVICE_ORDER\"] = \"PCI_BUS_ID\"\n",
    "os.environ[\"CUDA_VISIBLE_DEVICES\"] = \"0\""
   ]
  },
  {
   "cell_type": "code",
   "execution_count": 2,
   "metadata": {},
   "outputs": [],
   "source": [
    "CHP_ID = \"3016\"\n",
    "SUBMODEL = \"cond-detr-50\" # \"cond-detr-50\"\n",
    "MODEL_PATH = f\"logs/model2/checkpoint-{CHP_ID}\"\n",
    "# IMAGE_SHAPE = 1333 _Shape{IMAGE_SHAPE}\n",
    "THR = 0.0\n",
    "iou_threshold = 0.8\n",
    "FILE_NAME = f\"{SUBMODEL}_THR{THR*100:.3f}_IOU{iou_threshold:.3f}_ID{CHP_ID}\""
   ]
  },
  {
   "cell_type": "code",
   "execution_count": 3,
   "metadata": {},
   "outputs": [],
   "source": [
    "from typing import List, Tuple, Union\n",
    "\n",
    "import numpy as np\n",
    "import pandas as pd\n",
    "import torch\n",
    "from PIL import Image\n",
    "from torchvision.ops import nms\n",
    "from tqdm import tqdm\n",
    "from transformers import (AutoImageProcessor, AutoModelForObjectDetection,\n",
    "\t\t\t\t\t\t  ConditionalDetrForObjectDetection,\n",
    "\t\t\t\t\t\t  ConditionalDetrImageProcessor)\n",
    "\n",
    "from zindi_code import CLS_MAPPER\n",
    "from zindi_code.dataset_class import load_and_format"
   ]
  },
  {
   "cell_type": "code",
   "execution_count": 4,
   "metadata": {},
   "outputs": [
    {
     "data": {
      "text/html": [
       "<div>\n",
       "<style scoped>\n",
       "    .dataframe tbody tr th:only-of-type {\n",
       "        vertical-align: middle;\n",
       "    }\n",
       "\n",
       "    .dataframe tbody tr th {\n",
       "        vertical-align: top;\n",
       "    }\n",
       "\n",
       "    .dataframe thead th {\n",
       "        text-align: right;\n",
       "    }\n",
       "</style>\n",
       "<table border=\"1\" class=\"dataframe\">\n",
       "  <thead>\n",
       "    <tr style=\"text-align: right;\">\n",
       "      <th></th>\n",
       "      <th>image_id</th>\n",
       "      <th>bbox</th>\n",
       "      <th>category_id</th>\n",
       "      <th>id</th>\n",
       "    </tr>\n",
       "  </thead>\n",
       "  <tbody>\n",
       "    <tr>\n",
       "      <th>223</th>\n",
       "      <td>id_qk46xf80l5.jpg</td>\n",
       "      <td>[798, 293, 830, 333]</td>\n",
       "      <td>0</td>\n",
       "      <td>223</td>\n",
       "    </tr>\n",
       "    <tr>\n",
       "      <th>1284</th>\n",
       "      <td>id_kbanzvtryi.jpg</td>\n",
       "      <td>[2059, 1744, 2138, 1829]</td>\n",
       "      <td>0</td>\n",
       "      <td>1284</td>\n",
       "    </tr>\n",
       "    <tr>\n",
       "      <th>1779</th>\n",
       "      <td>id_ytq3slqkjm.jpg</td>\n",
       "      <td>[967, 8, 999, 38]</td>\n",
       "      <td>0</td>\n",
       "      <td>1779</td>\n",
       "    </tr>\n",
       "    <tr>\n",
       "      <th>930</th>\n",
       "      <td>id_jl93f5rtzc.jpg</td>\n",
       "      <td>[460, 609, 486, 635]</td>\n",
       "      <td>0</td>\n",
       "      <td>930</td>\n",
       "    </tr>\n",
       "    <tr>\n",
       "      <th>1860</th>\n",
       "      <td>id_ezd6x40fd0.jpg</td>\n",
       "      <td>[1500, 218, 1570, 314]</td>\n",
       "      <td>1</td>\n",
       "      <td>1860</td>\n",
       "    </tr>\n",
       "  </tbody>\n",
       "</table>\n",
       "</div>"
      ],
      "text/plain": [
       "               image_id                      bbox  category_id    id\n",
       "223   id_qk46xf80l5.jpg      [798, 293, 830, 333]            0   223\n",
       "1284  id_kbanzvtryi.jpg  [2059, 1744, 2138, 1829]            0  1284\n",
       "1779  id_ytq3slqkjm.jpg         [967, 8, 999, 38]            0  1779\n",
       "930   id_jl93f5rtzc.jpg      [460, 609, 486, 635]            0   930\n",
       "1860  id_ezd6x40fd0.jpg    [1500, 218, 1570, 314]            1  1860"
      ]
     },
     "execution_count": 4,
     "metadata": {},
     "output_type": "execute_result"
    }
   ],
   "source": [
    "\n",
    "image_folder = \"zindi_data/images\"\n",
    "\n",
    "test = load_and_format(\"zindi_data/ValDataset.csv\")\n",
    "test.sample(5)"
   ]
  },
  {
   "cell_type": "code",
   "execution_count": 5,
   "metadata": {},
   "outputs": [],
   "source": [
    "model_pth = MODEL_PATH\n",
    "\n",
    "image_processor: ConditionalDetrImageProcessor = AutoImageProcessor.from_pretrained(\n",
    "\tmodel_pth, use_fast=False,\n",
    ")\n",
    "model: ConditionalDetrForObjectDetection = AutoModelForObjectDetection.from_pretrained(\n",
    "\tmodel_pth\n",
    ")\n",
    "\n",
    "model = model.eval().to(\n",
    "\t\"cuda\"\n",
    ") # .train(False)"
   ]
  },
  {
   "cell_type": "code",
   "execution_count": 6,
   "metadata": {},
   "outputs": [
    {
     "data": {
      "text/plain": [
       "ConditionalDetrImageProcessor {\n",
       "  \"do_convert_annotations\": true,\n",
       "  \"do_normalize\": true,\n",
       "  \"do_pad\": true,\n",
       "  \"do_rescale\": true,\n",
       "  \"do_resize\": true,\n",
       "  \"format\": \"coco_detection\",\n",
       "  \"image_mean\": [\n",
       "    0.485,\n",
       "    0.456,\n",
       "    0.406\n",
       "  ],\n",
       "  \"image_processor_type\": \"ConditionalDetrImageProcessor\",\n",
       "  \"image_std\": [\n",
       "    0.229,\n",
       "    0.224,\n",
       "    0.225\n",
       "  ],\n",
       "  \"pad_size\": {\n",
       "    \"height\": 800,\n",
       "    \"width\": 1333\n",
       "  },\n",
       "  \"resample\": 2,\n",
       "  \"rescale_factor\": 0.00392156862745098,\n",
       "  \"size\": {\n",
       "    \"max_height\": 800,\n",
       "    \"max_width\": 1333\n",
       "  }\n",
       "}"
      ]
     },
     "execution_count": 6,
     "metadata": {},
     "output_type": "execute_result"
    }
   ],
   "source": [
    "image_processor"
   ]
  },
  {
   "cell_type": "code",
   "execution_count": 7,
   "metadata": {},
   "outputs": [
    {
     "data": {
      "text/plain": [
       "{0: 'Trophozoite', 1: 'WBC', 2: 'MASK'}"
      ]
     },
     "execution_count": 7,
     "metadata": {},
     "output_type": "execute_result"
    }
   ],
   "source": [
    "model.config.id2label"
   ]
  },
  {
   "cell_type": "code",
   "execution_count": 8,
   "metadata": {},
   "outputs": [],
   "source": [
    "@torch.inference_mode()\n",
    "def make_prediction(image: Image.Image):\n",
    "    inputs = image_processor(images=[image], return_tensors=\"pt\")\n",
    "    outputs = model(**inputs.to(\"cuda\"))\n",
    "    target_sizes = torch.tensor([[image.size[1], image.size[0]]])\n",
    "    results = image_processor.post_process_object_detection(\n",
    "        outputs, threshold=THR, target_sizes=target_sizes\n",
    "    )[0]\n",
    "    return results\n",
    "\n",
    "\n",
    "def _make_predictions(images: list[Image.Image]):\n",
    "    inputs = image_processor(\n",
    "        images=[np.array(image) for image in images], return_tensors=\"pt\"\n",
    "    ).to(\"cuda\")\n",
    "    # inputs = image_processor.pad(inputs)\n",
    "    outputs = model(**inputs)\n",
    "    target_sizes = torch.tensor([image.size[::-1] for image in images])\n",
    "    return image_processor.post_process_object_detection(\n",
    "        outputs, threshold=THR, target_sizes=target_sizes\n",
    "    )\n",
    "\n",
    "\n",
    "@torch.inference_mode()\n",
    "def make_predictions(images: list[Image.Image]):\n",
    "    predictions = [make_prediction(image) for image in images]\n",
    "    return predictions\n",
    "\n",
    "\n",
    "def load_transform(path: str):\n",
    "    return Image.open(os.path.join(image_folder, path)).convert(\"RGB\")\n",
    "\n",
    "\n",
    "def load_images(image_pths: list[str]):\n",
    "    return [load_transform(image_pth) for image_pth in image_pths]\n",
    "\n",
    "\n",
    "def predicts(image_pths: list[str]):\n",
    "    images = load_images(image_pths)\n",
    "    results = make_predictions(images)\n",
    "    predictions = []\n",
    "    for image_pth, result in zip(image_pths, results):\n",
    "        prediction = []\n",
    "        if len(result[\"boxes\"]):\n",
    "            indices = nms(result[\"boxes\"], result[\"scores\"], iou_threshold)\n",
    "            if not len(indices):\n",
    "                continue\n",
    "            for score, label, box in zip(\n",
    "                result[\"scores\"][indices],\n",
    "                result[\"labels\"][indices],\n",
    "                result[\"boxes\"][indices],\n",
    "            ):\n",
    "                x1, y1, x2, y2 = (round(i, 2) for i in box.tolist())\n",
    "                if label.item() != 2:\n",
    "                    prediction.append(\n",
    "                        [\n",
    "                            image_pth,\n",
    "                            x1,\n",
    "                            y1,\n",
    "                            x2 - x1,\n",
    "                            y2 - y1,\n",
    "                            model.config.id2label[label.item()],\n",
    "                            round(score.item(), 3),\n",
    "                        ]\n",
    "                    )\n",
    "        if not len(prediction):\n",
    "            prediction.append([image_pth, 0, 0, 0, 0, \"NEG\", 1.0])\n",
    "        predictions.extend(prediction)\n",
    "    return pd.DataFrame(\n",
    "        predictions, columns=[\"image_id\", \"x\", \"y\", \"w\", \"h\", \"category_id\", \"score\"]\n",
    "    )"
   ]
  },
  {
   "cell_type": "code",
   "execution_count": 9,
   "metadata": {},
   "outputs": [
    {
     "data": {
      "text/plain": [
       "array(['id_w8xnbd5rvm.jpg', 'id_ytq3slqkjm.jpg', 'id_e20xnaq5qn.jpg',\n",
       "       'id_7fc9zyfy0e.jpg', 'id_6g52lmvz2y.jpg', 'id_z0i61ad0tq.jpg',\n",
       "       'id_55a6sf8hbe.jpg', 'id_dg0icorzno.jpg', 'id_zdg96srigj.jpg',\n",
       "       'id_ezd6x40fd0.jpg', 'id_ch6r0g46fr.jpg', 'id_4cotsn0obm.jpg',\n",
       "       'id_0fdars2kkw.jpg', 'id_4wkzpeu6or.jpg', 'id_idjqlz4ppb.jpg',\n",
       "       'id_by6e6shi2z.jpg'], dtype=object)"
      ]
     },
     "execution_count": 9,
     "metadata": {},
     "output_type": "execute_result"
    }
   ],
   "source": [
    "image_pths = test[\"image_id\"].unique()[:16]\n",
    "image_pths"
   ]
  },
  {
   "cell_type": "code",
   "execution_count": 10,
   "metadata": {},
   "outputs": [],
   "source": [
    "image = load_images([image_pths[0]])[0]\n",
    "inputs = image_processor(images=[image], return_tensors=\"pt\")\n",
    "with torch.inference_mode():\n",
    "\toutputs = model(**inputs.to(\"cuda\"))\n",
    "target_sizes = torch.tensor([[image.size[1], image.size[0]]])"
   ]
  },
  {
   "cell_type": "code",
   "execution_count": 11,
   "metadata": {},
   "outputs": [
    {
     "data": {
      "text/plain": [
       "{'pixel_values': tensor([[[[-1.7240, -1.7583, -1.7240,  ...,  0.0000,  0.0000,  0.0000],\n",
       "          [-1.7583, -1.7069, -1.7069,  ...,  0.0000,  0.0000,  0.0000],\n",
       "          [-1.7583, -1.6898, -1.7583,  ...,  0.0000,  0.0000,  0.0000],\n",
       "          ...,\n",
       "          [-1.9467, -1.9124, -1.8953,  ...,  0.0000,  0.0000,  0.0000],\n",
       "          [-1.9295, -1.9295, -1.9124,  ...,  0.0000,  0.0000,  0.0000],\n",
       "          [-1.9124, -1.9295, -1.9124,  ...,  0.0000,  0.0000,  0.0000]],\n",
       "\n",
       "         [[-1.8256, -1.8431, -1.8081,  ...,  0.0000,  0.0000,  0.0000],\n",
       "          [-1.8606, -1.7906, -1.7731,  ...,  0.0000,  0.0000,  0.0000],\n",
       "          [-1.8606, -1.7731, -1.8256,  ...,  0.0000,  0.0000,  0.0000],\n",
       "          ...,\n",
       "          [-2.0007, -1.9657, -1.9482,  ...,  0.0000,  0.0000,  0.0000],\n",
       "          [-2.0007, -2.0007, -1.9657,  ...,  0.0000,  0.0000,  0.0000],\n",
       "          [-1.9832, -2.0007, -1.9657,  ...,  0.0000,  0.0000,  0.0000]],\n",
       "\n",
       "         [[-1.4907, -1.5081, -1.4559,  ...,  0.0000,  0.0000,  0.0000],\n",
       "          [-1.5604, -1.4733, -1.4384,  ...,  0.0000,  0.0000,  0.0000],\n",
       "          [-1.5779, -1.4907, -1.5430,  ...,  0.0000,  0.0000,  0.0000],\n",
       "          ...,\n",
       "          [-1.7870, -1.7696, -1.7347,  ...,  0.0000,  0.0000,  0.0000],\n",
       "          [-1.7522, -1.7522, -1.7696,  ...,  0.0000,  0.0000,  0.0000],\n",
       "          [-1.7347, -1.7522, -1.7696,  ...,  0.0000,  0.0000,  0.0000]]]],\n",
       "       device='cuda:0'), 'pixel_mask': tensor([[[1, 1, 1,  ..., 0, 0, 0],\n",
       "         [1, 1, 1,  ..., 0, 0, 0],\n",
       "         [1, 1, 1,  ..., 0, 0, 0],\n",
       "         ...,\n",
       "         [1, 1, 1,  ..., 0, 0, 0],\n",
       "         [1, 1, 1,  ..., 0, 0, 0],\n",
       "         [1, 1, 1,  ..., 0, 0, 0]]], device='cuda:0')}"
      ]
     },
     "execution_count": 11,
     "metadata": {},
     "output_type": "execute_result"
    }
   ],
   "source": [
    "inputs"
   ]
  },
  {
   "cell_type": "code",
   "execution_count": 12,
   "metadata": {},
   "outputs": [
    {
     "data": {
      "text/plain": [
       "torch.Size([1, 800, 1333])"
      ]
     },
     "execution_count": 12,
     "metadata": {},
     "output_type": "execute_result"
    }
   ],
   "source": [
    "inputs[\"pixel_mask\"].shape"
   ]
  },
  {
   "cell_type": "code",
   "execution_count": 13,
   "metadata": {},
   "outputs": [
    {
     "data": {
      "text/plain": [
       "torch.Size([1, 3, 800, 1333])"
      ]
     },
     "execution_count": 13,
     "metadata": {},
     "output_type": "execute_result"
    }
   ],
   "source": [
    "inputs[\"pixel_values\"].shape"
   ]
  },
  {
   "cell_type": "code",
   "execution_count": 14,
   "metadata": {},
   "outputs": [
    {
     "data": {
      "text/plain": [
       "torch.Size([800, 1333])"
      ]
     },
     "execution_count": 14,
     "metadata": {},
     "output_type": "execute_result"
    }
   ],
   "source": [
    "inputs[\"pixel_values\"][0, 0].shape"
   ]
  },
  {
   "cell_type": "code",
   "execution_count": 15,
   "metadata": {},
   "outputs": [
    {
     "data": {
      "text/plain": [
       "tensor(1069, device='cuda:0')"
      ]
     },
     "execution_count": 15,
     "metadata": {},
     "output_type": "execute_result"
    }
   ],
   "source": [
    "inputs[\"pixel_mask\"][0, 0].sum()"
   ]
  },
  {
   "cell_type": "code",
   "execution_count": 16,
   "metadata": {},
   "outputs": [
    {
     "data": {
      "text/plain": [
       "(4032, 3016)"
      ]
     },
     "execution_count": 16,
     "metadata": {},
     "output_type": "execute_result"
    }
   ],
   "source": [
    "image.size"
   ]
  },
  {
   "cell_type": "code",
   "execution_count": 17,
   "metadata": {},
   "outputs": [
    {
     "data": {
      "text/plain": [
       "tensor([[[0.5217, 0.3054, 0.1730],\n",
       "         [0.5916, 0.2551, 0.1533],\n",
       "         [0.3758, 0.3197, 0.3045],\n",
       "         [0.8536, 0.0739, 0.0725],\n",
       "         [0.4017, 0.3240, 0.2743],\n",
       "         [0.4723, 0.2872, 0.2405],\n",
       "         [0.4747, 0.2626, 0.2627],\n",
       "         [0.6498, 0.1830, 0.1672],\n",
       "         [0.7178, 0.1757, 0.1065],\n",
       "         [0.4051, 0.3267, 0.2681],\n",
       "         [0.7028, 0.1487, 0.1484],\n",
       "         [0.6054, 0.2310, 0.1636],\n",
       "         [0.4628, 0.2905, 0.2467],\n",
       "         [0.3302, 0.3164, 0.3534],\n",
       "         [0.4835, 0.2875, 0.2290],\n",
       "         [0.6716, 0.1593, 0.1692],\n",
       "         [0.6055, 0.2141, 0.1803],\n",
       "         [0.4753, 0.2899, 0.2348],\n",
       "         [0.5965, 0.2534, 0.1501],\n",
       "         [0.5205, 0.2732, 0.2064],\n",
       "         [0.5840, 0.2003, 0.2157],\n",
       "         [0.4671, 0.2525, 0.2804],\n",
       "         [0.6274, 0.2240, 0.1486],\n",
       "         [0.7137, 0.1776, 0.1087],\n",
       "         [0.7357, 0.1457, 0.1186],\n",
       "         [0.6156, 0.2583, 0.1260],\n",
       "         [0.7659, 0.1497, 0.0843],\n",
       "         [0.5469, 0.2863, 0.1668],\n",
       "         [0.5330, 0.2490, 0.2180],\n",
       "         [0.5644, 0.2079, 0.2277],\n",
       "         [0.4511, 0.2692, 0.2797],\n",
       "         [0.3246, 0.3176, 0.3578],\n",
       "         [0.4783, 0.2879, 0.2339],\n",
       "         [0.6287, 0.1990, 0.1723],\n",
       "         [0.4371, 0.2993, 0.2636],\n",
       "         [0.3107, 0.5725, 0.1168],\n",
       "         [0.3497, 0.3188, 0.3316],\n",
       "         [0.5263, 0.2374, 0.2363],\n",
       "         [0.3781, 0.3170, 0.3049],\n",
       "         [0.3726, 0.3151, 0.3123],\n",
       "         [0.4442, 0.2918, 0.2640],\n",
       "         [0.4077, 0.3135, 0.2788],\n",
       "         [0.4412, 0.2558, 0.3029],\n",
       "         [0.8565, 0.0741, 0.0694],\n",
       "         [0.5865, 0.1714, 0.2420],\n",
       "         [0.4045, 0.3164, 0.2792],\n",
       "         [0.6829, 0.1534, 0.1636],\n",
       "         [0.8760, 0.0650, 0.0590],\n",
       "         [0.5175, 0.2793, 0.2032],\n",
       "         [0.6038, 0.1877, 0.2085],\n",
       "         [0.5920, 0.2019, 0.2061],\n",
       "         [0.8367, 0.1043, 0.0590],\n",
       "         [0.4033, 0.2955, 0.3012],\n",
       "         [0.5583, 0.1890, 0.2527],\n",
       "         [0.8319, 0.0978, 0.0703],\n",
       "         [0.4210, 0.3011, 0.2779],\n",
       "         [0.4230, 0.2351, 0.3419],\n",
       "         [0.3484, 0.3337, 0.3179],\n",
       "         [0.6006, 0.1732, 0.2261],\n",
       "         [0.4112, 0.3018, 0.2870],\n",
       "         [0.8570, 0.0798, 0.0632],\n",
       "         [0.3871, 0.3113, 0.3017],\n",
       "         [0.6363, 0.1846, 0.1791],\n",
       "         [0.3445, 0.3136, 0.3420],\n",
       "         [0.8500, 0.0784, 0.0716],\n",
       "         [0.6449, 0.1902, 0.1650],\n",
       "         [0.5065, 0.2349, 0.2587],\n",
       "         [0.4835, 0.3261, 0.1903],\n",
       "         [0.8146, 0.0986, 0.0869],\n",
       "         [0.6558, 0.1803, 0.1639],\n",
       "         [0.7468, 0.1273, 0.1259],\n",
       "         [0.4334, 0.2979, 0.2688],\n",
       "         [0.3479, 0.3202, 0.3318],\n",
       "         [0.5512, 0.2273, 0.2215],\n",
       "         [0.4194, 0.3106, 0.2700],\n",
       "         [0.7604, 0.1257, 0.1139],\n",
       "         [0.6021, 0.1918, 0.2061],\n",
       "         [0.5377, 0.2651, 0.1972],\n",
       "         [0.8115, 0.1090, 0.0795],\n",
       "         [0.8528, 0.0867, 0.0605],\n",
       "         [0.4497, 0.2283, 0.3220],\n",
       "         [0.5474, 0.2713, 0.1813],\n",
       "         [0.6030, 0.2237, 0.1733],\n",
       "         [0.4839, 0.2282, 0.2879],\n",
       "         [0.4648, 0.2852, 0.2500],\n",
       "         [0.7975, 0.1203, 0.0822],\n",
       "         [0.3464, 0.3295, 0.3241],\n",
       "         [0.6976, 0.1680, 0.1344],\n",
       "         [0.5452, 0.2525, 0.2023],\n",
       "         [0.3883, 0.3122, 0.2995],\n",
       "         [0.6688, 0.1739, 0.1573],\n",
       "         [0.3732, 0.3192, 0.3076],\n",
       "         [0.5892, 0.1954, 0.2154],\n",
       "         [0.3941, 0.3058, 0.3001],\n",
       "         [0.3319, 0.3344, 0.3337],\n",
       "         [0.4131, 0.3004, 0.2865],\n",
       "         [0.3220, 0.3260, 0.3520],\n",
       "         [0.5846, 0.2249, 0.1904],\n",
       "         [0.6250, 0.2402, 0.1347],\n",
       "         [0.3970, 0.3386, 0.2644],\n",
       "         [0.4106, 0.2888, 0.3006],\n",
       "         [0.4633, 0.2954, 0.2413],\n",
       "         [0.3734, 0.3201, 0.3064],\n",
       "         [0.7382, 0.1624, 0.0994],\n",
       "         [0.5224, 0.2590, 0.2186],\n",
       "         [0.6433, 0.1660, 0.1908],\n",
       "         [0.8039, 0.1028, 0.0934],\n",
       "         [0.3333, 0.3212, 0.3455],\n",
       "         [0.3585, 0.3132, 0.3283],\n",
       "         [0.0429, 0.9290, 0.0281],\n",
       "         [0.3378, 0.3144, 0.3478],\n",
       "         [0.4689, 0.2560, 0.2750],\n",
       "         [0.6530, 0.1820, 0.1650],\n",
       "         [0.4129, 0.2836, 0.3035],\n",
       "         [0.6277, 0.1822, 0.1900],\n",
       "         [0.5401, 0.2904, 0.1695],\n",
       "         [0.6858, 0.1495, 0.1647],\n",
       "         [0.6590, 0.1602, 0.1808],\n",
       "         [0.6636, 0.1990, 0.1374],\n",
       "         [0.4840, 0.2297, 0.2863],\n",
       "         [0.8443, 0.0828, 0.0730],\n",
       "         [0.5491, 0.2792, 0.1717],\n",
       "         [0.8154, 0.1070, 0.0776],\n",
       "         [0.5670, 0.2248, 0.2081],\n",
       "         [0.8554, 0.0792, 0.0653],\n",
       "         [0.4726, 0.2819, 0.2455],\n",
       "         [0.7406, 0.1512, 0.1082],\n",
       "         [0.7496, 0.1471, 0.1033],\n",
       "         [0.8000, 0.1080, 0.0919],\n",
       "         [0.5257, 0.2486, 0.2256],\n",
       "         [0.5865, 0.1836, 0.2299],\n",
       "         [0.5658, 0.2646, 0.1696],\n",
       "         [0.6155, 0.2135, 0.1710],\n",
       "         [0.5756, 0.2723, 0.1521],\n",
       "         [0.3770, 0.3278, 0.2952],\n",
       "         [0.6251, 0.2203, 0.1546],\n",
       "         [0.3429, 0.3163, 0.3408],\n",
       "         [0.4565, 0.2943, 0.2491],\n",
       "         [0.5926, 0.1688, 0.2386],\n",
       "         [0.6655, 0.2165, 0.1180],\n",
       "         [0.8242, 0.0920, 0.0838],\n",
       "         [0.6812, 0.1880, 0.1308],\n",
       "         [0.7132, 0.1512, 0.1357],\n",
       "         [0.4091, 0.2981, 0.2928],\n",
       "         [0.7374, 0.1604, 0.1022],\n",
       "         [0.6077, 0.1967, 0.1957],\n",
       "         [0.5555, 0.2662, 0.1783],\n",
       "         [0.4689, 0.2791, 0.2520],\n",
       "         [0.4771, 0.2370, 0.2859],\n",
       "         [0.4540, 0.2437, 0.3023],\n",
       "         [0.4902, 0.2504, 0.2595],\n",
       "         [0.6403, 0.1980, 0.1617],\n",
       "         [0.7592, 0.1356, 0.1053],\n",
       "         [0.4262, 0.3066, 0.2671],\n",
       "         [0.6560, 0.1779, 0.1661],\n",
       "         [0.5611, 0.2306, 0.2083],\n",
       "         [0.5427, 0.2425, 0.2148],\n",
       "         [0.3750, 0.3176, 0.3074],\n",
       "         [0.7590, 0.1344, 0.1066],\n",
       "         [0.8932, 0.0609, 0.0459],\n",
       "         [0.3519, 0.2995, 0.3486],\n",
       "         [0.6129, 0.1944, 0.1928],\n",
       "         [0.4622, 0.3276, 0.2102],\n",
       "         [0.6963, 0.1743, 0.1294],\n",
       "         [0.5031, 0.2717, 0.2251],\n",
       "         [0.6306, 0.1909, 0.1786],\n",
       "         [0.3483, 0.3193, 0.3324],\n",
       "         [0.6207, 0.2029, 0.1764],\n",
       "         [0.3487, 0.3682, 0.2830],\n",
       "         [0.6843, 0.1845, 0.1312],\n",
       "         [0.3548, 0.3202, 0.3250],\n",
       "         [0.5434, 0.2717, 0.1849],\n",
       "         [0.3887, 0.3134, 0.2979],\n",
       "         [0.5629, 0.2220, 0.2152],\n",
       "         [0.2745, 0.5522, 0.1734],\n",
       "         [0.7772, 0.1439, 0.0789],\n",
       "         [0.4451, 0.2842, 0.2708],\n",
       "         [0.3934, 0.3193, 0.2873],\n",
       "         [0.5048, 0.2256, 0.2695],\n",
       "         [0.5543, 0.2570, 0.1888],\n",
       "         [0.6481, 0.1874, 0.1645],\n",
       "         [0.7594, 0.1417, 0.0989],\n",
       "         [0.6796, 0.1694, 0.1510],\n",
       "         [0.4944, 0.2545, 0.2511],\n",
       "         [0.6381, 0.1942, 0.1677],\n",
       "         [0.5744, 0.1917, 0.2339],\n",
       "         [0.4273, 0.2449, 0.3277],\n",
       "         [0.5511, 0.2581, 0.1908],\n",
       "         [0.3565, 0.3070, 0.3365],\n",
       "         [0.4547, 0.2720, 0.2733],\n",
       "         [0.4596, 0.3067, 0.2337],\n",
       "         [0.6110, 0.1928, 0.1963],\n",
       "         [0.6691, 0.1773, 0.1537],\n",
       "         [0.8582, 0.0823, 0.0596],\n",
       "         [0.6727, 0.2252, 0.1021],\n",
       "         [0.7151, 0.1697, 0.1152],\n",
       "         [0.8317, 0.0985, 0.0698],\n",
       "         [0.7077, 0.1875, 0.1049],\n",
       "         [0.4958, 0.2075, 0.2967],\n",
       "         [0.7303, 0.1647, 0.1050],\n",
       "         [0.3718, 0.3298, 0.2984],\n",
       "         [0.5691, 0.2158, 0.2151],\n",
       "         [0.3411, 0.3305, 0.3284],\n",
       "         [0.6731, 0.1870, 0.1400],\n",
       "         [0.3436, 0.3260, 0.3304],\n",
       "         [0.3822, 0.3101, 0.3077],\n",
       "         [0.8684, 0.0750, 0.0566],\n",
       "         [0.3472, 0.4364, 0.2165],\n",
       "         [0.5302, 0.2619, 0.2080],\n",
       "         [0.3211, 0.5046, 0.1743],\n",
       "         [0.4081, 0.3309, 0.2610],\n",
       "         [0.3560, 0.2985, 0.3455],\n",
       "         [0.5937, 0.2338, 0.1725],\n",
       "         [0.5689, 0.2080, 0.2231],\n",
       "         [0.4205, 0.3012, 0.2783],\n",
       "         [0.4537, 0.2980, 0.2483],\n",
       "         [0.7628, 0.1290, 0.1082],\n",
       "         [0.7884, 0.1318, 0.0799],\n",
       "         [0.5515, 0.2027, 0.2458],\n",
       "         [0.8689, 0.0764, 0.0547],\n",
       "         [0.7789, 0.1132, 0.1079],\n",
       "         [0.6428, 0.1875, 0.1696],\n",
       "         [0.5743, 0.1982, 0.2275],\n",
       "         [0.4945, 0.2516, 0.2538],\n",
       "         [0.4927, 0.2643, 0.2430],\n",
       "         [0.3265, 0.3200, 0.3534],\n",
       "         [0.3925, 0.3368, 0.2707],\n",
       "         [0.8329, 0.1020, 0.0651],\n",
       "         [0.5153, 0.2085, 0.2762],\n",
       "         [0.3732, 0.3064, 0.3204],\n",
       "         [0.6148, 0.1920, 0.1932],\n",
       "         [0.7213, 0.1448, 0.1339],\n",
       "         [0.7696, 0.1359, 0.0945],\n",
       "         [0.6254, 0.2034, 0.1712],\n",
       "         [0.3519, 0.3203, 0.3278],\n",
       "         [0.4182, 0.3069, 0.2749],\n",
       "         [0.3484, 0.3085, 0.3431],\n",
       "         [0.3528, 0.3316, 0.3156],\n",
       "         [0.3645, 0.3231, 0.3124],\n",
       "         [0.4244, 0.3299, 0.2457],\n",
       "         [0.3664, 0.3176, 0.3160],\n",
       "         [0.8437, 0.0878, 0.0685],\n",
       "         [0.3614, 0.3321, 0.3065],\n",
       "         [0.6540, 0.1799, 0.1661],\n",
       "         [0.6259, 0.2248, 0.1492],\n",
       "         [0.6271, 0.1926, 0.1804],\n",
       "         [0.3638, 0.2577, 0.3785],\n",
       "         [0.5177, 0.2185, 0.2638],\n",
       "         [0.3631, 0.3155, 0.3214],\n",
       "         [0.5224, 0.2459, 0.2317],\n",
       "         [0.7010, 0.1634, 0.1356],\n",
       "         [0.6424, 0.1768, 0.1808],\n",
       "         [0.5223, 0.2700, 0.2077],\n",
       "         [0.7525, 0.1486, 0.0989],\n",
       "         [0.4836, 0.2095, 0.3069],\n",
       "         [0.6340, 0.2353, 0.1308],\n",
       "         [0.3762, 0.3146, 0.3093],\n",
       "         [0.7707, 0.1363, 0.0930],\n",
       "         [0.3764, 0.3231, 0.3005],\n",
       "         [0.5782, 0.2416, 0.1802],\n",
       "         [0.3741, 0.3274, 0.2985],\n",
       "         [0.6949, 0.1729, 0.1322],\n",
       "         [0.4510, 0.3084, 0.2405],\n",
       "         [0.3941, 0.3166, 0.2892],\n",
       "         [0.6558, 0.1601, 0.1841],\n",
       "         [0.3802, 0.3138, 0.3060],\n",
       "         [0.6558, 0.1941, 0.1501],\n",
       "         [0.3532, 0.3434, 0.3034],\n",
       "         [0.5010, 0.2765, 0.2224],\n",
       "         [0.5070, 0.2714, 0.2216],\n",
       "         [0.4654, 0.2513, 0.2832],\n",
       "         [0.3404, 0.3115, 0.3481],\n",
       "         [0.5702, 0.2021, 0.2276],\n",
       "         [0.5145, 0.2427, 0.2428],\n",
       "         [0.4249, 0.2440, 0.3311],\n",
       "         [0.3356, 0.3167, 0.3476],\n",
       "         [0.4252, 0.3186, 0.2562],\n",
       "         [0.7074, 0.1742, 0.1184],\n",
       "         [0.6742, 0.1534, 0.1724],\n",
       "         [0.4101, 0.3131, 0.2768],\n",
       "         [0.5906, 0.2633, 0.1461],\n",
       "         [0.3462, 0.3136, 0.3402],\n",
       "         [0.4775, 0.3000, 0.2224],\n",
       "         [0.5676, 0.1959, 0.2365],\n",
       "         [0.4803, 0.2938, 0.2258],\n",
       "         [0.3206, 0.3401, 0.3393],\n",
       "         [0.3545, 0.3439, 0.3016],\n",
       "         [0.5620, 0.1775, 0.2605],\n",
       "         [0.4035, 0.2870, 0.3095],\n",
       "         [0.3685, 0.3032, 0.3283],\n",
       "         [0.8431, 0.0835, 0.0735],\n",
       "         [0.8145, 0.1009, 0.0846],\n",
       "         [0.4040, 0.3243, 0.2717],\n",
       "         [0.6782, 0.1327, 0.1890],\n",
       "         [0.4861, 0.2976, 0.2163],\n",
       "         [0.6127, 0.2065, 0.1808],\n",
       "         [0.6072, 0.2102, 0.1826],\n",
       "         [0.6918, 0.1788, 0.1294],\n",
       "         [0.3604, 0.3293, 0.3103],\n",
       "         [0.3636, 0.2637, 0.3727]]], device='cuda:0')"
      ]
     },
     "execution_count": 17,
     "metadata": {},
     "output_type": "execute_result"
    }
   ],
   "source": [
    "outputs.logits.softmax(dim=2)"
   ]
  },
  {
   "cell_type": "code",
   "execution_count": 18,
   "metadata": {},
   "outputs": [],
   "source": [
    "results = predicts(image_pths)"
   ]
  },
  {
   "cell_type": "code",
   "execution_count": 19,
   "metadata": {},
   "outputs": [
    {
     "data": {
      "text/plain": [
       "category_id\n",
       "Trophozoite    788\n",
       "WBC            112\n",
       "Name: count, dtype: int64"
      ]
     },
     "execution_count": 19,
     "metadata": {},
     "output_type": "execute_result"
    }
   ],
   "source": [
    "results[\"category_id\"].value_counts()"
   ]
  },
  {
   "cell_type": "code",
   "execution_count": 20,
   "metadata": {},
   "outputs": [
    {
     "data": {
      "text/html": [
       "<div>\n",
       "<style scoped>\n",
       "    .dataframe tbody tr th:only-of-type {\n",
       "        vertical-align: middle;\n",
       "    }\n",
       "\n",
       "    .dataframe tbody tr th {\n",
       "        vertical-align: top;\n",
       "    }\n",
       "\n",
       "    .dataframe thead th {\n",
       "        text-align: right;\n",
       "    }\n",
       "</style>\n",
       "<table border=\"1\" class=\"dataframe\">\n",
       "  <thead>\n",
       "    <tr style=\"text-align: right;\">\n",
       "      <th></th>\n",
       "      <th>image_id</th>\n",
       "      <th>x</th>\n",
       "      <th>y</th>\n",
       "      <th>w</th>\n",
       "      <th>h</th>\n",
       "      <th>category_id</th>\n",
       "      <th>score</th>\n",
       "    </tr>\n",
       "  </thead>\n",
       "  <tbody>\n",
       "    <tr>\n",
       "      <th>744</th>\n",
       "      <td>id_4wkzpeu6or.jpg</td>\n",
       "      <td>1636.64</td>\n",
       "      <td>2704.13</td>\n",
       "      <td>168.77</td>\n",
       "      <td>207.89</td>\n",
       "      <td>WBC</td>\n",
       "      <td>0.743</td>\n",
       "    </tr>\n",
       "    <tr>\n",
       "      <th>706</th>\n",
       "      <td>id_0fdars2kkw.jpg</td>\n",
       "      <td>601.31</td>\n",
       "      <td>691.36</td>\n",
       "      <td>34.88</td>\n",
       "      <td>32.49</td>\n",
       "      <td>Trophozoite</td>\n",
       "      <td>0.495</td>\n",
       "    </tr>\n",
       "    <tr>\n",
       "      <th>62</th>\n",
       "      <td>id_w8xnbd5rvm.jpg</td>\n",
       "      <td>2293.94</td>\n",
       "      <td>2694.90</td>\n",
       "      <td>86.66</td>\n",
       "      <td>99.50</td>\n",
       "      <td>Trophozoite</td>\n",
       "      <td>0.132</td>\n",
       "    </tr>\n",
       "    <tr>\n",
       "      <th>783</th>\n",
       "      <td>id_idjqlz4ppb.jpg</td>\n",
       "      <td>2471.79</td>\n",
       "      <td>1624.92</td>\n",
       "      <td>144.79</td>\n",
       "      <td>196.24</td>\n",
       "      <td>WBC</td>\n",
       "      <td>0.675</td>\n",
       "    </tr>\n",
       "    <tr>\n",
       "      <th>337</th>\n",
       "      <td>id_z0i61ad0tq.jpg</td>\n",
       "      <td>488.37</td>\n",
       "      <td>58.28</td>\n",
       "      <td>31.77</td>\n",
       "      <td>29.11</td>\n",
       "      <td>Trophozoite</td>\n",
       "      <td>0.168</td>\n",
       "    </tr>\n",
       "    <tr>\n",
       "      <th>225</th>\n",
       "      <td>id_7fc9zyfy0e.jpg</td>\n",
       "      <td>1097.79</td>\n",
       "      <td>3020.04</td>\n",
       "      <td>141.52</td>\n",
       "      <td>98.99</td>\n",
       "      <td>Trophozoite</td>\n",
       "      <td>0.046</td>\n",
       "    </tr>\n",
       "    <tr>\n",
       "      <th>759</th>\n",
       "      <td>id_4wkzpeu6or.jpg</td>\n",
       "      <td>2631.48</td>\n",
       "      <td>779.73</td>\n",
       "      <td>86.66</td>\n",
       "      <td>104.27</td>\n",
       "      <td>Trophozoite</td>\n",
       "      <td>0.105</td>\n",
       "    </tr>\n",
       "    <tr>\n",
       "      <th>311</th>\n",
       "      <td>id_z0i61ad0tq.jpg</td>\n",
       "      <td>1416.89</td>\n",
       "      <td>269.94</td>\n",
       "      <td>32.97</td>\n",
       "      <td>33.03</td>\n",
       "      <td>Trophozoite</td>\n",
       "      <td>0.293</td>\n",
       "    </tr>\n",
       "    <tr>\n",
       "      <th>897</th>\n",
       "      <td>id_by6e6shi2z.jpg</td>\n",
       "      <td>1161.23</td>\n",
       "      <td>948.14</td>\n",
       "      <td>34.15</td>\n",
       "      <td>34.24</td>\n",
       "      <td>Trophozoite</td>\n",
       "      <td>0.128</td>\n",
       "    </tr>\n",
       "    <tr>\n",
       "      <th>279</th>\n",
       "      <td>id_6g52lmvz2y.jpg</td>\n",
       "      <td>1693.48</td>\n",
       "      <td>329.81</td>\n",
       "      <td>37.82</td>\n",
       "      <td>37.19</td>\n",
       "      <td>Trophozoite</td>\n",
       "      <td>0.060</td>\n",
       "    </tr>\n",
       "  </tbody>\n",
       "</table>\n",
       "</div>"
      ],
      "text/plain": [
       "              image_id        x        y       w       h  category_id  score\n",
       "744  id_4wkzpeu6or.jpg  1636.64  2704.13  168.77  207.89          WBC  0.743\n",
       "706  id_0fdars2kkw.jpg   601.31   691.36   34.88   32.49  Trophozoite  0.495\n",
       "62   id_w8xnbd5rvm.jpg  2293.94  2694.90   86.66   99.50  Trophozoite  0.132\n",
       "783  id_idjqlz4ppb.jpg  2471.79  1624.92  144.79  196.24          WBC  0.675\n",
       "337  id_z0i61ad0tq.jpg   488.37    58.28   31.77   29.11  Trophozoite  0.168\n",
       "225  id_7fc9zyfy0e.jpg  1097.79  3020.04  141.52   98.99  Trophozoite  0.046\n",
       "759  id_4wkzpeu6or.jpg  2631.48   779.73   86.66  104.27  Trophozoite  0.105\n",
       "311  id_z0i61ad0tq.jpg  1416.89   269.94   32.97   33.03  Trophozoite  0.293\n",
       "897  id_by6e6shi2z.jpg  1161.23   948.14   34.15   34.24  Trophozoite  0.128\n",
       "279  id_6g52lmvz2y.jpg  1693.48   329.81   37.82   37.19  Trophozoite  0.060"
      ]
     },
     "execution_count": 20,
     "metadata": {},
     "output_type": "execute_result"
    }
   ],
   "source": [
    "results.sample(10)"
   ]
  },
  {
   "cell_type": "code",
   "execution_count": 21,
   "metadata": {},
   "outputs": [
    {
     "data": {
      "text/plain": [
       "count    900.000000\n",
       "mean       0.252712\n",
       "std        0.200713\n",
       "min        0.028000\n",
       "25%        0.083750\n",
       "50%        0.179500\n",
       "75%        0.387000\n",
       "max        0.812000\n",
       "Name: score, dtype: float64"
      ]
     },
     "execution_count": 21,
     "metadata": {},
     "output_type": "execute_result"
    }
   ],
   "source": [
    "results[\"score\"].describe()"
   ]
  },
  {
   "cell_type": "code",
   "execution_count": 22,
   "metadata": {},
   "outputs": [
    {
     "name": "stderr",
     "output_type": "stream",
     "text": [
      "100%|██████████| 18/18 [01:10<00:00,  3.90s/it]\n"
     ]
    }
   ],
   "source": [
    "batch_size = 16\n",
    "test_images = test[\"image_id\"].unique()\n",
    "results = [\n",
    "\tpredicts(test_images[i : i + batch_size])\n",
    "\tfor i in tqdm(\n",
    "\t\trange(0, len(test_images), batch_size), total=len(test_images) // batch_size + 1\n",
    "\t) if i < len(test_images)\n",
    "]"
   ]
  },
  {
   "cell_type": "code",
   "execution_count": 23,
   "metadata": {},
   "outputs": [],
   "source": [
    "predictions = pd.concat(results, ignore_index=True)"
   ]
  },
  {
   "cell_type": "code",
   "execution_count": 24,
   "metadata": {},
   "outputs": [
    {
     "data": {
      "text/html": [
       "<div>\n",
       "<style scoped>\n",
       "    .dataframe tbody tr th:only-of-type {\n",
       "        vertical-align: middle;\n",
       "    }\n",
       "\n",
       "    .dataframe tbody tr th {\n",
       "        vertical-align: top;\n",
       "    }\n",
       "\n",
       "    .dataframe thead th {\n",
       "        text-align: right;\n",
       "    }\n",
       "</style>\n",
       "<table border=\"1\" class=\"dataframe\">\n",
       "  <thead>\n",
       "    <tr style=\"text-align: right;\">\n",
       "      <th></th>\n",
       "      <th>image_id</th>\n",
       "      <th>x</th>\n",
       "      <th>y</th>\n",
       "      <th>w</th>\n",
       "      <th>h</th>\n",
       "      <th>category_id</th>\n",
       "      <th>score</th>\n",
       "    </tr>\n",
       "  </thead>\n",
       "  <tbody>\n",
       "    <tr>\n",
       "      <th>11244</th>\n",
       "      <td>id_g7t9v5jebb.jpg</td>\n",
       "      <td>3127.24</td>\n",
       "      <td>931.71</td>\n",
       "      <td>74.69</td>\n",
       "      <td>103.48</td>\n",
       "      <td>Trophozoite</td>\n",
       "      <td>0.044</td>\n",
       "    </tr>\n",
       "    <tr>\n",
       "      <th>10599</th>\n",
       "      <td>id_le33k9f4ee.jpg</td>\n",
       "      <td>2534.12</td>\n",
       "      <td>2563.56</td>\n",
       "      <td>97.14</td>\n",
       "      <td>118.93</td>\n",
       "      <td>Trophozoite</td>\n",
       "      <td>0.305</td>\n",
       "    </tr>\n",
       "    <tr>\n",
       "      <th>4774</th>\n",
       "      <td>id_49n2r2g61a.jpg</td>\n",
       "      <td>2917.33</td>\n",
       "      <td>1385.29</td>\n",
       "      <td>82.33</td>\n",
       "      <td>92.47</td>\n",
       "      <td>Trophozoite</td>\n",
       "      <td>0.090</td>\n",
       "    </tr>\n",
       "    <tr>\n",
       "      <th>6464</th>\n",
       "      <td>id_56cm3hgim3.jpg</td>\n",
       "      <td>2881.20</td>\n",
       "      <td>1759.32</td>\n",
       "      <td>93.22</td>\n",
       "      <td>116.04</td>\n",
       "      <td>Trophozoite</td>\n",
       "      <td>0.074</td>\n",
       "    </tr>\n",
       "    <tr>\n",
       "      <th>10941</th>\n",
       "      <td>id_j8ri1iub1e.jpg</td>\n",
       "      <td>2575.22</td>\n",
       "      <td>1615.10</td>\n",
       "      <td>95.08</td>\n",
       "      <td>121.42</td>\n",
       "      <td>Trophozoite</td>\n",
       "      <td>0.330</td>\n",
       "    </tr>\n",
       "    <tr>\n",
       "      <th>11141</th>\n",
       "      <td>id_4f9wdugdot.jpg</td>\n",
       "      <td>1540.32</td>\n",
       "      <td>2237.38</td>\n",
       "      <td>140.56</td>\n",
       "      <td>177.71</td>\n",
       "      <td>WBC</td>\n",
       "      <td>0.673</td>\n",
       "    </tr>\n",
       "    <tr>\n",
       "      <th>4577</th>\n",
       "      <td>id_7bbze5cgwz.jpg</td>\n",
       "      <td>2425.31</td>\n",
       "      <td>578.62</td>\n",
       "      <td>114.45</td>\n",
       "      <td>141.16</td>\n",
       "      <td>Trophozoite</td>\n",
       "      <td>0.047</td>\n",
       "    </tr>\n",
       "    <tr>\n",
       "      <th>4940</th>\n",
       "      <td>id_t4ahof8989.jpg</td>\n",
       "      <td>1018.47</td>\n",
       "      <td>1605.78</td>\n",
       "      <td>86.27</td>\n",
       "      <td>104.45</td>\n",
       "      <td>Trophozoite</td>\n",
       "      <td>0.039</td>\n",
       "    </tr>\n",
       "    <tr>\n",
       "      <th>12491</th>\n",
       "      <td>id_xbmf4arzt7.jpg</td>\n",
       "      <td>1634.08</td>\n",
       "      <td>626.14</td>\n",
       "      <td>154.93</td>\n",
       "      <td>185.97</td>\n",
       "      <td>WBC</td>\n",
       "      <td>0.701</td>\n",
       "    </tr>\n",
       "    <tr>\n",
       "      <th>6526</th>\n",
       "      <td>id_wh6zyryvik.jpg</td>\n",
       "      <td>359.35</td>\n",
       "      <td>395.56</td>\n",
       "      <td>39.37</td>\n",
       "      <td>40.44</td>\n",
       "      <td>Trophozoite</td>\n",
       "      <td>0.027</td>\n",
       "    </tr>\n",
       "  </tbody>\n",
       "</table>\n",
       "</div>"
      ],
      "text/plain": [
       "                image_id        x        y       w       h  category_id  score\n",
       "11244  id_g7t9v5jebb.jpg  3127.24   931.71   74.69  103.48  Trophozoite  0.044\n",
       "10599  id_le33k9f4ee.jpg  2534.12  2563.56   97.14  118.93  Trophozoite  0.305\n",
       "4774   id_49n2r2g61a.jpg  2917.33  1385.29   82.33   92.47  Trophozoite  0.090\n",
       "6464   id_56cm3hgim3.jpg  2881.20  1759.32   93.22  116.04  Trophozoite  0.074\n",
       "10941  id_j8ri1iub1e.jpg  2575.22  1615.10   95.08  121.42  Trophozoite  0.330\n",
       "11141  id_4f9wdugdot.jpg  1540.32  2237.38  140.56  177.71          WBC  0.673\n",
       "4577   id_7bbze5cgwz.jpg  2425.31   578.62  114.45  141.16  Trophozoite  0.047\n",
       "4940   id_t4ahof8989.jpg  1018.47  1605.78   86.27  104.45  Trophozoite  0.039\n",
       "12491  id_xbmf4arzt7.jpg  1634.08   626.14  154.93  185.97          WBC  0.701\n",
       "6526   id_wh6zyryvik.jpg   359.35   395.56   39.37   40.44  Trophozoite  0.027"
      ]
     },
     "execution_count": 24,
     "metadata": {},
     "output_type": "execute_result"
    }
   ],
   "source": [
    "predictions.sample(10)"
   ]
  },
  {
   "cell_type": "code",
   "execution_count": 25,
   "metadata": {},
   "outputs": [
    {
     "data": {
      "text/plain": [
       "category_id\n",
       "Trophozoite    0.816835\n",
       "WBC            0.183165\n",
       "Name: proportion, dtype: float64"
      ]
     },
     "execution_count": 25,
     "metadata": {},
     "output_type": "execute_result"
    }
   ],
   "source": [
    "predictions[\"category_id\"].value_counts(True)"
   ]
  },
  {
   "cell_type": "code",
   "execution_count": 26,
   "metadata": {},
   "outputs": [
    {
     "data": {
      "text/plain": [
       "count    14446.000000\n",
       "mean         0.181902\n",
       "std          0.195331\n",
       "min          0.017000\n",
       "25%          0.051000\n",
       "50%          0.089000\n",
       "75%          0.236000\n",
       "max          0.840000\n",
       "Name: score, dtype: float64"
      ]
     },
     "execution_count": 26,
     "metadata": {},
     "output_type": "execute_result"
    }
   ],
   "source": [
    "predictions[\"score\"].describe()"
   ]
  },
  {
   "cell_type": "code",
   "execution_count": 27,
   "metadata": {},
   "outputs": [
    {
     "data": {
      "text/plain": [
       "'zindi_data/validation/prediction_cond-detr-50_THR0.000_IOU0.800_ID3016.csv'"
      ]
     },
     "execution_count": 27,
     "metadata": {},
     "output_type": "execute_result"
    }
   ],
   "source": [
    "f\"zindi_data/validation/prediction_{FILE_NAME}.csv\""
   ]
  },
  {
   "cell_type": "code",
   "execution_count": 28,
   "metadata": {},
   "outputs": [],
   "source": [
    "predictions = predictions.rename(columns={\"x\": \"xmin\", \"y\": \"ymin\"})\n",
    "predictions = predictions.rename(columns={\"category_id\": \"class\", \"image_id\": \"Image_ID\", \"score\": \"confidence\"})\n",
    "\n",
    "predictions[\"xmax\"] = predictions[\"xmin\"] + predictions[\"w\"]\n",
    "predictions[\"ymax\"] = predictions[\"ymin\"] + predictions[\"h\"]\n",
    "\n",
    "predictions.to_csv(f\"zindi_data/validation/prediction_{FILE_NAME}.csv\", index=False)"
   ]
  },
  {
   "cell_type": "code",
   "execution_count": null,
   "metadata": {},
   "outputs": [],
   "source": []
  }
 ],
 "metadata": {
  "kernelspec": {
   "display_name": ".venv",
   "language": "python",
   "name": "python3"
  },
  "language_info": {
   "codemirror_mode": {
    "name": "ipython",
    "version": 3
   },
   "file_extension": ".py",
   "mimetype": "text/x-python",
   "name": "python",
   "nbconvert_exporter": "python",
   "pygments_lexer": "ipython3",
   "version": "3.11.7"
  }
 },
 "nbformat": 4,
 "nbformat_minor": 2
}
