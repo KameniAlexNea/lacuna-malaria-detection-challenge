{
 "cells": [
  {
   "cell_type": "code",
   "execution_count": 1,
   "metadata": {},
   "outputs": [
    {
     "data": {
      "text/html": [
       "<div>\n",
       "<style scoped>\n",
       "    .dataframe tbody tr th:only-of-type {\n",
       "        vertical-align: middle;\n",
       "    }\n",
       "\n",
       "    .dataframe tbody tr th {\n",
       "        vertical-align: top;\n",
       "    }\n",
       "\n",
       "    .dataframe thead th {\n",
       "        text-align: right;\n",
       "    }\n",
       "</style>\n",
       "<table border=\"1\" class=\"dataframe\">\n",
       "  <thead>\n",
       "    <tr style=\"text-align: right;\">\n",
       "      <th></th>\n",
       "      <th>Image_ID</th>\n",
       "      <th>class</th>\n",
       "      <th>confidence</th>\n",
       "      <th>ymin</th>\n",
       "      <th>xmin</th>\n",
       "      <th>ymax</th>\n",
       "      <th>xmax</th>\n",
       "    </tr>\n",
       "  </thead>\n",
       "  <tbody>\n",
       "    <tr>\n",
       "      <th>9330</th>\n",
       "      <td>id_43cevf8y4e.jpg</td>\n",
       "      <td>Trophozoite</td>\n",
       "      <td>1.0</td>\n",
       "      <td>2878</td>\n",
       "      <td>1358</td>\n",
       "      <td>2964</td>\n",
       "      <td>1450</td>\n",
       "    </tr>\n",
       "    <tr>\n",
       "      <th>6860</th>\n",
       "      <td>id_gjxj3qaqpl.jpg</td>\n",
       "      <td>WBC</td>\n",
       "      <td>1.0</td>\n",
       "      <td>961</td>\n",
       "      <td>793</td>\n",
       "      <td>1035</td>\n",
       "      <td>852</td>\n",
       "    </tr>\n",
       "    <tr>\n",
       "      <th>11446</th>\n",
       "      <td>id_1760ihasgs.jpg</td>\n",
       "      <td>Trophozoite</td>\n",
       "      <td>1.0</td>\n",
       "      <td>953</td>\n",
       "      <td>1050</td>\n",
       "      <td>993</td>\n",
       "      <td>1103</td>\n",
       "    </tr>\n",
       "    <tr>\n",
       "      <th>15079</th>\n",
       "      <td>id_1xpbtfb4xh.jpg</td>\n",
       "      <td>Trophozoite</td>\n",
       "      <td>1.0</td>\n",
       "      <td>541</td>\n",
       "      <td>902</td>\n",
       "      <td>573</td>\n",
       "      <td>932</td>\n",
       "    </tr>\n",
       "    <tr>\n",
       "      <th>9754</th>\n",
       "      <td>id_1roo39ojs0.jpg</td>\n",
       "      <td>WBC</td>\n",
       "      <td>1.0</td>\n",
       "      <td>131</td>\n",
       "      <td>1440</td>\n",
       "      <td>209</td>\n",
       "      <td>1519</td>\n",
       "    </tr>\n",
       "  </tbody>\n",
       "</table>\n",
       "</div>"
      ],
      "text/plain": [
       "                Image_ID        class  confidence  ymin  xmin  ymax  xmax\n",
       "9330   id_43cevf8y4e.jpg  Trophozoite         1.0  2878  1358  2964  1450\n",
       "6860   id_gjxj3qaqpl.jpg          WBC         1.0   961   793  1035   852\n",
       "11446  id_1760ihasgs.jpg  Trophozoite         1.0   953  1050   993  1103\n",
       "15079  id_1xpbtfb4xh.jpg  Trophozoite         1.0   541   902   573   932\n",
       "9754   id_1roo39ojs0.jpg          WBC         1.0   131  1440   209  1519"
      ]
     },
     "execution_count": 1,
     "metadata": {},
     "output_type": "execute_result"
    }
   ],
   "source": [
    "import pandas as pd\n",
    "import numpy as np\n",
    "import matplotlib.pyplot as plt\n",
    "from collections import defaultdict\n",
    "from IPython.display import display\n",
    "\n",
    "# Example format of your dataset\n",
    "# annotations = [\n",
    "#     {'image_id': 'image1.jpg', 'label': 'cat', 'bbox': [50, 60, 150, 200]},  # [x_min, y_min, x_max, y_max]\n",
    "#     {'image_id': 'image1.jpg', 'label': 'dog', 'bbox': [120, 130, 300, 400]},\n",
    "#     {'image_id': 'image2.jpg', 'label': 'cat', 'bbox': [30, 50, 100, 180]},\n",
    "#     ...\n",
    "# ]\n",
    "\n",
    "train_data = pd.read_csv(\"train_validate/TrainDataset.csv\")\n",
    "test_data = pd.read_csv(\"train_validate/TestDataset.csv\")\n",
    "\n",
    "data = pd.concat([train_data, test_data], ignore_index=True)\n",
    "data.sample(5)"
   ]
  },
  {
   "cell_type": "code",
   "execution_count": 2,
   "metadata": {},
   "outputs": [
    {
     "data": {
      "text/plain": [
       "(2747, 3)"
      ]
     },
     "execution_count": 2,
     "metadata": {},
     "output_type": "execute_result"
    }
   ],
   "source": [
    "data[\"Image_ID\"].nunique(), data[\"class\"].nunique()"
   ]
  },
  {
   "cell_type": "code",
   "execution_count": 3,
   "metadata": {},
   "outputs": [
    {
     "data": {
      "text/plain": [
       "class\n",
       "Trophozoite    15838\n",
       "WBC             7004\n",
       "NEG              688\n",
       "Name: count, dtype: int64"
      ]
     },
     "execution_count": 3,
     "metadata": {},
     "output_type": "execute_result"
    }
   ],
   "source": [
    "data[\"class\"].value_counts()"
   ]
  },
  {
   "cell_type": "code",
   "execution_count": 4,
   "metadata": {},
   "outputs": [
    {
     "data": {
      "text/html": [
       "<div>\n",
       "<style scoped>\n",
       "    .dataframe tbody tr th:only-of-type {\n",
       "        vertical-align: middle;\n",
       "    }\n",
       "\n",
       "    .dataframe tbody tr th {\n",
       "        vertical-align: top;\n",
       "    }\n",
       "\n",
       "    .dataframe thead tr th {\n",
       "        text-align: left;\n",
       "    }\n",
       "</style>\n",
       "<table border=\"1\" class=\"dataframe\">\n",
       "  <thead>\n",
       "    <tr>\n",
       "      <th></th>\n",
       "      <th colspan=\"3\" halign=\"left\">count</th>\n",
       "    </tr>\n",
       "    <tr>\n",
       "      <th>class</th>\n",
       "      <th>NEG</th>\n",
       "      <th>Trophozoite</th>\n",
       "      <th>WBC</th>\n",
       "    </tr>\n",
       "  </thead>\n",
       "  <tbody>\n",
       "    <tr>\n",
       "      <th>count</th>\n",
       "      <td>2747.000000</td>\n",
       "      <td>2747.000000</td>\n",
       "      <td>2747.000000</td>\n",
       "    </tr>\n",
       "    <tr>\n",
       "      <th>mean</th>\n",
       "      <td>0.250455</td>\n",
       "      <td>5.765562</td>\n",
       "      <td>2.549691</td>\n",
       "    </tr>\n",
       "    <tr>\n",
       "      <th>std</th>\n",
       "      <td>0.433354</td>\n",
       "      <td>8.703019</td>\n",
       "      <td>3.816721</td>\n",
       "    </tr>\n",
       "    <tr>\n",
       "      <th>min</th>\n",
       "      <td>0.000000</td>\n",
       "      <td>0.000000</td>\n",
       "      <td>0.000000</td>\n",
       "    </tr>\n",
       "    <tr>\n",
       "      <th>25%</th>\n",
       "      <td>0.000000</td>\n",
       "      <td>0.000000</td>\n",
       "      <td>0.000000</td>\n",
       "    </tr>\n",
       "    <tr>\n",
       "      <th>50%</th>\n",
       "      <td>0.000000</td>\n",
       "      <td>3.000000</td>\n",
       "      <td>1.000000</td>\n",
       "    </tr>\n",
       "    <tr>\n",
       "      <th>75%</th>\n",
       "      <td>1.000000</td>\n",
       "      <td>7.000000</td>\n",
       "      <td>4.000000</td>\n",
       "    </tr>\n",
       "    <tr>\n",
       "      <th>max</th>\n",
       "      <td>1.000000</td>\n",
       "      <td>82.000000</td>\n",
       "      <td>42.000000</td>\n",
       "    </tr>\n",
       "  </tbody>\n",
       "</table>\n",
       "</div>"
      ],
      "text/plain": [
       "             count                          \n",
       "class          NEG  Trophozoite          WBC\n",
       "count  2747.000000  2747.000000  2747.000000\n",
       "mean      0.250455     5.765562     2.549691\n",
       "std       0.433354     8.703019     3.816721\n",
       "min       0.000000     0.000000     0.000000\n",
       "25%       0.000000     0.000000     0.000000\n",
       "50%       0.000000     3.000000     1.000000\n",
       "75%       1.000000     7.000000     4.000000\n",
       "max       1.000000    82.000000    42.000000"
      ]
     },
     "execution_count": 4,
     "metadata": {},
     "output_type": "execute_result"
    }
   ],
   "source": [
    "data_stats = data.groupby(\"Image_ID\")[\"class\"].value_counts().reset_index().pivot_table(\n",
    "    index=\"Image_ID\", columns=\"class\", fill_value=0\n",
    ")\n",
    "data_stats.describe()"
   ]
  },
  {
   "cell_type": "code",
   "execution_count": 5,
   "metadata": {},
   "outputs": [
    {
     "data": {
      "text/plain": [
       "       class      \n",
       "count  NEG              688.0\n",
       "       Trophozoite    15838.0\n",
       "       WBC             7004.0\n",
       "dtype: float64"
      ]
     },
     "execution_count": 5,
     "metadata": {},
     "output_type": "execute_result"
    }
   ],
   "source": [
    "data_stats.sum()"
   ]
  },
  {
   "cell_type": "code",
   "execution_count": 6,
   "metadata": {},
   "outputs": [
    {
     "data": {
      "text/plain": [
       "count    2747.000000\n",
       "mean        8.565708\n",
       "std        10.206229\n",
       "min         1.000000\n",
       "25%         1.000000\n",
       "50%         5.000000\n",
       "75%        11.000000\n",
       "max        92.000000\n",
       "dtype: float64"
      ]
     },
     "execution_count": 6,
     "metadata": {},
     "output_type": "execute_result"
    }
   ],
   "source": [
    "data_stats.sum(axis=1).describe()"
   ]
  },
  {
   "cell_type": "code",
   "execution_count": 7,
   "metadata": {},
   "outputs": [
    {
     "data": {
      "text/html": [
       "<div>\n",
       "<style scoped>\n",
       "    .dataframe tbody tr th:only-of-type {\n",
       "        vertical-align: middle;\n",
       "    }\n",
       "\n",
       "    .dataframe tbody tr th {\n",
       "        vertical-align: top;\n",
       "    }\n",
       "\n",
       "    .dataframe thead th {\n",
       "        text-align: right;\n",
       "    }\n",
       "</style>\n",
       "<table border=\"1\" class=\"dataframe\">\n",
       "  <thead>\n",
       "    <tr style=\"text-align: right;\">\n",
       "      <th></th>\n",
       "      <th>Image_ID</th>\n",
       "      <th>class</th>\n",
       "      <th>confidence</th>\n",
       "      <th>ymin</th>\n",
       "      <th>xmin</th>\n",
       "      <th>ymax</th>\n",
       "      <th>xmax</th>\n",
       "    </tr>\n",
       "  </thead>\n",
       "  <tbody>\n",
       "    <tr>\n",
       "      <th>8477</th>\n",
       "      <td>id_r7rcvu1zc8.jpg</td>\n",
       "      <td>Trophozoite</td>\n",
       "      <td>1.0</td>\n",
       "      <td>74</td>\n",
       "      <td>1003</td>\n",
       "      <td>114</td>\n",
       "      <td>1041</td>\n",
       "    </tr>\n",
       "    <tr>\n",
       "      <th>20224</th>\n",
       "      <td>id_9qtfjptkch.jpg</td>\n",
       "      <td>Trophozoite</td>\n",
       "      <td>1.0</td>\n",
       "      <td>1839</td>\n",
       "      <td>2029</td>\n",
       "      <td>2008</td>\n",
       "      <td>2135</td>\n",
       "    </tr>\n",
       "    <tr>\n",
       "      <th>1268</th>\n",
       "      <td>id_s91hx9uyin.jpg</td>\n",
       "      <td>Trophozoite</td>\n",
       "      <td>1.0</td>\n",
       "      <td>643</td>\n",
       "      <td>480</td>\n",
       "      <td>671</td>\n",
       "      <td>516</td>\n",
       "    </tr>\n",
       "    <tr>\n",
       "      <th>7120</th>\n",
       "      <td>id_stx1sghla9.jpg</td>\n",
       "      <td>Trophozoite</td>\n",
       "      <td>1.0</td>\n",
       "      <td>293</td>\n",
       "      <td>2450</td>\n",
       "      <td>360</td>\n",
       "      <td>2520</td>\n",
       "    </tr>\n",
       "    <tr>\n",
       "      <th>22096</th>\n",
       "      <td>id_wij48tbsif.jpg</td>\n",
       "      <td>Trophozoite</td>\n",
       "      <td>1.0</td>\n",
       "      <td>514</td>\n",
       "      <td>2298</td>\n",
       "      <td>611</td>\n",
       "      <td>2374</td>\n",
       "    </tr>\n",
       "  </tbody>\n",
       "</table>\n",
       "</div>"
      ],
      "text/plain": [
       "                Image_ID        class  confidence  ymin  xmin  ymax  xmax\n",
       "8477   id_r7rcvu1zc8.jpg  Trophozoite         1.0    74  1003   114  1041\n",
       "20224  id_9qtfjptkch.jpg  Trophozoite         1.0  1839  2029  2008  2135\n",
       "1268   id_s91hx9uyin.jpg  Trophozoite         1.0   643   480   671   516\n",
       "7120   id_stx1sghla9.jpg  Trophozoite         1.0   293  2450   360  2520\n",
       "22096  id_wij48tbsif.jpg  Trophozoite         1.0   514  2298   611  2374"
      ]
     },
     "execution_count": 7,
     "metadata": {},
     "output_type": "execute_result"
    }
   ],
   "source": [
    "data.sample(5)"
   ]
  },
  {
   "cell_type": "code",
   "execution_count": 8,
   "metadata": {},
   "outputs": [
    {
     "data": {
      "text/plain": [
       "22842"
      ]
     },
     "execution_count": 8,
     "metadata": {},
     "output_type": "execute_result"
    }
   ],
   "source": [
    "annotations = data[data[\"class\"] != \"NEG\"].apply(\n",
    "    lambda x: {\n",
    "        \"image_id\": x[\"Image_ID\"],\n",
    "        \"label\": x[\"class\"],\n",
    "        \"bbox\": [x[\"xmin\"], x[\"ymin\"], x[\"xmax\"], x[\"ymax\"]],\n",
    "    }, axis=1\n",
    ").tolist()\n",
    "\n",
    "len(annotations)"
   ]
  },
  {
   "cell_type": "code",
   "execution_count": 9,
   "metadata": {},
   "outputs": [
    {
     "data": {
      "text/plain": [
       "[{'image_id': 'id_u3q6jdck4j.jpg',\n",
       "  'label': 'Trophozoite',\n",
       "  'bbox': [1241, 712, 1270, 737]},\n",
       " {'image_id': 'id_a6cl90trri.jpg',\n",
       "  'label': 'Trophozoite',\n",
       "  'bbox': [1566, 558, 1604, 600]},\n",
       " {'image_id': 'id_qvc2le9sm8.jpg',\n",
       "  'label': 'Trophozoite',\n",
       "  'bbox': [2788, 1317, 2914, 1448]},\n",
       " {'image_id': 'id_i7r9hkhxvx.jpg',\n",
       "  'label': 'WBC',\n",
       "  'bbox': [906, 846, 963, 903]},\n",
       " {'image_id': 'id_fzogq9kijh.jpg',\n",
       "  'label': 'WBC',\n",
       "  'bbox': [280, 641, 373, 711]}]"
      ]
     },
     "execution_count": 9,
     "metadata": {},
     "output_type": "execute_result"
    }
   ],
   "source": [
    "annotations[:5]"
   ]
  },
  {
   "cell_type": "code",
   "execution_count": 10,
   "metadata": {},
   "outputs": [],
   "source": [
    "def compute_area(bbox):\n",
    "    \"\"\"Calculate area of the bounding box.\"\"\"\n",
    "    x_min, y_min, x_max, y_max = bbox\n",
    "    return (x_max - x_min) * (y_max - y_min)\n",
    "\n",
    "def compute_aspect_ratio(bbox):\n",
    "    \"\"\"Calculate aspect ratio of the bounding box.\"\"\"\n",
    "    x_min, y_min, x_max, y_max = bbox\n",
    "    width = x_max - x_min\n",
    "    height = y_max - y_min\n",
    "    return width / height if height != 0 else 0\n",
    "\n",
    "def explore_object_detection_data(annotations):\n",
    "    \"\"\"Explore object detection data for insights.\"\"\"\n",
    "    label_stats = defaultdict(lambda: {'areas': [], 'aspect_ratios': []})\n",
    "    image_stats = defaultdict(list)\n",
    "\n",
    "    # Gather statistics for each label and image\n",
    "    for ann in annotations:\n",
    "        label = ann['label']\n",
    "        bbox = ann['bbox']\n",
    "        area = compute_area(bbox)\n",
    "        aspect_ratio = compute_aspect_ratio(bbox)\n",
    "\n",
    "        # Accumulate label statistics\n",
    "        label_stats[label]['areas'].append(area)\n",
    "        label_stats[label]['aspect_ratios'].append(aspect_ratio)\n",
    "\n",
    "        # Accumulate per image stats\n",
    "        image_stats[ann['image_id']].append(area)\n",
    "\n",
    "    # Calculate statistics per label\n",
    "    label_summary = {}\n",
    "    for label, stats in label_stats.items():\n",
    "        avg_area = np.mean(stats['areas'])\n",
    "        avg_aspect_ratio = np.mean(stats['aspect_ratios'])\n",
    "        label_summary[label] = {\n",
    "            'avg_area': avg_area,\n",
    "            'avg_aspect_ratio': avg_aspect_ratio,\n",
    "            'num_instances': len(stats['areas']),\n",
    "            'total_area_coverage': np.sum(stats['areas'])\n",
    "        }\n",
    "\n",
    "    # Calculate overall statistics\n",
    "    overall_avg_area = np.mean([area for stats in label_stats.values() for area in stats['areas']])\n",
    "    overall_avg_aspect_ratio = np.mean([ratio for stats in label_stats.values() for ratio in stats['aspect_ratios']])\n",
    "\n",
    "    # Convert to DataFrame for better visualization\n",
    "    label_df = pd.DataFrame.from_dict(label_summary, orient='index')\n",
    "    label_df.sort_values(by='num_instances', ascending=False, inplace=True)\n",
    "\n",
    "    print(\"Label Summary:\")\n",
    "    display(label_df)\n",
    "\n",
    "    print(f\"\\nOverall average area: {overall_avg_area}\")\n",
    "    print(f\"Overall average aspect ratio: {overall_avg_aspect_ratio}\")\n",
    "\n",
    "    # Plotting statistics\n",
    "    label_df['avg_area'].plot(kind='bar', title='Average Bounding Box Area per Label')\n",
    "    plt.ylabel('Average Area')\n",
    "    plt.show()\n",
    "\n",
    "    label_df['num_instances'].plot(kind='bar', title='Number of Instances per Label')\n",
    "    plt.ylabel('Instance Count')\n",
    "    plt.show()\n",
    "\n",
    "    label_df['avg_aspect_ratio'].plot(kind='bar', title='Average Aspect Ratio per Label')\n",
    "    plt.ylabel('Aspect Ratio')\n",
    "    plt.show()\n",
    "\n",
    "    return label_df\n",
    "\n",
    "# Example usage:\n",
    "# annotations = load_annotations()  # Load your dataset annotations here\n",
    "# label_summary_df = explore_object_detection_data(annotations)\n"
   ]
  },
  {
   "cell_type": "code",
   "execution_count": 11,
   "metadata": {},
   "outputs": [
    {
     "name": "stdout",
     "output_type": "stream",
     "text": [
      "Label Summary:\n"
     ]
    },
    {
     "data": {
      "text/html": [
       "<div>\n",
       "<style scoped>\n",
       "    .dataframe tbody tr th:only-of-type {\n",
       "        vertical-align: middle;\n",
       "    }\n",
       "\n",
       "    .dataframe tbody tr th {\n",
       "        vertical-align: top;\n",
       "    }\n",
       "\n",
       "    .dataframe thead th {\n",
       "        text-align: right;\n",
       "    }\n",
       "</style>\n",
       "<table border=\"1\" class=\"dataframe\">\n",
       "  <thead>\n",
       "    <tr style=\"text-align: right;\">\n",
       "      <th></th>\n",
       "      <th>avg_area</th>\n",
       "      <th>avg_aspect_ratio</th>\n",
       "      <th>num_instances</th>\n",
       "      <th>total_area_coverage</th>\n",
       "    </tr>\n",
       "  </thead>\n",
       "  <tbody>\n",
       "    <tr>\n",
       "      <th>Trophozoite</th>\n",
       "      <td>5392.149135</td>\n",
       "      <td>0.996745</td>\n",
       "      <td>15838</td>\n",
       "      <td>85400858</td>\n",
       "    </tr>\n",
       "    <tr>\n",
       "      <th>WBC</th>\n",
       "      <td>15429.718447</td>\n",
       "      <td>1.011628</td>\n",
       "      <td>7004</td>\n",
       "      <td>108069748</td>\n",
       "    </tr>\n",
       "  </tbody>\n",
       "</table>\n",
       "</div>"
      ],
      "text/plain": [
       "                 avg_area  avg_aspect_ratio  num_instances  \\\n",
       "Trophozoite   5392.149135          0.996745          15838   \n",
       "WBC          15429.718447          1.011628           7004   \n",
       "\n",
       "             total_area_coverage  \n",
       "Trophozoite             85400858  \n",
       "WBC                    108069748  "
      ]
     },
     "metadata": {},
     "output_type": "display_data"
    },
    {
     "name": "stdout",
     "output_type": "stream",
     "text": [
      "\n",
      "Overall average area: 8469.95035460993\n",
      "Overall average aspect ratio: 1.0013083799037314\n"
     ]
    },
    {
     "data": {
      "image/png": "[encoded data removed]",
      "text/plain": [
       "<Figure size 640x480 with 1 Axes>"
      ]
     },
     "metadata": {},
     "output_type": "display_data"
    },
    {
     "data": {
      "image/png": "[encoded data removed]",
      "text/plain": [
       "<Figure size 640x480 with 1 Axes>"
      ]
     },
     "metadata": {},
     "output_type": "display_data"
    },
    {
     "data": {
      "image/png": "[encoded data removed]",
      "text/plain": [
       "<Figure size 640x480 with 1 Axes>"
      ]
     },
     "metadata": {},
     "output_type": "display_data"
    }
   ],
   "source": [
    "label_summary_df = explore_object_detection_data(annotations)"
   ]
  },
  {
   "cell_type": "code",
   "execution_count": null,
   "metadata": {},
   "outputs": [],
   "source": []
  },
  {
   "cell_type": "code",
   "execution_count": 1,
   "metadata": {},
   "outputs": [
    {
     "name": "stderr",
     "output_type": "stream",
     "text": [
      "Fast image processor class <class 'transformers.models.detr.image_processing_detr_fast.DetrImageProcessorFast'> is available for this model. Using slow image processor class. To use the fast image processor class set `use_fast=True`.\n"
     ]
    },
    {
     "name": "stdout",
     "output_type": "stream",
     "text": [
      "618\n",
      "0\n"
     ]
    }
   ],
   "source": [
    "import os\n",
    "\n",
    "\n",
    "os.environ[\"WANDB_PROJECT\"] = \"lacuna_zindi_challenge\"\n",
    "# os.environ[\"WANDB_LOG_MODEL\"] = \"true\"\n",
    "os.environ[\"WANDB_WATCH\"] = \"none\"\n",
    "os.environ[\"WANDB_NOTEBOOK_NAME\"] = \"train_hf\"\n",
    "\n",
    "os.environ[\"CUDA_DEVICE_ORDER\"] = \"PCI_BUS_ID\"\n",
    "os.environ[\"CUDA_VISIBLE_DEVICES\"] = \"1\"\n",
    "\n",
    "from zindi_code import MODEL_NAME, TRAIN_CSV, VAL_CSV, CLS_MAPPER\n",
    "from zindi_code.dataset import (\n",
    "    collate_fn,\n",
    "    load_dataset,\n",
    "    transform_aug_ann,\n",
    ")\n",
    "from zindi_code.transforms import IMAGE_PROCESSOR\n",
    "from zindi_code.metrics import compute_metrics\n",
    "\n",
    "\n",
    "# from zindi_code.hf_alex.model import DetrForObjectDetection\n",
    "\n",
    "train_set = load_dataset(TRAIN_CSV, nan_frac=0).with_transform(transform_aug_ann)\n",
    "eval_set = load_dataset(VAL_CSV, False).with_transform(\n",
    "    lambda x: transform_aug_ann(x, True)\n",
    ")"
   ]
  },
  {
   "cell_type": "code",
   "execution_count": 2,
   "metadata": {},
   "outputs": [
    {
     "data": {
      "text/plain": [
       "(1854, 275)"
      ]
     },
     "execution_count": 2,
     "metadata": {},
     "output_type": "execute_result"
    }
   ],
   "source": [
    "len(train_set), len(eval_set)"
   ]
  },
  {
   "cell_type": "code",
   "execution_count": 33,
   "metadata": {},
   "outputs": [
    {
     "data": {
      "text/plain": [
       "{'pixel_values': tensor([[[ 0.4337,  0.3994,  0.3994,  ..., -0.2342, -0.2171, -0.2342],\n",
       "          [ 0.4337,  0.3994,  0.3994,  ..., -0.2171, -0.2171, -0.2171],\n",
       "          [ 0.4337,  0.4166,  0.4166,  ..., -0.2171, -0.2171, -0.2171],\n",
       "          ...,\n",
       "          [ 0.3138,  0.3309,  0.3481,  ...,  0.3823,  0.3652,  0.3481],\n",
       "          [ 0.3138,  0.3138,  0.3309,  ...,  0.3823,  0.3652,  0.3481],\n",
       "          [ 0.3309,  0.2967,  0.2967,  ...,  0.3823,  0.3994,  0.3823]],\n",
       " \n",
       "         [[ 0.7829,  0.8004,  0.8004,  ...,  0.3452,  0.3627,  0.3452],\n",
       "          [ 0.7829,  0.8004,  0.8004,  ...,  0.3627,  0.3627,  0.3627],\n",
       "          [ 0.7829,  0.8004,  0.8179,  ...,  0.3627,  0.3627,  0.3627],\n",
       "          ...,\n",
       "          [ 0.5378,  0.5378,  0.5553,  ...,  0.7829,  0.7654,  0.7654],\n",
       "          [ 0.5203,  0.5203,  0.5378,  ...,  0.7829,  0.7654,  0.7654],\n",
       "          [ 0.5028,  0.5028,  0.5028,  ...,  0.7654,  0.7829,  0.7654]],\n",
       " \n",
       "         [[ 1.1759,  1.1759,  1.1759,  ...,  1.0888,  1.1062,  1.0888],\n",
       "          [ 1.1759,  1.1759,  1.1759,  ...,  1.1062,  1.1062,  1.1062],\n",
       "          [ 1.1759,  1.1759,  1.1934,  ...,  1.1062,  1.1062,  1.1062],\n",
       "          ...,\n",
       "          [ 0.9494,  0.9494,  0.9668,  ...,  1.0888,  1.0888,  1.0888],\n",
       "          [ 0.9319,  0.9319,  0.9494,  ...,  1.1062,  1.0888,  1.0888],\n",
       "          [ 0.9145,  0.9145,  0.9145,  ...,  1.0888,  1.1062,  1.0888]]]),\n",
       " 'pixel_mask': tensor([[1, 1, 1,  ..., 1, 1, 1],\n",
       "         [1, 1, 1,  ..., 1, 1, 1],\n",
       "         [1, 1, 1,  ..., 1, 1, 1],\n",
       "         ...,\n",
       "         [1, 1, 1,  ..., 1, 1, 1],\n",
       "         [1, 1, 1,  ..., 1, 1, 1],\n",
       "         [1, 1, 1,  ..., 1, 1, 1]]),\n",
       " 'labels': {'size': tensor([ 800, 1332]), 'image_id': tensor([0]), 'class_labels': tensor([], dtype=torch.int64), 'boxes': tensor([], size=(0, 4)), 'area': tensor([]), 'iscrowd': tensor([], dtype=torch.int64), 'orig_size': tensor([ 934, 1556])}}"
      ]
     },
     "execution_count": 33,
     "metadata": {},
     "output_type": "execute_result"
    }
   ],
   "source": [
    "train_set[0]"
   ]
  },
  {
   "cell_type": "code",
   "execution_count": 34,
   "metadata": {},
   "outputs": [
    {
     "data": {
      "text/plain": [
       "{'pixel_values': tensor([[[-2.0152, -2.0152, -1.9980,  ..., -1.9980, -1.9809, -1.9980],\n",
       "          [-2.0152, -1.9809, -1.9809,  ..., -2.0152, -1.9980, -1.9980],\n",
       "          [-2.0323, -2.0152, -2.0323,  ..., -2.0323, -2.0152, -2.0152],\n",
       "          ...,\n",
       "          [-1.9980, -2.0152, -2.0323,  ..., -1.9980, -1.9980, -1.9980],\n",
       "          [-2.0152, -2.0152, -2.0152,  ..., -1.9980, -2.0152, -2.0152],\n",
       "          [-1.9980, -1.9980, -2.0152,  ..., -1.9980, -2.0152, -1.9980]],\n",
       " \n",
       "         [[-2.0182, -2.0007, -2.0007,  ..., -2.0007, -1.9832, -2.0007],\n",
       "          [-2.0007, -1.9832, -1.9832,  ..., -2.0182, -2.0007, -2.0007],\n",
       "          [-2.0007, -1.9832, -2.0007,  ..., -2.0182, -2.0182, -2.0182],\n",
       "          ...,\n",
       "          [-2.0007, -2.0182, -2.0357,  ..., -2.0007, -2.0007, -2.0007],\n",
       "          [-2.0182, -2.0182, -2.0182,  ..., -2.0007, -2.0182, -2.0182],\n",
       "          [-2.0007, -2.0007, -2.0182,  ..., -2.0007, -2.0182, -2.0007]],\n",
       " \n",
       "         [[-1.7696, -1.7696, -1.7522,  ..., -1.7522, -1.7347, -1.7522],\n",
       "          [-1.7696, -1.7347, -1.7347,  ..., -1.7696, -1.7522, -1.7522],\n",
       "          [-1.7870, -1.7696, -1.7696,  ..., -1.7870, -1.7696, -1.7696],\n",
       "          ...,\n",
       "          [-1.7522, -1.7696, -1.7870,  ..., -1.7522, -1.7522, -1.7522],\n",
       "          [-1.7696, -1.7696, -1.7696,  ..., -1.7522, -1.7696, -1.7696],\n",
       "          [-1.7522, -1.7522, -1.7696,  ..., -1.7522, -1.7696, -1.7522]]]),\n",
       " 'pixel_mask': tensor([[1, 1, 1,  ..., 1, 1, 1],\n",
       "         [1, 1, 1,  ..., 1, 1, 1],\n",
       "         [1, 1, 1,  ..., 1, 1, 1],\n",
       "         ...,\n",
       "         [1, 1, 1,  ..., 1, 1, 1],\n",
       "         [1, 1, 1,  ..., 1, 1, 1],\n",
       "         [1, 1, 1,  ..., 1, 1, 1]]),\n",
       " 'labels': {'size': tensor([ 800, 1066]), 'image_id': tensor([0]), 'class_labels': tensor([], dtype=torch.int64), 'boxes': tensor([], size=(0, 4)), 'area': tensor([]), 'iscrowd': tensor([], dtype=torch.int64), 'orig_size': tensor([3000, 4000])}}"
      ]
     },
     "execution_count": 34,
     "metadata": {},
     "output_type": "execute_result"
    }
   ],
   "source": [
    "eval_set[0]"
   ]
  },
  {
   "cell_type": "code",
   "execution_count": null,
   "metadata": {},
   "outputs": [],
   "source": []
  }
 ],
 "metadata": {
  "kernelspec": {
   "display_name": ".venv",
   "language": "python",
   "name": "python3"
  },
  "language_info": {
   "codemirror_mode": {
    "name": "ipython",
    "version": 3
   },
   "file_extension": ".py",
   "mimetype": "text/x-python",
   "name": "python",
   "nbconvert_exporter": "python",
   "pygments_lexer": "ipython3",
   "version": "3.11.7"
  }
 },
 "nbformat": 4,
 "nbformat_minor": 2
}
