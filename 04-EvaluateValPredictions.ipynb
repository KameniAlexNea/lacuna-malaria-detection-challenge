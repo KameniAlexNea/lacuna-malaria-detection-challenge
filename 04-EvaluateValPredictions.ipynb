{
 "cells": [
  {
   "cell_type": "code",
   "execution_count": 1,
   "metadata": {},
   "outputs": [],
   "source": [
    "VALID_PTH = \"zindi_data/ValDataset.csv\"\n",
    "PRDICTION_PTH = 'zindi_data/validation/prediction_cond-detr-50_THR0.000_IOU0.800_ID3016.csv'\n",
    "THR_INF = 0.01\n",
    "# from zindi_code import CLS_MAPPER\n",
    "# CLS_MAPPER[\"NEG\"] = 2\n",
    "# CLS_MAPPER"
   ]
  },
  {
   "cell_type": "code",
   "execution_count": 2,
   "metadata": {},
   "outputs": [],
   "source": [
    "import pandas as pd\n",
    "import json\n",
    "import os\n",
    "from tqdm import tqdm\n",
    "\n",
    "import numpy as np"
   ]
  },
  {
   "cell_type": "code",
   "execution_count": 3,
   "metadata": {},
   "outputs": [
    {
     "data": {
      "text/html": [
       "<div>\n",
       "<style scoped>\n",
       "    .dataframe tbody tr th:only-of-type {\n",
       "        vertical-align: middle;\n",
       "    }\n",
       "\n",
       "    .dataframe tbody tr th {\n",
       "        vertical-align: top;\n",
       "    }\n",
       "\n",
       "    .dataframe thead th {\n",
       "        text-align: right;\n",
       "    }\n",
       "</style>\n",
       "<table border=\"1\" class=\"dataframe\">\n",
       "  <thead>\n",
       "    <tr style=\"text-align: right;\">\n",
       "      <th></th>\n",
       "      <th>Image_ID</th>\n",
       "      <th>xmin</th>\n",
       "      <th>ymin</th>\n",
       "      <th>w</th>\n",
       "      <th>h</th>\n",
       "      <th>class</th>\n",
       "      <th>confidence</th>\n",
       "      <th>xmax</th>\n",
       "      <th>ymax</th>\n",
       "    </tr>\n",
       "  </thead>\n",
       "  <tbody>\n",
       "    <tr>\n",
       "      <th>287</th>\n",
       "      <td>id_z0i61ad0tq.jpg</td>\n",
       "      <td>637.41</td>\n",
       "      <td>840.16</td>\n",
       "      <td>62.56</td>\n",
       "      <td>64.80</td>\n",
       "      <td>WBC</td>\n",
       "      <td>0.812</td>\n",
       "      <td>699.97</td>\n",
       "      <td>904.96</td>\n",
       "    </tr>\n",
       "    <tr>\n",
       "      <th>12755</th>\n",
       "      <td>id_rvsgqs4tyq.jpg</td>\n",
       "      <td>2032.37</td>\n",
       "      <td>1832.31</td>\n",
       "      <td>125.22</td>\n",
       "      <td>150.95</td>\n",
       "      <td>WBC</td>\n",
       "      <td>0.586</td>\n",
       "      <td>2157.59</td>\n",
       "      <td>1983.26</td>\n",
       "    </tr>\n",
       "    <tr>\n",
       "      <th>11837</th>\n",
       "      <td>id_u0xldti3vu.jpg</td>\n",
       "      <td>916.39</td>\n",
       "      <td>1423.16</td>\n",
       "      <td>94.10</td>\n",
       "      <td>112.94</td>\n",
       "      <td>Trophozoite</td>\n",
       "      <td>0.057</td>\n",
       "      <td>1010.49</td>\n",
       "      <td>1536.10</td>\n",
       "    </tr>\n",
       "  </tbody>\n",
       "</table>\n",
       "</div>"
      ],
      "text/plain": [
       "                Image_ID     xmin     ymin       w       h        class  \\\n",
       "287    id_z0i61ad0tq.jpg   637.41   840.16   62.56   64.80          WBC   \n",
       "12755  id_rvsgqs4tyq.jpg  2032.37  1832.31  125.22  150.95          WBC   \n",
       "11837  id_u0xldti3vu.jpg   916.39  1423.16   94.10  112.94  Trophozoite   \n",
       "\n",
       "       confidence     xmax     ymax  \n",
       "287         0.812   699.97   904.96  \n",
       "12755       0.586  2157.59  1983.26  \n",
       "11837       0.057  1010.49  1536.10  "
      ]
     },
     "execution_count": 3,
     "metadata": {},
     "output_type": "execute_result"
    }
   ],
   "source": [
    "valid_data = pd.read_csv(VALID_PTH)\n",
    "\n",
    "predictions = pd.read_csv(PRDICTION_PTH)\n",
    "predictions.sample(3)"
   ]
  },
  {
   "cell_type": "code",
   "execution_count": 4,
   "metadata": {},
   "outputs": [
    {
     "data": {
      "text/html": [
       "<div>\n",
       "<style scoped>\n",
       "    .dataframe tbody tr th:only-of-type {\n",
       "        vertical-align: middle;\n",
       "    }\n",
       "\n",
       "    .dataframe tbody tr th {\n",
       "        vertical-align: top;\n",
       "    }\n",
       "\n",
       "    .dataframe thead th {\n",
       "        text-align: right;\n",
       "    }\n",
       "</style>\n",
       "<table border=\"1\" class=\"dataframe\">\n",
       "  <thead>\n",
       "    <tr style=\"text-align: right;\">\n",
       "      <th></th>\n",
       "      <th>Image_ID</th>\n",
       "      <th>class</th>\n",
       "      <th>confidence</th>\n",
       "      <th>ymin</th>\n",
       "      <th>xmin</th>\n",
       "      <th>ymax</th>\n",
       "      <th>xmax</th>\n",
       "      <th>width</th>\n",
       "      <th>height</th>\n",
       "    </tr>\n",
       "  </thead>\n",
       "  <tbody>\n",
       "    <tr>\n",
       "      <th>1979</th>\n",
       "      <td>id_idjqlz4ppb.jpg</td>\n",
       "      <td>WBC</td>\n",
       "      <td>1.0</td>\n",
       "      <td>2394</td>\n",
       "      <td>3245</td>\n",
       "      <td>2605</td>\n",
       "      <td>3435</td>\n",
       "      <td>4032</td>\n",
       "      <td>3016</td>\n",
       "    </tr>\n",
       "    <tr>\n",
       "      <th>1865</th>\n",
       "      <td>id_wtp7vfwf0j.jpg</td>\n",
       "      <td>WBC</td>\n",
       "      <td>1.0</td>\n",
       "      <td>653</td>\n",
       "      <td>437</td>\n",
       "      <td>717</td>\n",
       "      <td>513</td>\n",
       "      <td>1920</td>\n",
       "      <td>1080</td>\n",
       "    </tr>\n",
       "    <tr>\n",
       "      <th>1645</th>\n",
       "      <td>id_60wk14naw1.jpg</td>\n",
       "      <td>Trophozoite</td>\n",
       "      <td>1.0</td>\n",
       "      <td>1159</td>\n",
       "      <td>1132</td>\n",
       "      <td>1285</td>\n",
       "      <td>1252</td>\n",
       "      <td>4160</td>\n",
       "      <td>3120</td>\n",
       "    </tr>\n",
       "  </tbody>\n",
       "</table>\n",
       "</div>"
      ],
      "text/plain": [
       "               Image_ID        class  confidence  ymin  xmin  ymax  xmax  \\\n",
       "1979  id_idjqlz4ppb.jpg          WBC         1.0  2394  3245  2605  3435   \n",
       "1865  id_wtp7vfwf0j.jpg          WBC         1.0   653   437   717   513   \n",
       "1645  id_60wk14naw1.jpg  Trophozoite         1.0  1159  1132  1285  1252   \n",
       "\n",
       "      width  height  \n",
       "1979   4032    3016  \n",
       "1865   1920    1080  \n",
       "1645   4160    3120  "
      ]
     },
     "execution_count": 4,
     "metadata": {},
     "output_type": "execute_result"
    }
   ],
   "source": [
    "valid_data.sample(3)"
   ]
  },
  {
   "cell_type": "code",
   "execution_count": 5,
   "metadata": {},
   "outputs": [],
   "source": [
    "# valid_data = valid_data.rename(columns={\n",
    "# \t\"Image_ID\": \"image_id\", \"class\": \"category_id\", \"confidence\": \"score\", \"xmin\": \"x\", \"ymin\": \"y\"\n",
    "# })\n",
    "\n",
    "# valid_data[\"w\"] = valid_data[\"xmax\"] - valid_data[\"x\"]\n",
    "# valid_data[\"h\"] = valid_data[\"ymax\"] - valid_data[\"y\"]\n",
    "\n",
    "\n",
    "# valid_data.sample(3)"
   ]
  },
  {
   "cell_type": "code",
   "execution_count": 6,
   "metadata": {},
   "outputs": [
    {
     "data": {
      "text/plain": [
       "(275, 275)"
      ]
     },
     "execution_count": 6,
     "metadata": {},
     "output_type": "execute_result"
    }
   ],
   "source": [
    "predictions[\"Image_ID\"].nunique(), valid_data[\"Image_ID\"].nunique()"
   ]
  },
  {
   "cell_type": "code",
   "execution_count": 7,
   "metadata": {},
   "outputs": [
    {
     "data": {
      "text/plain": [
       "275"
      ]
     },
     "execution_count": 7,
     "metadata": {},
     "output_type": "execute_result"
    }
   ],
   "source": [
    "len(set(predictions[\"Image_ID\"].unique()).intersection(valid_data[\"Image_ID\"].unique()))"
   ]
  },
  {
   "cell_type": "code",
   "execution_count": 8,
   "metadata": {},
   "outputs": [
    {
     "data": {
      "text/plain": [
       "Image_ID\n",
       "id_15rb0dgq66.jpg    86\n",
       "id_wij48tbsif.jpg    85\n",
       "id_qicgns95fp.jpg    85\n",
       "id_qa70t0m4yc.jpg    85\n",
       "id_3xidcn77dw.jpg    84\n",
       "id_ilmjjeqpcy.jpg    83\n",
       "id_ndhdv3wuvg.jpg    81\n",
       "id_bwd2w8i876.jpg    79\n",
       "id_0vaw9rsiro.jpg    78\n",
       "id_w8xnbd5rvm.jpg    78\n",
       "Name: count, dtype: int64"
      ]
     },
     "execution_count": 8,
     "metadata": {},
     "output_type": "execute_result"
    }
   ],
   "source": [
    "predictions[\"Image_ID\"].value_counts().head(10)"
   ]
  },
  {
   "cell_type": "code",
   "execution_count": 9,
   "metadata": {},
   "outputs": [
    {
     "data": {
      "text/plain": [
       "Image_ID\n",
       "id_15rb0dgq66.jpg    70\n",
       "id_zg9jc73sf7.jpg    48\n",
       "id_zdg96srigj.jpg    42\n",
       "id_ndhdv3wuvg.jpg    39\n",
       "id_i7nitsscaw.jpg    39\n",
       "id_z0i61ad0tq.jpg    38\n",
       "id_ilmjjeqpcy.jpg    37\n",
       "id_by6e6shi2z.jpg    36\n",
       "id_q18tfhfneh.jpg    33\n",
       "id_087dra2apu.jpg    33\n",
       "Name: count, dtype: int64"
      ]
     },
     "execution_count": 9,
     "metadata": {},
     "output_type": "execute_result"
    }
   ],
   "source": [
    "valid_data[\"Image_ID\"].value_counts().head(10)"
   ]
  },
  {
   "cell_type": "code",
   "execution_count": 10,
   "metadata": {},
   "outputs": [
    {
     "data": {
      "text/plain": [
       "count    14446.000000\n",
       "mean         0.181902\n",
       "std          0.195331\n",
       "min          0.017000\n",
       "25%          0.051000\n",
       "50%          0.089000\n",
       "75%          0.236000\n",
       "max          0.840000\n",
       "Name: confidence, dtype: float64"
      ]
     },
     "execution_count": 10,
     "metadata": {},
     "output_type": "execute_result"
    }
   ],
   "source": [
    "predictions[\"confidence\"].describe()"
   ]
  },
  {
   "cell_type": "code",
   "execution_count": 11,
   "metadata": {},
   "outputs": [
    {
     "data": {
      "text/plain": [
       "Image_ID      0\n",
       "xmin          0\n",
       "ymin          0\n",
       "w             0\n",
       "h             0\n",
       "class         0\n",
       "confidence    0\n",
       "xmax          0\n",
       "ymax          0\n",
       "dtype: int64"
      ]
     },
     "execution_count": 11,
     "metadata": {},
     "output_type": "execute_result"
    }
   ],
   "source": [
    "predictions.isna().sum()"
   ]
  },
  {
   "cell_type": "code",
   "execution_count": 12,
   "metadata": {},
   "outputs": [
    {
     "data": {
      "text/plain": [
       "70"
      ]
     },
     "execution_count": 12,
     "metadata": {},
     "output_type": "execute_result"
    }
   ],
   "source": [
    "len(valid_data[valid_data[\"class\"] == \"NEG\"])"
   ]
  },
  {
   "cell_type": "code",
   "execution_count": 13,
   "metadata": {},
   "outputs": [
    {
     "data": {
      "text/plain": [
       "Index(['Image_ID', 'xmin', 'ymin', 'w', 'h', 'class', 'confidence', 'xmax',\n",
       "       'ymax'],\n",
       "      dtype='object')"
      ]
     },
     "execution_count": 13,
     "metadata": {},
     "output_type": "execute_result"
    }
   ],
   "source": [
    "predictions.columns"
   ]
  },
  {
   "cell_type": "code",
   "execution_count": 14,
   "metadata": {},
   "outputs": [
    {
     "data": {
      "text/plain": [
       "Index(['Image_ID', 'class', 'confidence', 'ymin', 'xmin', 'ymax', 'xmax',\n",
       "       'width', 'height'],\n",
       "      dtype='object')"
      ]
     },
     "execution_count": 14,
     "metadata": {},
     "output_type": "execute_result"
    }
   ],
   "source": [
    "valid_data.columns"
   ]
  },
  {
   "cell_type": "code",
   "execution_count": 15,
   "metadata": {},
   "outputs": [
    {
     "data": {
      "text/html": [
       "<div>\n",
       "<style scoped>\n",
       "    .dataframe tbody tr th:only-of-type {\n",
       "        vertical-align: middle;\n",
       "    }\n",
       "\n",
       "    .dataframe tbody tr th {\n",
       "        vertical-align: top;\n",
       "    }\n",
       "\n",
       "    .dataframe thead th {\n",
       "        text-align: right;\n",
       "    }\n",
       "</style>\n",
       "<table border=\"1\" class=\"dataframe\">\n",
       "  <thead>\n",
       "    <tr style=\"text-align: right;\">\n",
       "      <th></th>\n",
       "      <th>Image_ID</th>\n",
       "      <th>xmin</th>\n",
       "      <th>ymin</th>\n",
       "      <th>w</th>\n",
       "      <th>h</th>\n",
       "      <th>class</th>\n",
       "      <th>confidence</th>\n",
       "      <th>xmax</th>\n",
       "      <th>ymax</th>\n",
       "    </tr>\n",
       "  </thead>\n",
       "  <tbody>\n",
       "    <tr>\n",
       "      <th>2816</th>\n",
       "      <td>id_qa70t0m4yc.jpg</td>\n",
       "      <td>1607.97</td>\n",
       "      <td>2921.10</td>\n",
       "      <td>84.54</td>\n",
       "      <td>84.03</td>\n",
       "      <td>Trophozoite</td>\n",
       "      <td>0.320</td>\n",
       "      <td>1692.51</td>\n",
       "      <td>3005.13</td>\n",
       "    </tr>\n",
       "    <tr>\n",
       "      <th>6434</th>\n",
       "      <td>id_56cm3hgim3.jpg</td>\n",
       "      <td>879.75</td>\n",
       "      <td>2789.82</td>\n",
       "      <td>101.88</td>\n",
       "      <td>122.49</td>\n",
       "      <td>Trophozoite</td>\n",
       "      <td>0.547</td>\n",
       "      <td>981.63</td>\n",
       "      <td>2912.31</td>\n",
       "    </tr>\n",
       "    <tr>\n",
       "      <th>9036</th>\n",
       "      <td>id_igebahf2c3.jpg</td>\n",
       "      <td>712.04</td>\n",
       "      <td>2540.21</td>\n",
       "      <td>103.39</td>\n",
       "      <td>131.09</td>\n",
       "      <td>Trophozoite</td>\n",
       "      <td>0.029</td>\n",
       "      <td>815.43</td>\n",
       "      <td>2671.30</td>\n",
       "    </tr>\n",
       "    <tr>\n",
       "      <th>8758</th>\n",
       "      <td>id_u1t3vfc35i.jpg</td>\n",
       "      <td>2269.37</td>\n",
       "      <td>1571.29</td>\n",
       "      <td>142.44</td>\n",
       "      <td>198.28</td>\n",
       "      <td>WBC</td>\n",
       "      <td>0.104</td>\n",
       "      <td>2411.81</td>\n",
       "      <td>1769.57</td>\n",
       "    </tr>\n",
       "    <tr>\n",
       "      <th>10122</th>\n",
       "      <td>id_6xbobn7zax.jpg</td>\n",
       "      <td>540.75</td>\n",
       "      <td>166.54</td>\n",
       "      <td>35.12</td>\n",
       "      <td>33.03</td>\n",
       "      <td>Trophozoite</td>\n",
       "      <td>0.046</td>\n",
       "      <td>575.87</td>\n",
       "      <td>199.57</td>\n",
       "    </tr>\n",
       "  </tbody>\n",
       "</table>\n",
       "</div>"
      ],
      "text/plain": [
       "                Image_ID     xmin     ymin       w       h        class  \\\n",
       "2816   id_qa70t0m4yc.jpg  1607.97  2921.10   84.54   84.03  Trophozoite   \n",
       "6434   id_56cm3hgim3.jpg   879.75  2789.82  101.88  122.49  Trophozoite   \n",
       "9036   id_igebahf2c3.jpg   712.04  2540.21  103.39  131.09  Trophozoite   \n",
       "8758   id_u1t3vfc35i.jpg  2269.37  1571.29  142.44  198.28          WBC   \n",
       "10122  id_6xbobn7zax.jpg   540.75   166.54   35.12   33.03  Trophozoite   \n",
       "\n",
       "       confidence     xmax     ymax  \n",
       "2816        0.320  1692.51  3005.13  \n",
       "6434        0.547   981.63  2912.31  \n",
       "9036        0.029   815.43  2671.30  \n",
       "8758        0.104  2411.81  1769.57  \n",
       "10122       0.046   575.87   199.57  "
      ]
     },
     "execution_count": 15,
     "metadata": {},
     "output_type": "execute_result"
    }
   ],
   "source": [
    "predictions.sample(5)"
   ]
  },
  {
   "cell_type": "code",
   "execution_count": null,
   "metadata": {},
   "outputs": [
    {
     "name": "stdout",
     "output_type": "stream",
     "text": [
      "Prediction Extraction\n",
      "Expected Extraction\n"
     ]
    }
   ],
   "source": [
    "import torch\n",
    "\n",
    "image_files: list[str] = valid_data[\"Image_ID\"].unique().tolist()\n",
    "\n",
    "\n",
    "CLS_MAPPER = {\"Trophozoite\": 0, \"WBC\": 0}\n",
    "keys = [\"Trophozoite\", \"WBC\"]\n",
    "\n",
    "\n",
    "def get_format_pred(file_id: str, data: pd.DataFrame, thrs=THR_INF):\n",
    "    if isinstance(thrs, float):\n",
    "        thrs = [thrs] * len(CLS_MAPPER)\n",
    "    for k, thr in zip(keys, thrs):\n",
    "        CLS_MAPPER[k] = thr\n",
    "\n",
    "    pred = data[data[\"Image_ID\"] == file_id].copy()\n",
    "    pred = pred[pred[\"class\"] != \"NEG\"]\n",
    "    pred = pred[\n",
    "        pred.apply(lambda x: x[\"confidence\"] >= CLS_MAPPER[x[\"class\"]], axis=1)\n",
    "    ]\n",
    "    if not len(pred):\n",
    "        return dict(\n",
    "            boxes=torch.empty(size=[0, 4], dtype=torch.float).cuda(),\n",
    "            scores=torch.empty(size=[0], dtype=torch.float).cuda(),\n",
    "            labels=torch.empty(\n",
    "                size=[\n",
    "                    0,\n",
    "                ],\n",
    "                dtype=torch.int,\n",
    "            ).cuda(),\n",
    "        )\n",
    "        return dict(\n",
    "            boxes=torch.tensor([[0.0, 0.0, 0.0, 0.0]], dtype=torch.float).cuda(),\n",
    "            scores=torch.tensor([1.0], dtype=torch.float).cuda(),\n",
    "            labels=torch.tensor([CLS_MAPPER[\"NEG\"]], dtype=torch.int).cuda(),\n",
    "        )\n",
    "    pred[\"w\"] = pred[\"xmax\"] - pred[\"xmin\"]\n",
    "    pred[\"h\"] = pred[\"ymax\"] - pred[\"ymin\"]\n",
    "    boxes = torch.tensor(\n",
    "        pred[[\"xmin\", \"ymin\", \"w\", \"h\"]].values, dtype=torch.float\n",
    "    ).cuda()\n",
    "\n",
    "    scores = torch.tensor(pred[\"confidence\"].values, dtype=torch.float).cuda()\n",
    "    labels = torch.tensor(\n",
    "        [CLS_MAPPER[i] for i in pred[\"class\"].values], dtype=torch.int\n",
    "    ).cuda()\n",
    "    result = dict(boxes=boxes, scores=scores, labels=labels)\n",
    "    return result\n",
    "\n",
    "\n",
    "print(\"Prediction Extraction\")\n",
    "preds = [get_format_pred(i, predictions, 0.0) for i in image_files]\n",
    "print(\"Expected Extraction\")\n",
    "expected = [get_format_pred(i, valid_data, 0.0) for i in image_files]"
   ]
  },
  {
   "cell_type": "code",
   "execution_count": 17,
   "metadata": {},
   "outputs": [
    {
     "data": {
      "text/plain": [
       "{'boxes': tensor([[ 7.3333e+02,  1.0013e+03,  1.3239e+02,  1.6801e+02],\n",
       "         [ 2.1932e+03,  1.0334e+03,  7.6360e+01,  9.9060e+01],\n",
       "         [ 7.6018e+02,  2.0583e+02,  8.2760e+01,  1.0425e+02],\n",
       "         [ 1.3838e+03,  9.3542e+02,  7.6650e+01,  1.0031e+02],\n",
       "         [ 1.5111e+03,  1.3883e+03,  7.5820e+01,  9.6400e+01],\n",
       "         [ 3.8215e+02,  1.7691e+03,  7.9370e+01,  9.8730e+01],\n",
       "         [ 2.3811e+03,  8.4556e+02,  7.6260e+01,  9.9750e+01],\n",
       "         [ 1.4854e+03,  1.9080e+03,  7.6110e+01,  9.8160e+01],\n",
       "         [ 3.6311e+02,  4.9899e+02,  8.0930e+01,  9.9650e+01],\n",
       "         [ 1.0540e+03,  5.2273e+02,  7.7380e+01,  9.8970e+01],\n",
       "         [ 2.2764e+03,  1.3469e+03,  7.7180e+01,  9.5720e+01],\n",
       "         [ 2.4292e+03,  1.6844e+03,  7.8900e+01,  9.7710e+01],\n",
       "         [ 2.2828e+03,  1.3414e+03,  7.6960e+01,  9.9180e+01],\n",
       "         [ 2.4897e+03,  2.0669e+03,  8.0390e+01,  9.7700e+01],\n",
       "         [ 1.3513e+03,  2.4917e+03,  8.2070e+01,  9.9540e+01],\n",
       "         [ 2.1609e+03,  1.4849e+03,  7.4140e+01,  9.5950e+01],\n",
       "         [ 4.6671e+02,  1.5116e+03,  8.4100e+01,  1.0041e+02],\n",
       "         [ 8.9247e+02,  5.5314e+02,  7.6940e+01,  9.5180e+01],\n",
       "         [ 2.3513e+03,  6.5791e+02,  7.3630e+01,  9.2600e+01],\n",
       "         [ 2.4395e+03,  1.1512e+03,  7.7790e+01,  9.2030e+01],\n",
       "         [ 1.8344e+03,  9.2711e+02,  7.7910e+01,  9.5580e+01],\n",
       "         [ 3.3410e+01,  1.8146e+03,  8.2180e+01,  1.0072e+02],\n",
       "         [ 5.5203e+02,  4.9917e+02,  8.2730e+01,  1.0621e+02],\n",
       "         [ 2.3639e+03,  1.2211e+03,  7.0610e+01,  9.2580e+01],\n",
       "         [ 2.0549e+03,  1.5138e+03,  7.4340e+01,  9.7140e+01],\n",
       "         [ 1.3088e+03,  2.6581e+03,  8.1240e+01,  9.7120e+01],\n",
       "         [ 4.3580e+01,  3.7793e+02,  8.1280e+01,  1.0270e+02],\n",
       "         [ 9.7665e+02,  1.5267e+03,  8.0970e+01,  1.0318e+02],\n",
       "         [ 1.2077e+03,  1.1426e+03,  7.2400e+01,  9.6350e+01],\n",
       "         [ 5.5908e+02,  2.2377e+03,  8.3340e+01,  1.0180e+02],\n",
       "         [ 8.9932e+02,  1.0509e+03,  7.9210e+01,  1.0231e+02],\n",
       "         [ 1.6957e+03,  8.5334e+02,  7.6630e+01,  1.0169e+02],\n",
       "         [ 2.0904e+02,  2.0079e+03,  8.4580e+01,  9.8020e+01],\n",
       "         [ 2.3714e+03,  1.0530e+03,  7.9290e+01,  9.8540e+01],\n",
       "         [ 1.5857e+03,  6.5585e+02,  7.8890e+01,  9.7260e+01],\n",
       "         [ 2.5709e+03,  1.5867e+03,  8.0880e+01,  1.0146e+02],\n",
       "         [ 1.3554e+03,  3.0297e+02,  7.7500e+01,  9.8870e+01],\n",
       "         [ 2.5496e+03,  1.5301e+03,  7.8310e+01,  1.0142e+02],\n",
       "         [ 7.2022e+02,  1.9148e+03,  8.8340e+01,  1.0095e+02],\n",
       "         [ 1.3097e+03,  4.4253e+02,  8.0880e+01,  1.0277e+02],\n",
       "         [ 2.5417e+03,  1.5362e+03,  7.6400e+01,  1.0016e+02],\n",
       "         [ 1.3408e+03,  1.0534e+03,  1.1125e+02,  1.1911e+02],\n",
       "         [ 2.4472e+03,  1.1487e+03,  7.6280e+01,  9.2460e+01],\n",
       "         [ 1.5828e+02,  1.0126e+02,  7.6450e+01,  8.9950e+01],\n",
       "         [ 9.6483e+02,  1.3386e+02,  8.0820e+01,  1.0332e+02],\n",
       "         [ 2.3908e+03,  8.4695e+02,  7.7720e+01,  1.0214e+02],\n",
       "         [ 8.6238e+02,  9.8922e+02,  7.1660e+01,  8.9820e+01],\n",
       "         [ 2.6464e+03,  1.7189e+03,  7.7390e+01,  9.4000e+01],\n",
       "         [-3.2000e-01,  1.3692e+03,  3.4370e+01,  9.9850e+01],\n",
       "         [ 8.6954e+02,  9.8955e+02,  7.5770e+01,  9.5440e+01],\n",
       "         [ 2.3804e+03,  1.2833e+03,  7.8820e+01,  9.4600e+01],\n",
       "         [ 1.5760e+03,  2.5086e+03,  7.6790e+01,  9.6200e+01],\n",
       "         [ 2.6524e+03,  1.9938e+02,  8.3670e+01,  1.0373e+02],\n",
       "         [ 2.4401e+03,  1.6849e+03,  7.8340e+01,  9.5660e+01],\n",
       "         [ 2.3671e+03,  2.5512e+03,  8.1640e+01,  1.0504e+02],\n",
       "         [ 2.4146e+03,  7.8637e+02,  7.3180e+01,  9.1470e+01],\n",
       "         [ 2.3711e+03,  8.4865e+02,  7.8890e+01,  9.8690e+01],\n",
       "         [ 4.7328e+02,  1.1674e+03,  8.2270e+01,  9.8670e+01],\n",
       "         [ 9.7770e+02,  2.0916e+03,  7.8790e+01,  1.0108e+02],\n",
       "         [ 2.0298e+03,  2.8560e+03,  8.0220e+01,  9.8600e+01],\n",
       "         [ 2.1827e+03,  5.9687e+02,  8.0200e+01,  1.0241e+02],\n",
       "         [ 2.6900e+00,  1.9522e+03,  6.1470e+01,  9.1480e+01],\n",
       "         [ 2.2939e+03,  2.6949e+03,  8.6660e+01,  9.9500e+01],\n",
       "         [ 1.1950e+03,  1.1452e+03,  7.8400e+01,  9.9240e+01],\n",
       "         [ 5.5922e+02,  7.1564e+02,  7.6480e+01,  9.6640e+01],\n",
       "         [ 2.0255e+03,  2.8479e+03,  8.1020e+01,  9.8450e+01],\n",
       "         [ 1.3664e+03,  2.4939e+03,  7.7420e+01,  9.1330e+01],\n",
       "         [ 1.6823e+03,  1.5620e+01,  8.2180e+01,  9.1690e+01],\n",
       "         [ 7.9385e+02,  2.5228e+03,  8.5010e+01,  1.0757e+02],\n",
       "         [ 2.5789e+03,  1.1320e+01,  8.6360e+01,  9.1840e+01],\n",
       "         [ 2.4013e+03,  1.1694e+03,  8.2530e+01,  9.3430e+01],\n",
       "         [ 2.1709e+03,  1.7810e+03,  8.1900e+01,  9.6020e+01],\n",
       "         [ 2.3503e+03,  6.7446e+02,  7.4550e+01,  9.5530e+01],\n",
       "         [ 4.6357e+02,  8.6322e+02,  7.9650e+01,  9.9710e+01],\n",
       "         [ 4.6816e+02,  8.6739e+02,  8.2750e+01,  1.0041e+02],\n",
       "         [ 2.8417e+03,  2.9409e+03,  7.9880e+01,  7.1260e+01],\n",
       "         [ 9.3000e-01,  1.9421e+03,  4.1460e+01,  9.1300e+01],\n",
       "         [ 2.4554e+03,  2.8784e+03,  1.3328e+02,  1.3145e+02]], device='cuda:0'),\n",
       " 'scores': tensor([0.7820, 0.5660, 0.5430, 0.5290, 0.5280, 0.4980, 0.4730, 0.4690, 0.4660,\n",
       "         0.4540, 0.4510, 0.4490, 0.4300, 0.4280, 0.4100, 0.4100, 0.3990, 0.3960,\n",
       "         0.3850, 0.3810, 0.3760, 0.3730, 0.3710, 0.3670, 0.3440, 0.3300, 0.3040,\n",
       "         0.2890, 0.2870, 0.2860, 0.2600, 0.2580, 0.2530, 0.2510, 0.2510, 0.2510,\n",
       "         0.2410, 0.2370, 0.2240, 0.2180, 0.2180, 0.2100, 0.2090, 0.2020, 0.1980,\n",
       "         0.1900, 0.1880, 0.1770, 0.1660, 0.1640, 0.1640, 0.1620, 0.1610, 0.1560,\n",
       "         0.1540, 0.1460, 0.1440, 0.1430, 0.1420, 0.1380, 0.1370, 0.1330, 0.1320,\n",
       "         0.1260, 0.1200, 0.1180, 0.1170, 0.1130, 0.1090, 0.1060, 0.1060, 0.1030,\n",
       "         0.1030, 0.1000, 0.1000, 0.1000, 0.1000, 0.0950], device='cuda:0'),\n",
       " 'labels': tensor([0, 0, 0, 0, 0, 0, 0, 0, 0, 0, 0, 0, 0, 0, 0, 0, 0, 0, 0, 0, 0, 0, 0, 0,\n",
       "         0, 0, 0, 0, 0, 0, 0, 0, 0, 0, 0, 0, 0, 0, 0, 0, 0, 0, 0, 0, 0, 0, 0, 0,\n",
       "         0, 0, 0, 0, 0, 0, 0, 0, 0, 0, 0, 0, 0, 0, 0, 0, 0, 0, 0, 0, 0, 0, 0, 0,\n",
       "         0, 0, 0, 0, 0, 0], device='cuda:0', dtype=torch.int32)}"
      ]
     },
     "execution_count": 17,
     "metadata": {},
     "output_type": "execute_result"
    }
   ],
   "source": [
    "preds[0]"
   ]
  },
  {
   "cell_type": "code",
   "execution_count": 18,
   "metadata": {},
   "outputs": [
    {
     "data": {
      "text/plain": [
       "{'boxes': tensor([[1744.,  925.,   79.,  116.],\n",
       "         [2278.,  904.,  116.,  116.],\n",
       "         [3060., 1141.,  100.,   95.],\n",
       "         [1881., 1913.,   95.,  106.],\n",
       "         [1702., 2489.,   85.,   90.],\n",
       "         [2674., 1501.,  100.,   85.],\n",
       "         [3023., 1675.,  106.,  111.],\n",
       "         [2848., 1353.,   90.,  106.],\n",
       "         [ 470., 1765.,  116.,  122.],\n",
       "         [2943., 1226.,   95.,  106.],\n",
       "         [2933.,  671.,   95.,   85.],\n",
       "         [1311.,  534.,   90.,  100.],\n",
       "         [ 254., 2003.,  100.,  111.],\n",
       "         [ 941.,  206.,   90.,  106.],\n",
       "         [2949., 1041.,   90.,  106.],\n",
       "         [1649., 2669.,   90.,   95.],\n",
       "         [ 460.,  523.,   90.,   85.],\n",
       "         [ 925.,  988.,  169.,  206.],\n",
       "         [1887., 1395.,   95.,   90.],\n",
       "         [3012.,  772.,  106.,  100.],\n",
       "         [2743., 1046.,   74.,   85.]], device='cuda:0'),\n",
       " 'scores': tensor([1., 1., 1., 1., 1., 1., 1., 1., 1., 1., 1., 1., 1., 1., 1., 1., 1., 1.,\n",
       "         1., 1., 1.], device='cuda:0'),\n",
       " 'labels': tensor([0, 0, 0, 0, 0, 0, 0, 0, 0, 0, 0, 0, 0, 0, 0, 0, 0, 0, 0, 0, 0],\n",
       "        device='cuda:0', dtype=torch.int32)}"
      ]
     },
     "execution_count": 18,
     "metadata": {},
     "output_type": "execute_result"
    }
   ],
   "source": [
    "expected[0]"
   ]
  },
  {
   "cell_type": "code",
   "execution_count": 19,
   "metadata": {},
   "outputs": [
    {
     "name": "stdout",
     "output_type": "stream",
     "text": [
      "{'classes': tensor(0, dtype=torch.int32),\n",
      " 'map': tensor(0.0029),\n",
      " 'map_50': tensor(0.0127),\n",
      " 'map_75': tensor(0.0002),\n",
      " 'map_large': tensor(0.0001),\n",
      " 'map_medium': tensor(0.0070),\n",
      " 'map_per_class': tensor(0.0029),\n",
      " 'map_small': tensor(0.0027),\n",
      " 'mar_1': tensor(0.0027),\n",
      " 'mar_10': tensor(0.0207),\n",
      " 'mar_100': tensor(0.0351),\n",
      " 'mar_100_per_class': tensor(0.0351),\n",
      " 'mar_large': tensor(0.0043),\n",
      " 'mar_medium': tensor(0.0510),\n",
      " 'mar_small': tensor(0.0282)}\n"
     ]
    }
   ],
   "source": [
    "from torchmetrics.detection import MeanAveragePrecision\n",
    "\n",
    "metric = MeanAveragePrecision(\n",
    "    iou_type=\"bbox\",\n",
    "    box_format=\"xywh\",\n",
    "    class_metrics=True,\n",
    "    extended_summary=False,\n",
    "    # backend=\"faster_coco_eval\",\n",
    ")\n",
    "\n",
    "\n",
    "metric.update(preds=preds, target=expected)\n",
    "\n",
    "from pprint import pprint\n",
    "\n",
    "pprint(metric.compute())"
   ]
  },
  {
   "cell_type": "code",
   "execution_count": 20,
   "metadata": {},
   "outputs": [
    {
     "data": {
      "text/plain": [
       "{'boxes': tensor([[1277.,  127.,   85.,   70.],\n",
       "         [1583.,  878.,   62.,   61.],\n",
       "         [ 755.,  815.,   59.,   64.],\n",
       "         [ 929.,  165.,   38.,   34.],\n",
       "         [ 864.,  375.,   96.,   79.],\n",
       "         [1430.,   66.,   26.,   25.],\n",
       "         [ 473.,  513.,   32.,   38.],\n",
       "         [1110.,  131.,   28.,   28.],\n",
       "         [ 908.,  291.,   64.,   59.],\n",
       "         [1394.,  600.,   28.,   26.],\n",
       "         [1226.,  269.,   32.,   34.],\n",
       "         [1432.,  110.,   30.,   32.],\n",
       "         [ 653.,  815.,   30.,   32.],\n",
       "         [1131.,  161.,   62.,   81.]], device='cuda:0'),\n",
       " 'scores': tensor([1., 1., 1., 1., 1., 1., 1., 1., 1., 1., 1., 1., 1., 1.],\n",
       "        device='cuda:0'),\n",
       " 'labels': tensor([0, 0, 0, 0, 0, 0, 0, 0, 0, 0, 0, 0, 0, 0], device='cuda:0',\n",
       "        dtype=torch.int32)}"
      ]
     },
     "execution_count": 20,
     "metadata": {},
     "output_type": "execute_result"
    }
   ],
   "source": [
    "expected[128]"
   ]
  },
  {
   "cell_type": "code",
   "execution_count": 26,
   "metadata": {},
   "outputs": [
    {
     "data": {
      "text/plain": [
       "{'boxes': tensor([[ 755.0400,  761.6900,   62.4200,   62.2600],\n",
       "         [1582.9200,  823.0600,   57.0000,   55.6900],\n",
       "         [ 917.6500,  273.1400,   56.5100,   58.0500],\n",
       "         [1279.1600,  118.4900,   80.9700,   63.9600],\n",
       "         [1130.1600,  157.1900,   60.6300,   73.6500],\n",
       "         [ 857.2600,  357.1600,   74.3100,   69.1900],\n",
       "         [ 741.5000,  134.5200,   55.4000,   56.7700],\n",
       "         [1215.1200,  648.0500,   31.5900,   29.7500],\n",
       "         [1225.4900,  253.3500,   32.2500,   31.1700],\n",
       "         [ 711.8900,  292.8400,   29.9700,   29.1700],\n",
       "         [ 628.6100,  391.2200,   34.7900,   33.5500],\n",
       "         [ 990.2800,  449.2000,   42.1000,   36.2600],\n",
       "         [ 205.7600,  262.8500,   33.1500,   29.5400],\n",
       "         [ 688.0300,  601.5400,   59.5100,   47.4000],\n",
       "         [ 472.7700,  484.5700,   34.0000,   32.1900],\n",
       "         [1302.2400,  268.9500,   32.8600,   30.8600],\n",
       "         [ 980.1200,  612.7300,   30.8800,   29.9900],\n",
       "         [1109.7200,  120.5900,   30.6400,   28.5700],\n",
       "         [1396.0100,  563.9100,   27.9900,   26.6200],\n",
       "         [1398.5601,  564.3000,   29.8600,   27.4900],\n",
       "         [ 169.5300,  554.8400,   44.3500,   35.9700],\n",
       "         [ 864.4300,  947.7700,   31.6700,   31.3800],\n",
       "         [ 981.3500,  530.4400,   37.4000,   35.0500],\n",
       "         [ 652.9600,  762.8600,   33.1100,   31.9200],\n",
       "         [ 750.2500,  373.4300,   32.0800,   28.2400],\n",
       "         [ 764.5500,  284.6900,   37.3900,   31.2300],\n",
       "         [1425.2600,   58.8600,   31.2200,   28.7700],\n",
       "         [ 959.3400,  921.2800,   35.4300,   31.9300],\n",
       "         [ 759.5000,  614.0800,   30.0900,   29.4500],\n",
       "         [1052.1899,  630.5600,   36.3300,   33.4000],\n",
       "         [1096.6200,  949.4200,   34.2000,   29.4300],\n",
       "         [1442.1700,  607.5900,   30.9200,   28.0900],\n",
       "         [1438.3900,  523.5900,   40.0000,   40.3300],\n",
       "         [ 935.4700,  155.9100,   30.1300,   26.8100],\n",
       "         [1516.0100,  381.9400,   29.8300,   26.6000],\n",
       "         [ 988.9200,  538.1700,   36.8900,   34.0400],\n",
       "         [1430.4900,  108.9100,   30.3900,   28.0300],\n",
       "         [1544.4301,   97.0700,   30.7500,   27.4800],\n",
       "         [ 779.9400,  821.2800,   33.9700,   27.4900],\n",
       "         [ 762.2600,  288.6600,   36.4100,   30.4200],\n",
       "         [ 757.5200,  232.9300,   44.8000,   38.0700],\n",
       "         [1086.0100,  788.8000,   34.7900,   30.9700],\n",
       "         [1560.8400,  537.3200,   31.5100,   29.2500],\n",
       "         [1734.8000,  523.6100,   32.4000,   30.6100],\n",
       "         [ 994.3400,   32.1500,   39.7700,   36.4100],\n",
       "         [1142.2000,  860.8100,   31.6300,   29.4600],\n",
       "         [ 782.5900,  822.7200,   30.4100,   24.3900],\n",
       "         [1063.0300,  707.5000,   56.3200,   44.1600],\n",
       "         [ 865.9200,  888.4700,   34.8000,   28.3700],\n",
       "         [1168.2000,  561.1700,   60.5400,   50.9900],\n",
       "         [ 794.6400,   21.8900,   30.7500,   26.3900],\n",
       "         [1491.1000,  904.5500,   29.3100,   26.8300],\n",
       "         [ 989.6700,  453.2200,   38.0800,   33.2100],\n",
       "         [ 784.5900,  501.8100,   34.8500,   33.3200],\n",
       "         [ 781.6100,  826.4600,   32.6800,   26.9500],\n",
       "         [1226.8500,  254.0700,   34.9600,   32.4300],\n",
       "         [1081.1899,    8.7300,   28.7400,   22.7200],\n",
       "         [ 272.6800,  510.8700,   31.0600,   27.7000],\n",
       "         [ 993.8800,  449.4100,   43.1900,   37.5400],\n",
       "         [ 376.0100,  513.0100,   35.4100,   30.1800],\n",
       "         [1400.5500,  560.7200,   31.1400,   29.0500],\n",
       "         [ 909.6600,  346.0200,   45.1600,   39.5100],\n",
       "         [1779.6801,  413.6000,   31.1000,   27.7400],\n",
       "         [ 863.8300,  946.7300,   38.0600,   35.1100],\n",
       "         [ 984.2300,  612.7300,   34.8200,   32.6000],\n",
       "         [ 557.6700,  929.6200,   32.0500,   27.6100],\n",
       "         [1277.4100,  369.2400,   30.2700,   27.8100]], device='cuda:0'),\n",
       " 'scores': tensor([0.7450, 0.7120, 0.6970, 0.6080, 0.4950, 0.3760, 0.3090, 0.3050, 0.2770,\n",
       "         0.2740, 0.2460, 0.2400, 0.2360, 0.2330, 0.2180, 0.2110, 0.2040, 0.2030,\n",
       "         0.1950, 0.1910, 0.1910, 0.1900, 0.1890, 0.1770, 0.1690, 0.1670, 0.1610,\n",
       "         0.1500, 0.1480, 0.1460, 0.1450, 0.1450, 0.1430, 0.1400, 0.1400, 0.1370,\n",
       "         0.1350, 0.1330, 0.1290, 0.1150, 0.1150, 0.1140, 0.1110, 0.1100, 0.1090,\n",
       "         0.1050, 0.1040, 0.1040, 0.1030, 0.1030, 0.1000, 0.0990, 0.0970, 0.0960,\n",
       "         0.0940, 0.0940, 0.0870, 0.0820, 0.0810, 0.0800, 0.0800, 0.0780, 0.0770,\n",
       "         0.0770, 0.0760, 0.0760, 0.0740], device='cuda:0'),\n",
       " 'labels': tensor([0, 0, 0, 0, 0, 0, 0, 0, 0, 0, 0, 0, 0, 0, 0, 0, 0, 0, 0, 0, 0, 0, 0, 0,\n",
       "         0, 0, 0, 0, 0, 0, 0, 0, 0, 0, 0, 0, 0, 0, 0, 0, 0, 0, 0, 0, 0, 0, 0, 0,\n",
       "         0, 0, 0, 0, 0, 0, 0, 0, 0, 0, 0, 0, 0, 0, 0, 0, 0, 0, 0],\n",
       "        device='cuda:0', dtype=torch.int32)}"
      ]
     },
     "execution_count": 26,
     "metadata": {},
     "output_type": "execute_result"
    }
   ],
   "source": [
    "preds[128]"
   ]
  },
  {
   "cell_type": "code",
   "execution_count": 29,
   "metadata": {},
   "outputs": [],
   "source": [
    "import optuna\n",
    "from optuna.trial import Trial\n",
    "\n",
    "def objective(trial: Trial):\n",
    "    thrs = [\n",
    "        trial.suggest_float(\"thr0\", 1.e-5, 1, log=True), trial.suggest_float(\"thr1\", 1e-5, 1, log=True),\n",
    "\t]\n",
    "    metric = MeanAveragePrecision(\n",
    "        iou_type=\"bbox\",\n",
    "        box_format=\"xywh\",\n",
    "        class_metrics=True,\n",
    "        extended_summary=False,\n",
    "        # backend=\"faster_coco_eval\",\n",
    "    )\n",
    "    preds = [get_format_pred(i, predictions, thrs) for i in image_files]\n",
    "    expected = [get_format_pred(i, valid_data, thrs) for i in image_files]\n",
    "    metric.update(preds=preds, target=expected)\n",
    "    scores = metric.compute()\n",
    "    return scores[\"map_50\"]\n",
    "    # if scores[\"map_50\"] > best_score:\n",
    "    #     best_score = scores[\"map_50\"]\n",
    "    #     best_thr = thrs\n",
    "    #     print(best_thr, best_score)"
   ]
  },
  {
   "cell_type": "code",
   "execution_count": 37,
   "metadata": {},
   "outputs": [
    {
     "name": "stderr",
     "output_type": "stream",
     "text": [
      "[I 2024-11-11 14:19:59,794] A new study created in memory with name: no-name-ffea6863-740b-40ce-9e2b-a613bd9437bc\n",
      "[I 2024-11-11 14:20:07,292] Trial 0 finished with value: 0.012680408544838428 and parameters: {'thr0': 0.00010064732376711895, 'thr1': 0.02663341861172616}. Best is trial 0 with value: 0.012680408544838428.\n",
      "[I 2024-11-11 14:20:13,364] Trial 1 finished with value: 0.012680408544838428 and parameters: {'thr0': 0.07899989583700245, 'thr1': 1.4526013070565134e-05}. Best is trial 0 with value: 0.012680408544838428.\n",
      "[I 2024-11-11 14:20:21,015] Trial 2 finished with value: 0.012680408544838428 and parameters: {'thr0': 0.00013498271160496572, 'thr1': 0.032147893745899055}. Best is trial 0 with value: 0.012680408544838428.\n",
      "[I 2024-11-11 14:20:28,388] Trial 3 finished with value: 0.012680408544838428 and parameters: {'thr0': 1.0186313693978222e-05, 'thr1': 0.00011601632472458592}. Best is trial 0 with value: 0.012680408544838428.\n",
      "[I 2024-11-11 14:20:36,026] Trial 4 finished with value: 0.012680408544838428 and parameters: {'thr0': 0.008671343738307151, 'thr1': 0.010735633192989364}. Best is trial 0 with value: 0.012680408544838428.\n",
      "[I 2024-11-11 14:20:43,402] Trial 5 finished with value: 0.012680408544838428 and parameters: {'thr0': 7.277711080048536e-05, 'thr1': 0.0015932403028304125}. Best is trial 0 with value: 0.012680408544838428.\n",
      "[I 2024-11-11 14:20:51,105] Trial 6 finished with value: 0.012680408544838428 and parameters: {'thr0': 0.014969748935674551, 'thr1': 6.421320337623567e-05}. Best is trial 0 with value: 0.012680408544838428.\n",
      "[I 2024-11-11 14:20:58,512] Trial 7 finished with value: 0.012680408544838428 and parameters: {'thr0': 0.001002376080522711, 'thr1': 4.864968366273612e-05}. Best is trial 0 with value: 0.012680408544838428.\n",
      "[I 2024-11-11 14:21:01,364] Trial 8 finished with value: 0.009583065286278725 and parameters: {'thr0': 0.6502186074608526, 'thr1': 0.00047865109987376125}. Best is trial 0 with value: 0.012680408544838428.\n",
      "[I 2024-11-11 14:21:09,047] Trial 9 finished with value: 0.012680408544838428 and parameters: {'thr0': 0.005689075116486512, 'thr1': 0.0027812371631427916}. Best is trial 0 with value: 0.012680408544838428.\n",
      "[I 2024-11-11 14:21:15,695] Trial 10 finished with value: 0.006475935224443674 and parameters: {'thr0': 0.0003948199817888925, 'thr1': 0.987846297628337}. Best is trial 0 with value: 0.012680408544838428.\n",
      "[I 2024-11-11 14:21:20,707] Trial 11 finished with value: 0.012329339981079102 and parameters: {'thr0': 0.15814085356399166, 'thr1': 0.14350096719757188}. Best is trial 0 with value: 0.012680408544838428.\n",
      "[I 2024-11-11 14:21:26,066] Trial 12 finished with value: 0.012329339981079102 and parameters: {'thr0': 0.1230539324765956, 'thr1': 0.02410054097942829}. Best is trial 0 with value: 0.012680408544838428.\n",
      "[I 2024-11-11 14:21:32,870] Trial 13 finished with value: 0.012680408544838428 and parameters: {'thr0': 0.04926404116757002, 'thr1': 1.0355739945069747e-05}. Best is trial 0 with value: 0.012680408544838428.\n",
      "[I 2024-11-11 14:21:40,376] Trial 14 finished with value: 0.0126449353992939 and parameters: {'thr0': 0.001326684992106709, 'thr1': 0.14455422880195062}. Best is trial 0 with value: 0.012680408544838428.\n",
      "[I 2024-11-11 14:21:47,801] Trial 15 finished with value: 0.012680408544838428 and parameters: {'thr0': 1.9117845067543005e-05, 'thr1': 0.0007362478891977838}. Best is trial 0 with value: 0.012680408544838428.\n",
      "[I 2024-11-11 14:21:50,694] Trial 16 finished with value: 0.009564097970724106 and parameters: {'thr0': 0.8200234698943492, 'thr1': 0.14807943842056276}. Best is trial 0 with value: 0.012680408544838428.\n",
      "[I 2024-11-11 14:21:58,157] Trial 17 finished with value: 0.012680408544838428 and parameters: {'thr0': 0.00014144925409203296, 'thr1': 0.006901747567641017}. Best is trial 0 with value: 0.012680408544838428.\n",
      "[I 2024-11-11 14:22:05,455] Trial 18 finished with value: 0.012680408544838428 and parameters: {'thr0': 0.029778683900334762, 'thr1': 1.541765324668023e-05}. Best is trial 0 with value: 0.012680408544838428.\n",
      "[I 2024-11-11 14:22:13,138] Trial 19 finished with value: 0.012680408544838428 and parameters: {'thr0': 0.0019476659765123342, 'thr1': 0.0001780835935581056}. Best is trial 0 with value: 0.012680408544838428.\n",
      "[I 2024-11-11 14:22:19,797] Trial 20 finished with value: 0.006475935224443674 and parameters: {'thr0': 4.222479976496905e-05, 'thr1': 0.8423172807300386}. Best is trial 0 with value: 0.012680408544838428.\n",
      "[I 2024-11-11 14:22:27,462] Trial 21 finished with value: 0.012680408544838428 and parameters: {'thr0': 0.00027890215085533206, 'thr1': 0.030975793707432656}. Best is trial 0 with value: 0.012680408544838428.\n",
      "[I 2024-11-11 14:22:34,858] Trial 22 finished with value: 0.012680408544838428 and parameters: {'thr0': 0.000405524597584004, 'thr1': 0.035918670685815876}. Best is trial 0 with value: 0.012680408544838428.\n",
      "[I 2024-11-11 14:22:42,515] Trial 23 finished with value: 0.012680408544838428 and parameters: {'thr0': 6.13910106335542e-05, 'thr1': 0.009214731385705012}. Best is trial 0 with value: 0.012680408544838428.\n",
      "[I 2024-11-11 14:22:49,845] Trial 24 finished with value: 0.012680408544838428 and parameters: {'thr0': 0.00018884826574490208, 'thr1': 0.06880025240702597}. Best is trial 0 with value: 0.012680408544838428.\n",
      "[I 2024-11-11 14:22:57,210] Trial 25 finished with value: 0.012260590679943562 and parameters: {'thr0': 0.000786099150516176, 'thr1': 0.33074756297893426}. Best is trial 0 with value: 0.012680408544838428.\n",
      "[I 2024-11-11 14:23:04,600] Trial 26 finished with value: 0.012680408544838428 and parameters: {'thr0': 0.0049397084638654965, 'thr1': 0.003972690827137137}. Best is trial 0 with value: 0.012680408544838428.\n",
      "[I 2024-11-11 14:23:12,329] Trial 27 finished with value: 0.012680408544838428 and parameters: {'thr0': 2.8032483089924558e-05, 'thr1': 0.021633056664978566}. Best is trial 0 with value: 0.012680408544838428.\n",
      "[I 2024-11-11 14:23:19,757] Trial 28 finished with value: 0.012680408544838428 and parameters: {'thr0': 0.00010796792251676321, 'thr1': 0.001142907505276298}. Best is trial 0 with value: 0.012680408544838428.\n",
      "[I 2024-11-11 14:23:27,470] Trial 29 finished with value: 0.012680408544838428 and parameters: {'thr0': 1.1281249564609688e-05, 'thr1': 0.0002677069951471353}. Best is trial 0 with value: 0.012680408544838428.\n"
     ]
    }
   ],
   "source": [
    "study = optuna.create_study(direction=\"maximize\")\n",
    "study.optimize(objective, n_trials=30)"
   ]
  },
  {
   "cell_type": "code",
   "execution_count": 38,
   "metadata": {},
   "outputs": [
    {
     "data": {
      "text/plain": [
       "{'thr0': 0.00010064732376711895, 'thr1': 0.02663341861172616}"
      ]
     },
     "execution_count": 38,
     "metadata": {},
     "output_type": "execute_result"
    }
   ],
   "source": [
    "study.best_params"
   ]
  },
  {
   "cell_type": "code",
   "execution_count": 39,
   "metadata": {},
   "outputs": [
    {
     "data": {
      "text/plain": [
       "0.012680408544838428"
      ]
     },
     "execution_count": 39,
     "metadata": {},
     "output_type": "execute_result"
    }
   ],
   "source": [
    "study.best_value"
   ]
  },
  {
   "cell_type": "code",
   "execution_count": 40,
   "metadata": {},
   "outputs": [],
   "source": [
    "thr = list(study.best_params.values())\n",
    "\n",
    "metric = MeanAveragePrecision(\n",
    "    iou_type=\"bbox\",\n",
    "    box_format=\"xywh\",\n",
    "    class_metrics=True,\n",
    "    extended_summary=False,\n",
    "    backend=\"faster_coco_eval\",\n",
    ")\n",
    "preds = [get_format_pred(i, predictions, thr) for i in image_files]\n",
    "expected = [get_format_pred(i, valid_data, thr) for i in image_files]\n",
    "metric.update(preds=preds, target=expected)\n",
    "scores = metric.compute()"
   ]
  },
  {
   "cell_type": "code",
   "execution_count": 41,
   "metadata": {},
   "outputs": [
    {
     "data": {
      "text/plain": [
       "{'map': tensor(0.0029),\n",
       " 'map_50': tensor(0.0127),\n",
       " 'map_75': tensor(0.0002),\n",
       " 'map_small': tensor(0.0027),\n",
       " 'map_medium': tensor(0.0070),\n",
       " 'map_large': tensor(0.0001),\n",
       " 'mar_1': tensor(0.0027),\n",
       " 'mar_10': tensor(0.0207),\n",
       " 'mar_100': tensor(0.0351),\n",
       " 'mar_small': tensor(0.0282),\n",
       " 'mar_medium': tensor(0.0510),\n",
       " 'mar_large': tensor(0.0043),\n",
       " 'map_per_class': tensor(0.0029),\n",
       " 'mar_100_per_class': tensor(0.0351),\n",
       " 'classes': tensor(0, dtype=torch.int32)}"
      ]
     },
     "execution_count": 41,
     "metadata": {},
     "output_type": "execute_result"
    }
   ],
   "source": [
    "scores"
   ]
  },
  {
   "cell_type": "code",
   "execution_count": null,
   "metadata": {},
   "outputs": [],
   "source": []
  }
 ],
 "metadata": {
  "kernelspec": {
   "display_name": ".venv",
   "language": "python",
   "name": "python3"
  },
  "language_info": {
   "codemirror_mode": {
    "name": "ipython",
    "version": 3
   },
   "file_extension": ".py",
   "mimetype": "text/x-python",
   "name": "python",
   "nbconvert_exporter": "python",
   "pygments_lexer": "ipython3",
   "version": "3.11.7"
  }
 },
 "nbformat": 4,
 "nbformat_minor": 2
}
