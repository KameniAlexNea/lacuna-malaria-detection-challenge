{
 "cells": [
  {
   "cell_type": "code",
   "execution_count": 1,
   "metadata": {},
   "outputs": [],
   "source": [
    "VALID_DATA = \"zindi_data/ValDataset.csv\"\n",
    "DATA_PTH = \"zindi_data/validation/prediction_cond-detr-50_THR1.000_IOU0.800_ID1740_P.csv\"\n",
    "THR_INF = 0.05\n",
    "CLS_MAPPER = {\"Trophozoite\": 0, \"WBC\": 1, \"NEG\": 2}"
   ]
  },
  {
   "cell_type": "code",
   "execution_count": 2,
   "metadata": {},
   "outputs": [],
   "source": [
    "import pandas as pd\n",
    "import json\n",
    "import os\n",
    "from tqdm import tqdm\n",
    "\n",
    "import numpy as np"
   ]
  },
  {
   "cell_type": "code",
   "execution_count": 3,
   "metadata": {},
   "outputs": [
    {
     "data": {
      "text/html": [
       "<div>\n",
       "<style scoped>\n",
       "    .dataframe tbody tr th:only-of-type {\n",
       "        vertical-align: middle;\n",
       "    }\n",
       "\n",
       "    .dataframe tbody tr th {\n",
       "        vertical-align: top;\n",
       "    }\n",
       "\n",
       "    .dataframe thead th {\n",
       "        text-align: right;\n",
       "    }\n",
       "</style>\n",
       "<table border=\"1\" class=\"dataframe\">\n",
       "  <thead>\n",
       "    <tr style=\"text-align: right;\">\n",
       "      <th></th>\n",
       "      <th>image_id</th>\n",
       "      <th>x</th>\n",
       "      <th>y</th>\n",
       "      <th>w</th>\n",
       "      <th>h</th>\n",
       "      <th>category_id</th>\n",
       "      <th>score</th>\n",
       "    </tr>\n",
       "  </thead>\n",
       "  <tbody>\n",
       "    <tr>\n",
       "      <th>15313</th>\n",
       "      <td>id_j8ri1iub1e.jpg</td>\n",
       "      <td>957.77</td>\n",
       "      <td>2343.83</td>\n",
       "      <td>84.78</td>\n",
       "      <td>96.42</td>\n",
       "      <td>Trophozoite</td>\n",
       "      <td>0.060</td>\n",
       "    </tr>\n",
       "    <tr>\n",
       "      <th>4594</th>\n",
       "      <td>id_147gpcegp6.jpg</td>\n",
       "      <td>3355.83</td>\n",
       "      <td>2735.43</td>\n",
       "      <td>99.99</td>\n",
       "      <td>117.47</td>\n",
       "      <td>Trophozoite</td>\n",
       "      <td>0.050</td>\n",
       "    </tr>\n",
       "    <tr>\n",
       "      <th>15685</th>\n",
       "      <td>id_4f9wdugdot.jpg</td>\n",
       "      <td>1172.22</td>\n",
       "      <td>2471.34</td>\n",
       "      <td>97.89</td>\n",
       "      <td>105.25</td>\n",
       "      <td>Trophozoite</td>\n",
       "      <td>0.061</td>\n",
       "    </tr>\n",
       "  </tbody>\n",
       "</table>\n",
       "</div>"
      ],
      "text/plain": [
       "                image_id        x        y      w       h  category_id  score\n",
       "15313  id_j8ri1iub1e.jpg   957.77  2343.83  84.78   96.42  Trophozoite  0.060\n",
       "4594   id_147gpcegp6.jpg  3355.83  2735.43  99.99  117.47  Trophozoite  0.050\n",
       "15685  id_4f9wdugdot.jpg  1172.22  2471.34  97.89  105.25  Trophozoite  0.061"
      ]
     },
     "execution_count": 3,
     "metadata": {},
     "output_type": "execute_result"
    }
   ],
   "source": [
    "data_pth = DATA_PTH\n",
    "\n",
    "valid_data = pd.read_csv(VALID_DATA)\n",
    "\n",
    "data = pd.read_csv(data_pth)\n",
    "data.sample(3)"
   ]
  },
  {
   "cell_type": "code",
   "execution_count": 4,
   "metadata": {},
   "outputs": [
    {
     "data": {
      "text/html": [
       "<div>\n",
       "<style scoped>\n",
       "    .dataframe tbody tr th:only-of-type {\n",
       "        vertical-align: middle;\n",
       "    }\n",
       "\n",
       "    .dataframe tbody tr th {\n",
       "        vertical-align: top;\n",
       "    }\n",
       "\n",
       "    .dataframe thead th {\n",
       "        text-align: right;\n",
       "    }\n",
       "</style>\n",
       "<table border=\"1\" class=\"dataframe\">\n",
       "  <thead>\n",
       "    <tr style=\"text-align: right;\">\n",
       "      <th></th>\n",
       "      <th>Image_ID</th>\n",
       "      <th>class</th>\n",
       "      <th>confidence</th>\n",
       "      <th>ymin</th>\n",
       "      <th>xmin</th>\n",
       "      <th>ymax</th>\n",
       "      <th>xmax</th>\n",
       "      <th>width</th>\n",
       "      <th>height</th>\n",
       "    </tr>\n",
       "  </thead>\n",
       "  <tbody>\n",
       "    <tr>\n",
       "      <th>456</th>\n",
       "      <td>id_ch6r0g46fr.jpg</td>\n",
       "      <td>Trophozoite</td>\n",
       "      <td>1.0</td>\n",
       "      <td>798</td>\n",
       "      <td>1358</td>\n",
       "      <td>951</td>\n",
       "      <td>1453</td>\n",
       "      <td>4032</td>\n",
       "      <td>3016</td>\n",
       "    </tr>\n",
       "    <tr>\n",
       "      <th>1393</th>\n",
       "      <td>id_xmq3awiu9f.jpg</td>\n",
       "      <td>Trophozoite</td>\n",
       "      <td>1.0</td>\n",
       "      <td>1290</td>\n",
       "      <td>1224</td>\n",
       "      <td>1394</td>\n",
       "      <td>1350</td>\n",
       "      <td>4160</td>\n",
       "      <td>3120</td>\n",
       "    </tr>\n",
       "    <tr>\n",
       "      <th>977</th>\n",
       "      <td>id_uhss5k1wwd.jpg</td>\n",
       "      <td>Trophozoite</td>\n",
       "      <td>1.0</td>\n",
       "      <td>2241</td>\n",
       "      <td>3662</td>\n",
       "      <td>2341</td>\n",
       "      <td>3762</td>\n",
       "      <td>4032</td>\n",
       "      <td>3016</td>\n",
       "    </tr>\n",
       "  </tbody>\n",
       "</table>\n",
       "</div>"
      ],
      "text/plain": [
       "               Image_ID        class  confidence  ymin  xmin  ymax  xmax  \\\n",
       "456   id_ch6r0g46fr.jpg  Trophozoite         1.0   798  1358   951  1453   \n",
       "1393  id_xmq3awiu9f.jpg  Trophozoite         1.0  1290  1224  1394  1350   \n",
       "977   id_uhss5k1wwd.jpg  Trophozoite         1.0  2241  3662  2341  3762   \n",
       "\n",
       "      width  height  \n",
       "456    4032    3016  \n",
       "1393   4160    3120  \n",
       "977    4032    3016  "
      ]
     },
     "execution_count": 4,
     "metadata": {},
     "output_type": "execute_result"
    }
   ],
   "source": [
    "valid_data.sample(3)"
   ]
  },
  {
   "cell_type": "code",
   "execution_count": 5,
   "metadata": {},
   "outputs": [
    {
     "data": {
      "text/html": [
       "<div>\n",
       "<style scoped>\n",
       "    .dataframe tbody tr th:only-of-type {\n",
       "        vertical-align: middle;\n",
       "    }\n",
       "\n",
       "    .dataframe tbody tr th {\n",
       "        vertical-align: top;\n",
       "    }\n",
       "\n",
       "    .dataframe thead th {\n",
       "        text-align: right;\n",
       "    }\n",
       "</style>\n",
       "<table border=\"1\" class=\"dataframe\">\n",
       "  <thead>\n",
       "    <tr style=\"text-align: right;\">\n",
       "      <th></th>\n",
       "      <th>image_id</th>\n",
       "      <th>category_id</th>\n",
       "      <th>score</th>\n",
       "      <th>y</th>\n",
       "      <th>x</th>\n",
       "      <th>ymax</th>\n",
       "      <th>xmax</th>\n",
       "      <th>width</th>\n",
       "      <th>height</th>\n",
       "      <th>w</th>\n",
       "      <th>h</th>\n",
       "    </tr>\n",
       "  </thead>\n",
       "  <tbody>\n",
       "    <tr>\n",
       "      <th>432</th>\n",
       "      <td>id_0o3fxfendl.jpg</td>\n",
       "      <td>Trophozoite</td>\n",
       "      <td>1.0</td>\n",
       "      <td>883</td>\n",
       "      <td>413</td>\n",
       "      <td>916</td>\n",
       "      <td>450</td>\n",
       "      <td>1920</td>\n",
       "      <td>1080</td>\n",
       "      <td>37</td>\n",
       "      <td>33</td>\n",
       "    </tr>\n",
       "    <tr>\n",
       "      <th>1698</th>\n",
       "      <td>id_6ujuefpy4m.jpg</td>\n",
       "      <td>Trophozoite</td>\n",
       "      <td>1.0</td>\n",
       "      <td>692</td>\n",
       "      <td>399</td>\n",
       "      <td>718</td>\n",
       "      <td>431</td>\n",
       "      <td>1920</td>\n",
       "      <td>1080</td>\n",
       "      <td>32</td>\n",
       "      <td>26</td>\n",
       "    </tr>\n",
       "    <tr>\n",
       "      <th>2168</th>\n",
       "      <td>id_ndhdv3wuvg.jpg</td>\n",
       "      <td>Trophozoite</td>\n",
       "      <td>1.0</td>\n",
       "      <td>658</td>\n",
       "      <td>991</td>\n",
       "      <td>700</td>\n",
       "      <td>1023</td>\n",
       "      <td>1920</td>\n",
       "      <td>1080</td>\n",
       "      <td>32</td>\n",
       "      <td>42</td>\n",
       "    </tr>\n",
       "  </tbody>\n",
       "</table>\n",
       "</div>"
      ],
      "text/plain": [
       "               image_id  category_id  score    y    x  ymax  xmax  width  \\\n",
       "432   id_0o3fxfendl.jpg  Trophozoite    1.0  883  413   916   450   1920   \n",
       "1698  id_6ujuefpy4m.jpg  Trophozoite    1.0  692  399   718   431   1920   \n",
       "2168  id_ndhdv3wuvg.jpg  Trophozoite    1.0  658  991   700  1023   1920   \n",
       "\n",
       "      height   w   h  \n",
       "432     1080  37  33  \n",
       "1698    1080  32  26  \n",
       "2168    1080  32  42  "
      ]
     },
     "execution_count": 5,
     "metadata": {},
     "output_type": "execute_result"
    }
   ],
   "source": [
    "valid_data = valid_data.rename(columns={\n",
    "\t\"Image_ID\": \"image_id\", \"class\": \"category_id\", \"confidence\": \"score\", \"xmin\": \"x\", \"ymin\": \"y\"\n",
    "})\n",
    "\n",
    "valid_data[\"w\"] = valid_data[\"xmax\"] - valid_data[\"x\"]\n",
    "valid_data[\"h\"] = valid_data[\"ymax\"] - valid_data[\"y\"]\n",
    "\n",
    "\n",
    "valid_data.sample(3)"
   ]
  },
  {
   "cell_type": "code",
   "execution_count": 6,
   "metadata": {},
   "outputs": [
    {
     "data": {
      "text/plain": [
       "(275, 275)"
      ]
     },
     "execution_count": 6,
     "metadata": {},
     "output_type": "execute_result"
    }
   ],
   "source": [
    "data[\"image_id\"].nunique(), valid_data[\"image_id\"].nunique()"
   ]
  },
  {
   "cell_type": "code",
   "execution_count": 7,
   "metadata": {},
   "outputs": [
    {
     "data": {
      "text/plain": [
       "275"
      ]
     },
     "execution_count": 7,
     "metadata": {},
     "output_type": "execute_result"
    }
   ],
   "source": [
    "len(set(data[\"image_id\"].unique()).intersection(valid_data[\"image_id\"].unique()))"
   ]
  },
  {
   "cell_type": "code",
   "execution_count": 8,
   "metadata": {},
   "outputs": [
    {
     "data": {
      "text/plain": [
       "image_id\n",
       "id_dvhekvgy6v.jpg    95\n",
       "id_qicgns95fp.jpg    94\n",
       "id_wgijl6n37b.jpg    94\n",
       "id_qa70t0m4yc.jpg    93\n",
       "id_3xidcn77dw.jpg    91\n",
       "id_0vaw9rsiro.jpg    91\n",
       "id_15rb0dgq66.jpg    91\n",
       "id_dzxgm7pfdb.jpg    90\n",
       "id_bkc1sypwhe.jpg    90\n",
       "id_w8xnbd5rvm.jpg    90\n",
       "Name: count, dtype: int64"
      ]
     },
     "execution_count": 8,
     "metadata": {},
     "output_type": "execute_result"
    }
   ],
   "source": [
    "data[\"image_id\"].value_counts().head(10)"
   ]
  },
  {
   "cell_type": "code",
   "execution_count": 9,
   "metadata": {},
   "outputs": [
    {
     "data": {
      "text/plain": [
       "image_id\n",
       "id_15rb0dgq66.jpg    70\n",
       "id_zg9jc73sf7.jpg    48\n",
       "id_zdg96srigj.jpg    42\n",
       "id_i7nitsscaw.jpg    39\n",
       "id_ndhdv3wuvg.jpg    39\n",
       "id_z0i61ad0tq.jpg    38\n",
       "id_ilmjjeqpcy.jpg    37\n",
       "id_by6e6shi2z.jpg    36\n",
       "id_q18tfhfneh.jpg    33\n",
       "id_087dra2apu.jpg    33\n",
       "Name: count, dtype: int64"
      ]
     },
     "execution_count": 9,
     "metadata": {},
     "output_type": "execute_result"
    }
   ],
   "source": [
    "valid_data[\"image_id\"].value_counts().head(10)"
   ]
  },
  {
   "cell_type": "code",
   "execution_count": 10,
   "metadata": {},
   "outputs": [
    {
     "data": {
      "text/plain": [
       "count    20773.000000\n",
       "mean         0.150609\n",
       "std          0.131796\n",
       "min          0.032000\n",
       "25%          0.066000\n",
       "50%          0.103000\n",
       "75%          0.176000\n",
       "max          0.736000\n",
       "Name: score, dtype: float64"
      ]
     },
     "execution_count": 10,
     "metadata": {},
     "output_type": "execute_result"
    }
   ],
   "source": [
    "data[\"score\"].describe()"
   ]
  },
  {
   "cell_type": "code",
   "execution_count": 11,
   "metadata": {},
   "outputs": [
    {
     "data": {
      "text/plain": [
       "image_id       0\n",
       "x              0\n",
       "y              0\n",
       "w              0\n",
       "h              0\n",
       "category_id    0\n",
       "score          0\n",
       "dtype: int64"
      ]
     },
     "execution_count": 11,
     "metadata": {},
     "output_type": "execute_result"
    }
   ],
   "source": [
    "data.isna().sum()"
   ]
  },
  {
   "cell_type": "code",
   "execution_count": 12,
   "metadata": {},
   "outputs": [
    {
     "data": {
      "text/plain": [
       "70"
      ]
     },
     "execution_count": 12,
     "metadata": {},
     "output_type": "execute_result"
    }
   ],
   "source": [
    "len(valid_data[valid_data[\"category_id\"] == \"NEG\"])"
   ]
  },
  {
   "cell_type": "code",
   "execution_count": 13,
   "metadata": {},
   "outputs": [
    {
     "data": {
      "text/plain": [
       "Index(['image_id', 'x', 'y', 'w', 'h', 'category_id', 'score'], dtype='object')"
      ]
     },
     "execution_count": 13,
     "metadata": {},
     "output_type": "execute_result"
    }
   ],
   "source": [
    "data.columns"
   ]
  },
  {
   "cell_type": "code",
   "execution_count": 14,
   "metadata": {},
   "outputs": [
    {
     "data": {
      "text/plain": [
       "Index(['image_id', 'category_id', 'score', 'y', 'x', 'ymax', 'xmax', 'width',\n",
       "       'height', 'w', 'h'],\n",
       "      dtype='object')"
      ]
     },
     "execution_count": 14,
     "metadata": {},
     "output_type": "execute_result"
    }
   ],
   "source": [
    "valid_data.columns"
   ]
  },
  {
   "cell_type": "code",
   "execution_count": 15,
   "metadata": {},
   "outputs": [
    {
     "data": {
      "text/html": [
       "<div>\n",
       "<style scoped>\n",
       "    .dataframe tbody tr th:only-of-type {\n",
       "        vertical-align: middle;\n",
       "    }\n",
       "\n",
       "    .dataframe tbody tr th {\n",
       "        vertical-align: top;\n",
       "    }\n",
       "\n",
       "    .dataframe thead th {\n",
       "        text-align: right;\n",
       "    }\n",
       "</style>\n",
       "<table border=\"1\" class=\"dataframe\">\n",
       "  <thead>\n",
       "    <tr style=\"text-align: right;\">\n",
       "      <th></th>\n",
       "      <th>image_id</th>\n",
       "      <th>x</th>\n",
       "      <th>y</th>\n",
       "      <th>w</th>\n",
       "      <th>h</th>\n",
       "      <th>category_id</th>\n",
       "      <th>score</th>\n",
       "    </tr>\n",
       "  </thead>\n",
       "  <tbody>\n",
       "    <tr>\n",
       "      <th>11476</th>\n",
       "      <td>id_k50besa0sa.jpg</td>\n",
       "      <td>3148.75</td>\n",
       "      <td>2345.93</td>\n",
       "      <td>97.70</td>\n",
       "      <td>113.33</td>\n",
       "      <td>Trophozoite</td>\n",
       "      <td>0.055</td>\n",
       "    </tr>\n",
       "    <tr>\n",
       "      <th>16720</th>\n",
       "      <td>id_u0xldti3vu.jpg</td>\n",
       "      <td>1697.96</td>\n",
       "      <td>2151.57</td>\n",
       "      <td>66.28</td>\n",
       "      <td>74.67</td>\n",
       "      <td>Trophozoite</td>\n",
       "      <td>0.107</td>\n",
       "    </tr>\n",
       "    <tr>\n",
       "      <th>15018</th>\n",
       "      <td>id_5mtzjxoohq.jpg</td>\n",
       "      <td>2529.00</td>\n",
       "      <td>1912.40</td>\n",
       "      <td>67.45</td>\n",
       "      <td>82.66</td>\n",
       "      <td>Trophozoite</td>\n",
       "      <td>0.110</td>\n",
       "    </tr>\n",
       "    <tr>\n",
       "      <th>6465</th>\n",
       "      <td>id_49n2r2g61a.jpg</td>\n",
       "      <td>3620.08</td>\n",
       "      <td>1928.54</td>\n",
       "      <td>67.23</td>\n",
       "      <td>79.39</td>\n",
       "      <td>Trophozoite</td>\n",
       "      <td>0.174</td>\n",
       "    </tr>\n",
       "    <tr>\n",
       "      <th>9453</th>\n",
       "      <td>id_jiv444vkig.jpg</td>\n",
       "      <td>1038.13</td>\n",
       "      <td>385.01</td>\n",
       "      <td>70.09</td>\n",
       "      <td>85.05</td>\n",
       "      <td>Trophozoite</td>\n",
       "      <td>0.062</td>\n",
       "    </tr>\n",
       "  </tbody>\n",
       "</table>\n",
       "</div>"
      ],
      "text/plain": [
       "                image_id        x        y      w       h  category_id  score\n",
       "11476  id_k50besa0sa.jpg  3148.75  2345.93  97.70  113.33  Trophozoite  0.055\n",
       "16720  id_u0xldti3vu.jpg  1697.96  2151.57  66.28   74.67  Trophozoite  0.107\n",
       "15018  id_5mtzjxoohq.jpg  2529.00  1912.40  67.45   82.66  Trophozoite  0.110\n",
       "6465   id_49n2r2g61a.jpg  3620.08  1928.54  67.23   79.39  Trophozoite  0.174\n",
       "9453   id_jiv444vkig.jpg  1038.13   385.01  70.09   85.05  Trophozoite  0.062"
      ]
     },
     "execution_count": 15,
     "metadata": {},
     "output_type": "execute_result"
    }
   ],
   "source": [
    "data.sample(5)"
   ]
  },
  {
   "cell_type": "code",
   "execution_count": 16,
   "metadata": {},
   "outputs": [
    {
     "name": "stdout",
     "output_type": "stream",
     "text": [
      "Prediction Extraction\n",
      "Expected Extraction\n"
     ]
    }
   ],
   "source": [
    "import torch\n",
    "\n",
    "image_files: list[str] = valid_data[\"image_id\"].unique().tolist()\n",
    "\n",
    "def get_format_pred(file_id: str, data: pd.DataFrame, thr = THR_INF):\n",
    "\tpred = data[data[\"image_id\"] == file_id].dropna(subset=\"x\")\n",
    "\tpred = pred[pred[\"category_id\"] != \"NEG\"]\n",
    "\tpred = pred[pred[\"score\"] >= thr]\n",
    "\tif not len(pred):\n",
    "\t\t# return dict(\n",
    "\t\t# \tboxes=torch.empty(size=[0, 4], dtype=torch.float).cuda(),\n",
    "\t\t# \tscores=torch.empty(size=[0], dtype=torch.float).cuda(),\n",
    "\t\t# \tlabels=torch.empty(size=[0,], dtype=torch.int).cuda(),\n",
    "\t\t# )\n",
    "\t\treturn dict(\n",
    "\t\t\tboxes=torch.tensor([[0., 0., 0., 0.]], dtype=torch.float).cuda(),\n",
    "\t\t\tscores=torch.tensor([1.], dtype=torch.float).cuda(),\n",
    "\t\t\tlabels=torch.tensor([CLS_MAPPER[\"NEG\"]], dtype=torch.int).cuda(),\n",
    "\t\t)\n",
    "\tboxes = torch.tensor(pred[[\"x\", \"y\", \"w\", \"h\"]].values, dtype=torch.float).cuda()\n",
    "\tscores = torch.tensor(pred[\"score\"].values, dtype=torch.float).cuda()\n",
    "\tlabels = torch.tensor([CLS_MAPPER[i] for  i in pred[\"category_id\"].values], dtype=torch.int).cuda()\n",
    "\treturn dict(boxes=boxes, scores=scores, labels=labels)\n",
    "\n",
    "\n",
    "print(\"Prediction Extraction\")\n",
    "predictions = [\n",
    "\tget_format_pred(i, data) for i in image_files\n",
    "]\n",
    "print(\"Expected Extraction\")\n",
    "expected = [\n",
    "\tget_format_pred(i, valid_data) for i in image_files\n",
    "]\n",
    "# for i in expected:\n",
    "# \ti.pop(\"scores\")"
   ]
  },
  {
   "cell_type": "code",
   "execution_count": 17,
   "metadata": {},
   "outputs": [
    {
     "data": {
      "text/plain": [
       "{'boxes': tensor([[ 910.7900,  991.0100,  166.5600,  178.6400],\n",
       "         [ 945.0100,  210.0700,   83.7900,   97.0900],\n",
       "         [ 492.9300, 1768.1200,   81.4800,   89.0500],\n",
       "         [1885.8101, 1384.0200,   85.4000,   93.7000],\n",
       "         [1736.9100,  927.0000,   79.9600,   88.1100],\n",
       "         [2719.1399, 1035.4100,   81.4300,   92.4200],\n",
       "         [1858.9301, 1902.5000,   78.9800,   88.8100],\n",
       "         [ 456.4000,  500.0200,   81.6700,   93.2000],\n",
       "         [2827.1001, 1348.1899,   81.7400,   94.3100],\n",
       "         [2286.0801,  920.9000,   79.9300,   89.4900],\n",
       "         [3036.8999, 1299.1400,   78.1600,   92.6600],\n",
       "         [1705.8800, 2489.0400,   79.6300,   88.7800],\n",
       "         [1500.1300, 1147.1899,   79.1200,   89.4200],\n",
       "         [ 507.3400, 1777.8400,   75.0400,   84.0000],\n",
       "         [2994.5200, 1295.1300,   74.6600,   86.8900],\n",
       "         [ 690.5200, 2230.1699,   84.2700,   97.2000],\n",
       "         [  64.9800, 1817.8500,   83.0400,   99.6100],\n",
       "         [2946.3401, 1256.0900,   74.8600,   84.6000],\n",
       "         [1236.6600, 1531.8300,   83.1300,   94.6200],\n",
       "         [ 593.4000, 1509.0500,   82.4700,   90.6800],\n",
       "         [ 725.2400, 2235.6201,   75.7000,   89.0400],\n",
       "         [2549.4800, 1507.9399,   76.6300,   92.3300],\n",
       "         [  68.9600,  378.9400,   86.4500,   98.4900],\n",
       "         [ 702.9600,  497.2400,   82.4200,   99.8800],\n",
       "         [3029.2100, 1686.7400,   77.5700,   94.3700],\n",
       "         [1705.5500, 2498.0300,   75.7500,   85.8000],\n",
       "         [2687.9900, 1489.8000,   79.2000,   96.9400],\n",
       "         [3017.5000, 1175.6000,   76.4300,   95.4400],\n",
       "         [1644.5900, 2641.0200,   80.1500,   99.7600],\n",
       "         [2838.3601, 1348.7300,   82.2400,   96.4100],\n",
       "         [  14.8000, 1933.0800,   77.6400,   98.6400],\n",
       "         [ 736.6500, 2245.0400,   76.3000,   91.9500],\n",
       "         [ 734.8300, 2327.7900,   86.9500,  102.2700],\n",
       "         [3051.6499, 1297.3500,   71.3900,   83.0500],\n",
       "         [2970.6499,  835.6700,   72.0900,   95.6600],\n",
       "         [1324.2300,  530.0200,   76.7300,   90.0700],\n",
       "         [1677.5100, 2521.2100,   84.7700,   92.2300],\n",
       "         [3004.8000, 1298.4800,   77.2500,   95.3700],\n",
       "         [2969.5701,  850.3000,   71.5500,   90.3400],\n",
       "         [1704.4900,  312.0900,   78.7200,   84.9900],\n",
       "         [1656.8101, 1266.6700,   79.9800,   98.5100],\n",
       "         [1247.4500, 1533.0699,   72.9900,   86.2900],\n",
       "         [ 761.1300, 2317.4199,   78.1900,   93.8000],\n",
       "         [ 596.8800, 1165.2700,   75.5900,   86.1500],\n",
       "         [ 904.9600, 1917.7500,   80.5500,   86.7100],\n",
       "         [3000.8401,  799.9900,   73.0900,   90.4300],\n",
       "         [ 276.9900, 1997.6300,   83.4400,   96.6600],\n",
       "         [1240.0100, 2095.8601,   77.2200,   89.3500],\n",
       "         [1066.8900, 2015.9301,   83.6400,   98.5000],\n",
       "         [  70.6200, 1830.7200,   80.1300,   96.8400],\n",
       "         [1250.2600, 2102.4500,   76.5900,   90.7800],\n",
       "         [1197.3300, 2593.6201,   78.6400,   89.5000],\n",
       "         [2932.6499,  680.5400,   76.8400,   87.1200],\n",
       "         [1642.3400, 1272.0000,   79.3600,   97.6800],\n",
       "         [   3.4400, 1364.0500,   64.1500,  104.5900],\n",
       "         [1149.4100, 1040.7600,   70.0700,   90.2200],\n",
       "         [3016.6799,  789.9500,   69.6000,   80.7800],\n",
       "         [3184.2800, 1536.1801,   78.3500,  102.9500],\n",
       "         [1104.8800,  548.1300,   83.0200,   96.6200],\n",
       "         [1671.3700, 1267.4000,   73.6200,   86.3900],\n",
       "         [1011.1400, 2512.0500,   79.0400,   97.4600],\n",
       "         [1630.3101,  438.2800,   79.1800,   91.9900],\n",
       "         [1169.3700, 1611.9301,   82.2400,   94.5200],\n",
       "         [2554.6201, 1518.4000,   76.6200,   83.6100],\n",
       "         [1261.1300, 1527.8000,   73.4200,   90.6300],\n",
       "         [1249.0500, 2101.1201,   70.2300,   80.7200],\n",
       "         [2511.7100, 2835.3000,   79.8400,   92.4300],\n",
       "         [3187.4099,   15.0700,   83.9700,   87.5000],\n",
       "         [2105.4900,   18.3700,   79.2800,   88.6900],\n",
       "         [ 259.5700, 1987.3400,   82.4900,   92.6700],\n",
       "         [1971.6899, 2498.1399,   77.3900,   88.9400],\n",
       "         [1205.1200, 1612.4399,   84.8000,   92.4500],\n",
       "         [1234.3300,  155.8300,   69.5900,   88.9600],\n",
       "         [3087.2900, 2064.8501,   82.7500,   97.9500],\n",
       "         [ 966.9500,  210.9500,   74.5200,   91.4800],\n",
       "         [2728.1699, 1040.4200,   74.1800,   84.4800],\n",
       "         [2962.8000, 2556.4299,   78.3700,   94.4100],\n",
       "         [2436.6101, 1247.0699,   86.6700,  107.1600],\n",
       "         [1507.5601, 1138.4600,   81.0300,   97.4200],\n",
       "         [3222.7000, 1584.7100,   73.4300,   86.0300],\n",
       "         [3060.0200, 1140.1200,   74.6900,   88.1700],\n",
       "         [1320.9700,  518.5200,   77.6700,   93.8300],\n",
       "         [3110.0200, 2070.2400,   79.1900,   87.5400],\n",
       "         [ 227.1900, 1996.2000,   77.0200,   80.2700],\n",
       "         [1664.1200, 1073.2500,  100.4100,  103.8500],\n",
       "         [ 950.6000,  212.9500,   94.2400,  109.9200],\n",
       "         [3130.5000, 2079.3601,   70.7100,   84.4900],\n",
       "         [3238.2400,   25.6900,   80.6700,   86.2600],\n",
       "         [1225.6000, 1535.0400,   84.3800,   87.5300],\n",
       "         [2941.5000,  682.2900,   70.8600,   79.9900]], device='cuda:0'),\n",
       " 'scores': tensor([0.7280, 0.5220, 0.4730, 0.4640, 0.4340, 0.4310, 0.3970, 0.3320, 0.3310,\n",
       "         0.3050, 0.2950, 0.2880, 0.2830, 0.2740, 0.2720, 0.2610, 0.2600, 0.2580,\n",
       "         0.2570, 0.2570, 0.2520, 0.2470, 0.2450, 0.2360, 0.2350, 0.2280, 0.2180,\n",
       "         0.2160, 0.2150, 0.2070, 0.2070, 0.2050, 0.2050, 0.2040, 0.2040, 0.2000,\n",
       "         0.2000, 0.1950, 0.1950, 0.1900, 0.1880, 0.1880, 0.1870, 0.1860, 0.1840,\n",
       "         0.1840, 0.1830, 0.1820, 0.1820, 0.1780, 0.1710, 0.1660, 0.1620, 0.1620,\n",
       "         0.1610, 0.1610, 0.1600, 0.1570, 0.1560, 0.1560, 0.1540, 0.1530, 0.1460,\n",
       "         0.1430, 0.1430, 0.1420, 0.1420, 0.1420, 0.1410, 0.1390, 0.1370, 0.1360,\n",
       "         0.1340, 0.1330, 0.1320, 0.1310, 0.1310, 0.1310, 0.1300, 0.1290, 0.1290,\n",
       "         0.1280, 0.1280, 0.1280, 0.1280, 0.1260, 0.1230, 0.1230, 0.1230, 0.1230],\n",
       "        device='cuda:0'),\n",
       " 'labels': tensor([1, 0, 0, 0, 0, 0, 0, 0, 0, 0, 0, 0, 0, 0, 0, 0, 0, 0, 0, 0, 0, 0, 0, 0,\n",
       "         0, 0, 0, 0, 0, 0, 0, 0, 0, 0, 0, 0, 0, 0, 0, 0, 0, 0, 0, 0, 0, 0, 0, 0,\n",
       "         0, 0, 0, 0, 0, 0, 0, 0, 0, 0, 0, 0, 0, 0, 0, 0, 0, 0, 0, 0, 0, 0, 0, 0,\n",
       "         0, 0, 0, 0, 0, 0, 0, 0, 0, 0, 0, 0, 0, 0, 0, 0, 0, 0], device='cuda:0',\n",
       "        dtype=torch.int32)}"
      ]
     },
     "execution_count": 17,
     "metadata": {},
     "output_type": "execute_result"
    }
   ],
   "source": [
    "predictions[0]"
   ]
  },
  {
   "cell_type": "code",
   "execution_count": null,
   "metadata": {},
   "outputs": [
    {
     "data": {
      "text/plain": [
       "{'boxes': tensor([[1744.,  925.,   79.,  116.],\n",
       "         [2278.,  904.,  116.,  116.],\n",
       "         [3060., 1141.,  100.,   95.],\n",
       "         [1881., 1913.,   95.,  106.],\n",
       "         [1702., 2489.,   85.,   90.],\n",
       "         [2674., 1501.,  100.,   85.],\n",
       "         [3023., 1675.,  106.,  111.],\n",
       "         [2848., 1353.,   90.,  106.],\n",
       "         [ 470., 1765.,  116.,  122.],\n",
       "         [2943., 1226.,   95.,  106.],\n",
       "         [2933.,  671.,   95.,   85.],\n",
       "         [1311.,  534.,   90.,  100.],\n",
       "         [ 254., 2003.,  100.,  111.],\n",
       "         [ 941.,  206.,   90.,  106.],\n",
       "         [2949., 1041.,   90.,  106.],\n",
       "         [1649., 2669.,   90.,   95.],\n",
       "         [ 460.,  523.,   90.,   85.],\n",
       "         [ 925.,  988.,  169.,  206.],\n",
       "         [1887., 1395.,   95.,   90.],\n",
       "         [3012.,  772.,  106.,  100.],\n",
       "         [2743., 1046.,   74.,   85.]], device='cuda:0'),\n",
       " 'scores': tensor([1., 1., 1., 1., 1., 1., 1., 1., 1., 1., 1., 1., 1., 1., 1., 1., 1., 1.,\n",
       "         1., 1., 1.], device='cuda:0'),\n",
       " 'labels': tensor([0, 0, 0, 0, 0, 0, 0, 0, 0, 0, 0, 0, 0, 0, 0, 0, 0, 1, 0, 0, 0],\n",
       "        device='cuda:0', dtype=torch.int32)}"
      ]
     },
     "execution_count": 18,
     "metadata": {},
     "output_type": "execute_result"
    }
   ],
   "source": [
    "expected[0]"
   ]
  },
  {
   "cell_type": "code",
   "execution_count": 19,
   "metadata": {},
   "outputs": [
    {
     "name": "stdout",
     "output_type": "stream",
     "text": [
      "{'classes': tensor([0, 1, 2], dtype=torch.int32),\n",
      " 'map': tensor(0.0520),\n",
      " 'map_50': tensor(0.1777),\n",
      " 'map_75': tensor(0.0130),\n",
      " 'map_large': tensor(0.1180),\n",
      " 'map_medium': tensor(0.0882),\n",
      " 'map_per_class': tensor([0.0472, 0.1088, 0.0000]),\n",
      " 'map_small': tensor(0.0103),\n",
      " 'mar_1': tensor(0.0310),\n",
      " 'mar_10': tensor(0.1377),\n",
      " 'mar_100': tensor(0.1754),\n",
      " 'mar_100_per_class': tensor([0.1956, 0.3305, 0.0000]),\n",
      " 'mar_large': tensor(0.3613),\n",
      " 'mar_medium': tensor(0.2290),\n",
      " 'mar_small': tensor(0.0859)}\n"
     ]
    }
   ],
   "source": [
    "from torchmetrics.detection import MeanAveragePrecision\n",
    "\n",
    "metric = MeanAveragePrecision(iou_type=\"bbox\", box_format=\"xywh\", class_metrics=True, extended_summary=False, average=\"macro\")\n",
    "\n",
    "\n",
    "metric.update(preds=predictions, target=expected)\n",
    "\n",
    "from pprint import pprint\n",
    "pprint(metric.compute())"
   ]
  },
  {
   "cell_type": "code",
   "execution_count": 20,
   "metadata": {},
   "outputs": [
    {
     "data": {
      "text/plain": [
       "{'boxes': tensor([[1277.,  127.,   85.,   70.],\n",
       "         [1583.,  878.,   62.,   61.],\n",
       "         [ 755.,  815.,   59.,   64.],\n",
       "         [ 929.,  165.,   38.,   34.],\n",
       "         [ 864.,  375.,   96.,   79.],\n",
       "         [1430.,   66.,   26.,   25.],\n",
       "         [ 473.,  513.,   32.,   38.],\n",
       "         [1110.,  131.,   28.,   28.],\n",
       "         [ 908.,  291.,   64.,   59.],\n",
       "         [1394.,  600.,   28.,   26.],\n",
       "         [1226.,  269.,   32.,   34.],\n",
       "         [1432.,  110.,   30.,   32.],\n",
       "         [ 653.,  815.,   30.,   32.],\n",
       "         [1131.,  161.,   62.,   81.]], device='cuda:0'),\n",
       " 'scores': tensor([1., 1., 1., 1., 1., 1., 1., 1., 1., 1., 1., 1., 1., 1.],\n",
       "        device='cuda:0'),\n",
       " 'labels': tensor([1, 1, 1, 0, 1, 0, 0, 0, 1, 0, 0, 0, 0, 1], device='cuda:0',\n",
       "        dtype=torch.int32)}"
      ]
     },
     "execution_count": 20,
     "metadata": {},
     "output_type": "execute_result"
    }
   ],
   "source": [
    "expected[128]"
   ]
  },
  {
   "cell_type": "code",
   "execution_count": null,
   "metadata": {},
   "outputs": [
    {
     "data": {
      "text/plain": [
       "{'boxes': tensor([[ 755.6900,  797.6800,   59.9800,   61.4000],\n",
       "         [1581.4500,  858.6600,   57.6100,   56.0900],\n",
       "         [ 912.1600,  285.3500,   59.6700,   55.9700],\n",
       "         [1279.9800,  131.9200,   81.8900,   63.6500],\n",
       "         [ 862.1300,  984.0800,   30.6100,   31.6300],\n",
       "         [ 761.8100,  298.5600,   35.2600,   31.2000],\n",
       "         [ 710.3000,  302.0900,   31.9100,   29.8700],\n",
       "         [ 629.2100,  410.2700,   34.2000,   34.3000],\n",
       "         [ 858.2400,  364.3400,   84.7000,   76.4100],\n",
       "         [ 689.8100,  628.0900,   57.1800,   49.2600],\n",
       "         [ 763.3500,  304.9200,   32.4700,   29.9900],\n",
       "         [1392.6500,  587.8800,   30.1000,   28.3800],\n",
       "         [1129.4100,  170.8800,   58.2000,   68.4300],\n",
       "         [ 738.9700,  141.0600,   61.3800,   57.1100],\n",
       "         [ 655.7400,  797.8900,   31.6300,   30.6600],\n",
       "         [1108.7600,  128.8600,   31.9600,   29.9600],\n",
       "         [1222.3000,  266.1300,   30.7700,   29.1900],\n",
       "         [1166.5100,  587.1800,   75.3800,   60.8300],\n",
       "         [1058.3500,  733.9200,   60.7200,   51.5800],\n",
       "         [1086.1000,  824.0200,   32.4300,   30.7100],\n",
       "         [1214.4100,  675.0600,   31.2500,   29.3400],\n",
       "         [1048.4800,  656.6300,   32.0600,   30.0300],\n",
       "         [ 472.0000,  506.6600,   31.1800,   31.1200],\n",
       "         [1515.9900,  397.5900,   29.5800,   25.9900],\n",
       "         [ 985.5800,  556.2600,   36.7600,   36.8000],\n",
       "         [1427.0300,   69.5600,   30.8600,   27.6800],\n",
       "         [ 992.1800,  473.3300,   33.6900,   31.2700],\n",
       "         [1080.4200,  824.7500,   33.8000,   31.8900],\n",
       "         [ 749.6600,  301.6600,   33.0600,   31.3800],\n",
       "         [ 976.6000,  644.9000,   31.0800,   30.7500],\n",
       "         [1490.6400,  938.4700,   30.9900,   28.4700],\n",
       "         [ 758.4700,  255.6000,   43.7500,   34.7600],\n",
       "         [ 201.7300,  272.7200,   32.0200,   31.2300],\n",
       "         [1299.3300,  282.7600,   33.4800,   31.1600],\n",
       "         [1440.1700,  547.7000,   37.4400,   37.4600],\n",
       "         [1083.1700,  833.3400,   32.9700,   30.7700],\n",
       "         [ 989.6200,  574.6400,   34.2900,   32.6300],\n",
       "         [ 963.0800,  965.7800,   30.0600,   27.6000],\n",
       "         [1091.1500,  818.0900,   30.9600,   29.3400],\n",
       "         [ 913.4700,  368.3900,   37.9600,   35.2000],\n",
       "         [1078.5100,  763.2500,   41.9600,   34.6700],\n",
       "         [ 992.6500,  561.4700,   31.4000,   31.6600],\n",
       "         [1074.3900,  733.6200,   44.6300,   42.5300],\n",
       "         [1220.8500,  267.0700,   29.3100,   26.7900],\n",
       "         [1428.9700,  637.9400,   31.9000,   28.0900],\n",
       "         [1440.1300,  638.1700,   31.2200,   27.1900],\n",
       "         [ 762.9800,  830.5600,   49.1400,   39.0600],\n",
       "         [ 983.3600,  644.0100,   30.2900,   29.7700],\n",
       "         [ 748.7900,  398.5900,   31.9000,   28.6200],\n",
       "         [ 166.3400,  573.8600,   43.1100,   39.7000],\n",
       "         [1440.7700,  557.4300,   34.9600,   30.8600],\n",
       "         [ 269.9800,  530.8600,   27.9300,   25.2700],\n",
       "         [ 891.6600,  360.6600,   52.5700,   40.6500],\n",
       "         [1545.0200,  103.3800,   31.5600,   29.4600],\n",
       "         [ 745.0100,  400.6400,   34.6400,   28.5800],\n",
       "         [1561.3600,  563.9600,   30.4200,   27.6300],\n",
       "         [ 931.1900,  162.5700,   29.2700,   24.7400],\n",
       "         [1729.0200,  548.3300,   34.5700,   31.7200],\n",
       "         [ 753.2300,  261.5000,   46.1900,   34.4600],\n",
       "         [1142.2700,  897.2300,   29.9500,   28.8200],\n",
       "         [ 370.6000,  536.8000,   28.8100,   27.4200],\n",
       "         [ 207.4900,  273.4600,   28.8000,   27.3900],\n",
       "         [1446.8400,  545.3700,   32.6000,   28.0500],\n",
       "         [1442.5601,  543.9400,   32.0800,   27.7200],\n",
       "         [ 872.8600,  608.5800,   31.4600,   28.3500],\n",
       "         [ 852.3700,  955.8900,   44.2200,   38.3000],\n",
       "         [ 781.2300,  524.0900,   36.1900,   37.6400],\n",
       "         [1632.1200,  713.8400,   34.3900,   31.6200],\n",
       "         [1424.5000,  100.3400,   30.5400,   26.8300],\n",
       "         [1141.7200,  449.8900,   28.6200,   26.4300],\n",
       "         [ 651.4000,  798.9500,   30.3900,   27.5100],\n",
       "         [ 884.8600,  365.7900,   56.7100,   47.3000]], device='cuda:0'),\n",
       " 'scores': tensor([0.6170, 0.5210, 0.5010, 0.4510, 0.4420, 0.4310, 0.3970, 0.3350, 0.3230,\n",
       "         0.3120, 0.2880, 0.2800, 0.2760, 0.2450, 0.2370, 0.2260, 0.2250, 0.2170,\n",
       "         0.2130, 0.2110, 0.2080, 0.2030, 0.1970, 0.1920, 0.1900, 0.1870, 0.1830,\n",
       "         0.1830, 0.1820, 0.1790, 0.1760, 0.1750, 0.1730, 0.1680, 0.1670, 0.1660,\n",
       "         0.1630, 0.1630, 0.1620, 0.1600, 0.1530, 0.1530, 0.1490, 0.1470, 0.1470,\n",
       "         0.1460, 0.1450, 0.1420, 0.1400, 0.1360, 0.1350, 0.1290, 0.1270, 0.1220,\n",
       "         0.1210, 0.1210, 0.1200, 0.1180, 0.1170, 0.1140, 0.1120, 0.1110, 0.1110,\n",
       "         0.1090, 0.1080, 0.1080, 0.1070, 0.1060, 0.1060, 0.1050, 0.1050, 0.1010],\n",
       "        device='cuda:0'),\n",
       " 'labels': tensor([1, 1, 1, 1, 0, 0, 0, 0, 1, 1, 0, 0, 1, 1, 0, 0, 0, 1, 1, 0, 0, 0, 0, 0,\n",
       "         0, 0, 0, 0, 0, 0, 0, 0, 0, 0, 0, 0, 0, 0, 0, 0, 0, 0, 0, 0, 0, 0, 1, 0,\n",
       "         0, 1, 0, 0, 1, 0, 0, 0, 0, 0, 0, 0, 0, 0, 0, 0, 0, 0, 0, 0, 0, 0, 0, 1],\n",
       "        device='cuda:0', dtype=torch.int32)}"
      ]
     },
     "execution_count": 21,
     "metadata": {},
     "output_type": "execute_result"
    }
   ],
   "source": [
    "predictions[128]"
   ]
  },
  {
   "cell_type": "code",
   "execution_count": 22,
   "metadata": {},
   "outputs": [
    {
     "name": "stderr",
     "output_type": "stream",
     "text": [
      "  7%|▋         | 1/15 [00:07<01:47,  7.66s/it]"
     ]
    },
    {
     "name": "stdout",
     "output_type": "stream",
     "text": [
      "0.05 tensor(0.1777)\n"
     ]
    },
    {
     "name": "stderr",
     "output_type": "stream",
     "text": [
      " 67%|██████▋   | 10/15 [00:36<00:12,  2.59s/it]"
     ]
    }
   ],
   "source": [
    "from tqdm import tqdm\n",
    "\n",
    "thrs = np.linspace(0.05, .95, num=15)\n",
    "best_score = 0\n",
    "best_thr = 0\n",
    "\n",
    "for thr in tqdm(thrs):\n",
    "\tmetric = MeanAveragePrecision(iou_type=\"bbox\", box_format=\"xywh\", class_metrics=True, extended_summary=False)\n",
    "\tpredictions = [\n",
    "\t\tget_format_pred(i, data, thr) for i in image_files\n",
    "\t]\n",
    "\texpected = [\n",
    "\t\tget_format_pred(i, valid_data, thr) for i in image_files\n",
    "\t]\n",
    "\tmetric.update(preds=predictions, target=expected)\n",
    "\tscores = metric.compute()\n",
    "\tif scores[\"map_50\"] > best_score:\n",
    "\t\tbest_score = scores[\"map_50\"]\n",
    "\t\tbest_thr = thr\n",
    "\t\tprint(best_thr, best_score)"
   ]
  },
  {
   "cell_type": "code",
   "execution_count": 23,
   "metadata": {},
   "outputs": [
    {
     "name": "stdout",
     "output_type": "stream",
     "text": [
      "0.05 tensor(0.3330)\n"
     ]
    }
   ],
   "source": [
    "print(best_thr, best_score)"
   ]
  },
  {
   "cell_type": "code",
   "execution_count": 24,
   "metadata": {},
   "outputs": [
    {
     "data": {
      "text/plain": [
       "array([0.05      , 0.11428571, 0.17857143, 0.24285714, 0.30714286,\n",
       "       0.37142857, 0.43571429, 0.5       , 0.56428571, 0.62857143,\n",
       "       0.69285714, 0.75714286, 0.82142857, 0.88571429, 0.95      ])"
      ]
     },
     "execution_count": 24,
     "metadata": {},
     "output_type": "execute_result"
    }
   ],
   "source": [
    "thrs"
   ]
  },
  {
   "cell_type": "code",
   "execution_count": 25,
   "metadata": {},
   "outputs": [],
   "source": [
    "thr = .0\n",
    "\n",
    "metric = MeanAveragePrecision(iou_type=\"bbox\", box_format=\"xywh\", class_metrics=True, extended_summary=False)\n",
    "predictions = [\n",
    "    get_format_pred(i, data, thr) for i in image_files\n",
    "]\n",
    "expected = [\n",
    "    get_format_pred(i, valid_data, thr) for i in image_files\n",
    "]\n",
    "metric.update(preds=predictions, target=expected)\n",
    "scores = metric.compute()"
   ]
  },
  {
   "cell_type": "code",
   "execution_count": 26,
   "metadata": {},
   "outputs": [
    {
     "data": {
      "text/plain": [
       "{'map': tensor(0.1256),\n",
       " 'map_50': tensor(0.3346),\n",
       " 'map_75': tensor(0.0666),\n",
       " 'map_small': tensor(0.0238),\n",
       " 'map_medium': tensor(0.1650),\n",
       " 'map_large': tensor(0.2604),\n",
       " 'mar_1': tensor(0.0450),\n",
       " 'mar_10': tensor(0.1720),\n",
       " 'mar_100': tensor(0.2083),\n",
       " 'mar_small': tensor(0.0844),\n",
       " 'mar_medium': tensor(0.2911),\n",
       " 'mar_large': tensor(0.3808),\n",
       " 'map_per_class': tensor([0.0568, 0.3200, 0.0000]),\n",
       " 'mar_100_per_class': tensor([0.2023, 0.4226, 0.0000]),\n",
       " 'classes': tensor([0, 1, 2], dtype=torch.int32)}"
      ]
     },
     "execution_count": 26,
     "metadata": {},
     "output_type": "execute_result"
    }
   ],
   "source": [
    "scores"
   ]
  },
  {
   "cell_type": "code",
   "execution_count": null,
   "metadata": {},
   "outputs": [],
   "source": []
  }
 ],
 "metadata": {
  "kernelspec": {
   "display_name": ".venv",
   "language": "python",
   "name": "python3"
  },
  "language_info": {
   "codemirror_mode": {
    "name": "ipython",
    "version": 3
   },
   "file_extension": ".py",
   "mimetype": "text/x-python",
   "name": "python",
   "nbconvert_exporter": "python",
   "pygments_lexer": "ipython3",
   "version": "3.9.18"
  }
 },
 "nbformat": 4,
 "nbformat_minor": 2
}
