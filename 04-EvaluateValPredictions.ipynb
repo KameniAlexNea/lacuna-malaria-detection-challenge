{
 "cells": [
  {
   "cell_type": "code",
   "execution_count": 1,
   "metadata": {},
   "outputs": [
    {
     "data": {
      "text/plain": [
       "{'Trophozoite': 0, 'WBC': 1, 'NEG': 2}"
      ]
     },
     "execution_count": 1,
     "metadata": {},
     "output_type": "execute_result"
    }
   ],
   "source": [
    "VALID_PTH = \"zindi_data/ValDataset.csv\"\n",
    "PRDICTION_PTH = 'zindi_data/validation/prediction_cond-detr-50_THR0.000_IOU0.400_ID2146.csv'\n",
    "THR_INF = 0.01\n",
    "from zindi_code import CLS_MAPPER\n",
    "CLS_MAPPER[\"NEG\"] = 2\n",
    "CLS_MAPPER"
   ]
  },
  {
   "cell_type": "code",
   "execution_count": 2,
   "metadata": {},
   "outputs": [],
   "source": [
    "import pandas as pd\n",
    "import json\n",
    "import os\n",
    "from tqdm import tqdm\n",
    "\n",
    "import numpy as np"
   ]
  },
  {
   "cell_type": "code",
   "execution_count": 3,
   "metadata": {},
   "outputs": [
    {
     "data": {
      "text/html": [
       "<div>\n",
       "<style scoped>\n",
       "    .dataframe tbody tr th:only-of-type {\n",
       "        vertical-align: middle;\n",
       "    }\n",
       "\n",
       "    .dataframe tbody tr th {\n",
       "        vertical-align: top;\n",
       "    }\n",
       "\n",
       "    .dataframe thead th {\n",
       "        text-align: right;\n",
       "    }\n",
       "</style>\n",
       "<table border=\"1\" class=\"dataframe\">\n",
       "  <thead>\n",
       "    <tr style=\"text-align: right;\">\n",
       "      <th></th>\n",
       "      <th>Image_ID</th>\n",
       "      <th>xmin</th>\n",
       "      <th>ymin</th>\n",
       "      <th>w</th>\n",
       "      <th>h</th>\n",
       "      <th>class</th>\n",
       "      <th>confidence</th>\n",
       "      <th>xmax</th>\n",
       "      <th>ymax</th>\n",
       "    </tr>\n",
       "  </thead>\n",
       "  <tbody>\n",
       "    <tr>\n",
       "      <th>6306</th>\n",
       "      <td>id_jgst3boko3.jpg</td>\n",
       "      <td>559.66</td>\n",
       "      <td>2599.21</td>\n",
       "      <td>144.94</td>\n",
       "      <td>183.38</td>\n",
       "      <td>WBC</td>\n",
       "      <td>0.582</td>\n",
       "      <td>704.60</td>\n",
       "      <td>2782.59</td>\n",
       "    </tr>\n",
       "    <tr>\n",
       "      <th>9978</th>\n",
       "      <td>id_s6axfrvztf.jpg</td>\n",
       "      <td>2057.31</td>\n",
       "      <td>2636.99</td>\n",
       "      <td>81.66</td>\n",
       "      <td>105.09</td>\n",
       "      <td>Trophozoite</td>\n",
       "      <td>0.384</td>\n",
       "      <td>2138.97</td>\n",
       "      <td>2742.08</td>\n",
       "    </tr>\n",
       "    <tr>\n",
       "      <th>5630</th>\n",
       "      <td>id_5l5ws9o6mp.jpg</td>\n",
       "      <td>1294.54</td>\n",
       "      <td>1032.28</td>\n",
       "      <td>82.89</td>\n",
       "      <td>100.72</td>\n",
       "      <td>Trophozoite</td>\n",
       "      <td>0.400</td>\n",
       "      <td>1377.43</td>\n",
       "      <td>1133.00</td>\n",
       "    </tr>\n",
       "  </tbody>\n",
       "</table>\n",
       "</div>"
      ],
      "text/plain": [
       "               Image_ID     xmin     ymin       w       h        class  \\\n",
       "6306  id_jgst3boko3.jpg   559.66  2599.21  144.94  183.38          WBC   \n",
       "9978  id_s6axfrvztf.jpg  2057.31  2636.99   81.66  105.09  Trophozoite   \n",
       "5630  id_5l5ws9o6mp.jpg  1294.54  1032.28   82.89  100.72  Trophozoite   \n",
       "\n",
       "      confidence     xmax     ymax  \n",
       "6306       0.582   704.60  2782.59  \n",
       "9978       0.384  2138.97  2742.08  \n",
       "5630       0.400  1377.43  1133.00  "
      ]
     },
     "execution_count": 3,
     "metadata": {},
     "output_type": "execute_result"
    }
   ],
   "source": [
    "valid_data = pd.read_csv(VALID_PTH)\n",
    "\n",
    "predictions = pd.read_csv(PRDICTION_PTH)\n",
    "predictions.sample(3)"
   ]
  },
  {
   "cell_type": "code",
   "execution_count": 4,
   "metadata": {},
   "outputs": [
    {
     "data": {
      "text/html": [
       "<div>\n",
       "<style scoped>\n",
       "    .dataframe tbody tr th:only-of-type {\n",
       "        vertical-align: middle;\n",
       "    }\n",
       "\n",
       "    .dataframe tbody tr th {\n",
       "        vertical-align: top;\n",
       "    }\n",
       "\n",
       "    .dataframe thead th {\n",
       "        text-align: right;\n",
       "    }\n",
       "</style>\n",
       "<table border=\"1\" class=\"dataframe\">\n",
       "  <thead>\n",
       "    <tr style=\"text-align: right;\">\n",
       "      <th></th>\n",
       "      <th>Image_ID</th>\n",
       "      <th>class</th>\n",
       "      <th>confidence</th>\n",
       "      <th>ymin</th>\n",
       "      <th>xmin</th>\n",
       "      <th>ymax</th>\n",
       "      <th>xmax</th>\n",
       "      <th>width</th>\n",
       "      <th>height</th>\n",
       "    </tr>\n",
       "  </thead>\n",
       "  <tbody>\n",
       "    <tr>\n",
       "      <th>549</th>\n",
       "      <td>id_j0zahs4ik5.jpg</td>\n",
       "      <td>Trophozoite</td>\n",
       "      <td>1.0</td>\n",
       "      <td>260</td>\n",
       "      <td>296</td>\n",
       "      <td>287</td>\n",
       "      <td>323</td>\n",
       "      <td>1920</td>\n",
       "      <td>1080</td>\n",
       "    </tr>\n",
       "    <tr>\n",
       "      <th>1516</th>\n",
       "      <td>id_147gpcegp6.jpg</td>\n",
       "      <td>Trophozoite</td>\n",
       "      <td>1.0</td>\n",
       "      <td>224</td>\n",
       "      <td>3340</td>\n",
       "      <td>344</td>\n",
       "      <td>3449</td>\n",
       "      <td>4160</td>\n",
       "      <td>3120</td>\n",
       "    </tr>\n",
       "    <tr>\n",
       "      <th>461</th>\n",
       "      <td>id_eibgf14l0w.jpg</td>\n",
       "      <td>Trophozoite</td>\n",
       "      <td>1.0</td>\n",
       "      <td>38</td>\n",
       "      <td>734</td>\n",
       "      <td>76</td>\n",
       "      <td>776</td>\n",
       "      <td>1920</td>\n",
       "      <td>1080</td>\n",
       "    </tr>\n",
       "  </tbody>\n",
       "</table>\n",
       "</div>"
      ],
      "text/plain": [
       "               Image_ID        class  confidence  ymin  xmin  ymax  xmax  \\\n",
       "549   id_j0zahs4ik5.jpg  Trophozoite         1.0   260   296   287   323   \n",
       "1516  id_147gpcegp6.jpg  Trophozoite         1.0   224  3340   344  3449   \n",
       "461   id_eibgf14l0w.jpg  Trophozoite         1.0    38   734    76   776   \n",
       "\n",
       "      width  height  \n",
       "549    1920    1080  \n",
       "1516   4160    3120  \n",
       "461    1920    1080  "
      ]
     },
     "execution_count": 4,
     "metadata": {},
     "output_type": "execute_result"
    }
   ],
   "source": [
    "valid_data.sample(3)"
   ]
  },
  {
   "cell_type": "code",
   "execution_count": 5,
   "metadata": {},
   "outputs": [],
   "source": [
    "# valid_data = valid_data.rename(columns={\n",
    "# \t\"Image_ID\": \"image_id\", \"class\": \"category_id\", \"confidence\": \"score\", \"xmin\": \"x\", \"ymin\": \"y\"\n",
    "# })\n",
    "\n",
    "# valid_data[\"w\"] = valid_data[\"xmax\"] - valid_data[\"x\"]\n",
    "# valid_data[\"h\"] = valid_data[\"ymax\"] - valid_data[\"y\"]\n",
    "\n",
    "\n",
    "# valid_data.sample(3)"
   ]
  },
  {
   "cell_type": "code",
   "execution_count": 6,
   "metadata": {},
   "outputs": [
    {
     "data": {
      "text/plain": [
       "(275, 275)"
      ]
     },
     "execution_count": 6,
     "metadata": {},
     "output_type": "execute_result"
    }
   ],
   "source": [
    "predictions[\"Image_ID\"].nunique(), valid_data[\"Image_ID\"].nunique()"
   ]
  },
  {
   "cell_type": "code",
   "execution_count": 7,
   "metadata": {},
   "outputs": [
    {
     "data": {
      "text/plain": [
       "275"
      ]
     },
     "execution_count": 7,
     "metadata": {},
     "output_type": "execute_result"
    }
   ],
   "source": [
    "len(set(predictions[\"Image_ID\"].unique()).intersection(valid_data[\"Image_ID\"].unique()))"
   ]
  },
  {
   "cell_type": "code",
   "execution_count": 8,
   "metadata": {},
   "outputs": [
    {
     "data": {
      "text/plain": [
       "Image_ID\n",
       "id_by6e6shi2z.jpg    70\n",
       "id_qa70t0m4yc.jpg    66\n",
       "id_taz7z5iuzk.jpg    66\n",
       "id_q18tfhfneh.jpg    65\n",
       "id_15rb0dgq66.jpg    64\n",
       "id_qicgns95fp.jpg    64\n",
       "id_ohdqwwlnpv.jpg    62\n",
       "id_3xidcn77dw.jpg    61\n",
       "id_zg9jc73sf7.jpg    61\n",
       "id_0vaw9rsiro.jpg    60\n",
       "Name: count, dtype: int64"
      ]
     },
     "execution_count": 8,
     "metadata": {},
     "output_type": "execute_result"
    }
   ],
   "source": [
    "predictions[\"Image_ID\"].value_counts().head(10)"
   ]
  },
  {
   "cell_type": "code",
   "execution_count": 9,
   "metadata": {},
   "outputs": [
    {
     "data": {
      "text/plain": [
       "Image_ID\n",
       "id_15rb0dgq66.jpg    70\n",
       "id_zg9jc73sf7.jpg    48\n",
       "id_zdg96srigj.jpg    42\n",
       "id_ndhdv3wuvg.jpg    39\n",
       "id_i7nitsscaw.jpg    39\n",
       "id_z0i61ad0tq.jpg    38\n",
       "id_ilmjjeqpcy.jpg    37\n",
       "id_by6e6shi2z.jpg    36\n",
       "id_q18tfhfneh.jpg    33\n",
       "id_087dra2apu.jpg    33\n",
       "Name: count, dtype: int64"
      ]
     },
     "execution_count": 9,
     "metadata": {},
     "output_type": "execute_result"
    }
   ],
   "source": [
    "valid_data[\"Image_ID\"].value_counts().head(10)"
   ]
  },
  {
   "cell_type": "code",
   "execution_count": 10,
   "metadata": {},
   "outputs": [
    {
     "data": {
      "text/plain": [
       "count    10652.000000\n",
       "mean         0.270664\n",
       "std          0.187446\n",
       "min          0.033000\n",
       "25%          0.104000\n",
       "50%          0.231500\n",
       "75%          0.406000\n",
       "max          0.842000\n",
       "Name: confidence, dtype: float64"
      ]
     },
     "execution_count": 10,
     "metadata": {},
     "output_type": "execute_result"
    }
   ],
   "source": [
    "predictions[\"confidence\"].describe()"
   ]
  },
  {
   "cell_type": "code",
   "execution_count": 11,
   "metadata": {},
   "outputs": [
    {
     "data": {
      "text/plain": [
       "Image_ID      0\n",
       "xmin          0\n",
       "ymin          0\n",
       "w             0\n",
       "h             0\n",
       "class         0\n",
       "confidence    0\n",
       "xmax          0\n",
       "ymax          0\n",
       "dtype: int64"
      ]
     },
     "execution_count": 11,
     "metadata": {},
     "output_type": "execute_result"
    }
   ],
   "source": [
    "predictions.isna().sum()"
   ]
  },
  {
   "cell_type": "code",
   "execution_count": 12,
   "metadata": {},
   "outputs": [
    {
     "data": {
      "text/plain": [
       "70"
      ]
     },
     "execution_count": 12,
     "metadata": {},
     "output_type": "execute_result"
    }
   ],
   "source": [
    "len(valid_data[valid_data[\"class\"] == \"NEG\"])"
   ]
  },
  {
   "cell_type": "code",
   "execution_count": 13,
   "metadata": {},
   "outputs": [
    {
     "data": {
      "text/plain": [
       "Index(['Image_ID', 'xmin', 'ymin', 'w', 'h', 'class', 'confidence', 'xmax',\n",
       "       'ymax'],\n",
       "      dtype='object')"
      ]
     },
     "execution_count": 13,
     "metadata": {},
     "output_type": "execute_result"
    }
   ],
   "source": [
    "predictions.columns"
   ]
  },
  {
   "cell_type": "code",
   "execution_count": 14,
   "metadata": {},
   "outputs": [
    {
     "data": {
      "text/plain": [
       "Index(['Image_ID', 'class', 'confidence', 'ymin', 'xmin', 'ymax', 'xmax',\n",
       "       'width', 'height'],\n",
       "      dtype='object')"
      ]
     },
     "execution_count": 14,
     "metadata": {},
     "output_type": "execute_result"
    }
   ],
   "source": [
    "valid_data.columns"
   ]
  },
  {
   "cell_type": "code",
   "execution_count": 15,
   "metadata": {},
   "outputs": [
    {
     "data": {
      "text/html": [
       "<div>\n",
       "<style scoped>\n",
       "    .dataframe tbody tr th:only-of-type {\n",
       "        vertical-align: middle;\n",
       "    }\n",
       "\n",
       "    .dataframe tbody tr th {\n",
       "        vertical-align: top;\n",
       "    }\n",
       "\n",
       "    .dataframe thead th {\n",
       "        text-align: right;\n",
       "    }\n",
       "</style>\n",
       "<table border=\"1\" class=\"dataframe\">\n",
       "  <thead>\n",
       "    <tr style=\"text-align: right;\">\n",
       "      <th></th>\n",
       "      <th>Image_ID</th>\n",
       "      <th>xmin</th>\n",
       "      <th>ymin</th>\n",
       "      <th>w</th>\n",
       "      <th>h</th>\n",
       "      <th>class</th>\n",
       "      <th>confidence</th>\n",
       "      <th>xmax</th>\n",
       "      <th>ymax</th>\n",
       "    </tr>\n",
       "  </thead>\n",
       "  <tbody>\n",
       "    <tr>\n",
       "      <th>9222</th>\n",
       "      <td>id_3j2sa06i6j.jpg</td>\n",
       "      <td>426.37</td>\n",
       "      <td>1474.98</td>\n",
       "      <td>154.22</td>\n",
       "      <td>206.01</td>\n",
       "      <td>WBC</td>\n",
       "      <td>0.638</td>\n",
       "      <td>580.59</td>\n",
       "      <td>1680.99</td>\n",
       "    </tr>\n",
       "    <tr>\n",
       "      <th>2277</th>\n",
       "      <td>id_6x0d145kam.jpg</td>\n",
       "      <td>2667.94</td>\n",
       "      <td>1748.94</td>\n",
       "      <td>82.97</td>\n",
       "      <td>109.88</td>\n",
       "      <td>Trophozoite</td>\n",
       "      <td>0.313</td>\n",
       "      <td>2750.91</td>\n",
       "      <td>1858.82</td>\n",
       "    </tr>\n",
       "    <tr>\n",
       "      <th>10164</th>\n",
       "      <td>id_yx8m83kug3.jpg</td>\n",
       "      <td>3570.59</td>\n",
       "      <td>3024.12</td>\n",
       "      <td>159.27</td>\n",
       "      <td>89.45</td>\n",
       "      <td>Trophozoite</td>\n",
       "      <td>0.039</td>\n",
       "      <td>3729.86</td>\n",
       "      <td>3113.57</td>\n",
       "    </tr>\n",
       "    <tr>\n",
       "      <th>1598</th>\n",
       "      <td>id_et97dmccl6.jpg</td>\n",
       "      <td>2203.18</td>\n",
       "      <td>1013.21</td>\n",
       "      <td>80.95</td>\n",
       "      <td>99.73</td>\n",
       "      <td>Trophozoite</td>\n",
       "      <td>0.438</td>\n",
       "      <td>2284.13</td>\n",
       "      <td>1112.94</td>\n",
       "    </tr>\n",
       "    <tr>\n",
       "      <th>2244</th>\n",
       "      <td>id_ctkvvkc84k.jpg</td>\n",
       "      <td>788.21</td>\n",
       "      <td>61.90</td>\n",
       "      <td>55.74</td>\n",
       "      <td>51.62</td>\n",
       "      <td>WBC</td>\n",
       "      <td>0.281</td>\n",
       "      <td>843.95</td>\n",
       "      <td>113.52</td>\n",
       "    </tr>\n",
       "  </tbody>\n",
       "</table>\n",
       "</div>"
      ],
      "text/plain": [
       "                Image_ID     xmin     ymin       w       h        class  \\\n",
       "9222   id_3j2sa06i6j.jpg   426.37  1474.98  154.22  206.01          WBC   \n",
       "2277   id_6x0d145kam.jpg  2667.94  1748.94   82.97  109.88  Trophozoite   \n",
       "10164  id_yx8m83kug3.jpg  3570.59  3024.12  159.27   89.45  Trophozoite   \n",
       "1598   id_et97dmccl6.jpg  2203.18  1013.21   80.95   99.73  Trophozoite   \n",
       "2244   id_ctkvvkc84k.jpg   788.21    61.90   55.74   51.62          WBC   \n",
       "\n",
       "       confidence     xmax     ymax  \n",
       "9222        0.638   580.59  1680.99  \n",
       "2277        0.313  2750.91  1858.82  \n",
       "10164       0.039  3729.86  3113.57  \n",
       "1598        0.438  2284.13  1112.94  \n",
       "2244        0.281   843.95   113.52  "
      ]
     },
     "execution_count": 15,
     "metadata": {},
     "output_type": "execute_result"
    }
   ],
   "source": [
    "predictions.sample(5)"
   ]
  },
  {
   "cell_type": "code",
   "execution_count": 16,
   "metadata": {},
   "outputs": [
    {
     "name": "stdout",
     "output_type": "stream",
     "text": [
      "Prediction Extraction\n",
      "Expected Extraction\n"
     ]
    }
   ],
   "source": [
    "import torch\n",
    "\n",
    "image_files: list[str] = valid_data[\"Image_ID\"].unique().tolist()\n",
    "\n",
    "\n",
    "def get_format_pred(file_id: str, data: pd.DataFrame, is_prediction, thr=THR_INF):\n",
    "    pred = data[data[\"Image_ID\"] == file_id].copy()\n",
    "    pred = pred[pred[\"class\"] != \"NEG\"]\n",
    "    pred = pred[pred[\"confidence\"] >= thr]\n",
    "    if not len(pred):\n",
    "        return dict(\n",
    "        \tboxes=torch.empty(size=[0, 4], dtype=torch.float).cuda(),\n",
    "        \tscores=torch.empty(size=[0], dtype=torch.float).cuda(),\n",
    "        \tlabels=torch.empty(size=[0,], dtype=torch.int).cuda(),\n",
    "        )\n",
    "        return dict(\n",
    "            boxes=torch.tensor([[0.0, 0.0, 0.0, 0.0]], dtype=torch.float).cuda(),\n",
    "            scores=torch.tensor([1.0], dtype=torch.float).cuda(),\n",
    "            labels=torch.tensor([CLS_MAPPER[\"NEG\"]], dtype=torch.int).cuda(),\n",
    "        )\n",
    "    pred[\"w\"] = pred[\"xmax\"] - pred[\"xmin\"]\n",
    "    pred[\"h\"] = pred[\"ymax\"] - pred[\"ymin\"]\n",
    "    boxes = torch.tensor(\n",
    "        pred[[\"xmin\", \"ymin\", \"w\", \"h\"]].values, dtype=torch.float\n",
    "    ).cuda()\n",
    "\n",
    "    scores = torch.tensor(pred[\"confidence\"].values, dtype=torch.float).cuda()\n",
    "    labels = torch.tensor(\n",
    "        [CLS_MAPPER[i] for i in pred[\"class\"].values], dtype=torch.int\n",
    "    ).cuda()\n",
    "    result = dict(boxes=boxes, scores=scores, labels=labels)\n",
    "    return result\n",
    "\n",
    "\n",
    "print(\"Prediction Extraction\")\n",
    "preds = [get_format_pred(i, predictions, True) for i in image_files]\n",
    "print(\"Expected Extraction\")\n",
    "expected = [get_format_pred(i, valid_data, False) for i in image_files]"
   ]
  },
  {
   "cell_type": "code",
   "execution_count": 17,
   "metadata": {},
   "outputs": [
    {
     "data": {
      "text/plain": [
       "{'boxes': tensor([[ 709.3700,  997.5500,  163.1300,  198.6200],\n",
       "         [1513.0900, 1375.3101,   91.3500,  114.8900],\n",
       "         [1203.2800, 1152.2200,   84.4900,  105.6700],\n",
       "         [ 758.3200,  203.1600,   88.6300,  113.2600],\n",
       "         [ 350.4700,  488.7600,   87.4200,  108.5200],\n",
       "         [1585.1000,  648.1800,   87.0400,  106.6400],\n",
       "         [1841.8199,  914.0100,   90.5200,  112.2700],\n",
       "         [ 464.8400, 1504.3800,   88.6100,  105.0900],\n",
       "         [1368.6400, 2477.9500,   88.0400,  111.0600],\n",
       "         [ 557.0200,  498.8100,   82.8400,  106.0100],\n",
       "         [1487.6899, 1897.3500,   85.2100,  109.5900],\n",
       "         [1305.2100,  428.2700,   84.4700,  115.9100],\n",
       "         [2181.7800, 1031.8800,   84.4200,  110.9000],\n",
       "         [ 208.4800, 2000.0699,   85.8400,  112.2800],\n",
       "         [1055.4700,  518.5200,   85.0200,  106.0800],\n",
       "         [ 975.9900, 1532.4000,   86.0100,  107.6800],\n",
       "         [ 990.5800, 2105.8899,   84.6500,  107.4400],\n",
       "         [2485.3601, 2068.4299,   84.7000,  107.9900],\n",
       "         [2438.6699, 1684.7300,   91.3900,  111.7400],\n",
       "         [1387.5400,  933.5900,   83.4600,  109.4000],\n",
       "         [ 458.6000, 1152.6100,   85.4400,  109.4300],\n",
       "         [  33.1500,  363.8300,   87.7100,  115.5900],\n",
       "         [ 381.5800, 1765.8400,   86.8400,  109.3200],\n",
       "         [2276.7800, 1357.9000,   83.3900,  108.9300],\n",
       "         [ 897.8200, 1023.9400,   81.3100,  109.1600],\n",
       "         [  45.2800, 1804.9399,   91.8500,  113.0400],\n",
       "         [ 900.4300,  550.0700,   81.6700,  105.5300],\n",
       "         [ 451.1800,  858.6300,   79.8700,  106.0600],\n",
       "         [2459.2000, 1132.3300,   82.5500,  108.7100],\n",
       "         [2040.7100, 1515.4900,   82.0600,  108.6200],\n",
       "         [1705.8400,  865.8100,   77.8500,  110.1600],\n",
       "         [ 718.1900, 1922.6600,   84.0200,  101.2900],\n",
       "         [2397.7700,  815.3600,   78.6800,  114.9500],\n",
       "         [2374.9600, 2552.6001,   81.3600,  108.0800],\n",
       "         [1998.7400, 2064.8101,   82.3000,  106.2000],\n",
       "         [2343.5400,  662.0600,   84.1900,  113.8600],\n",
       "         [ 960.9200,  113.4300,   79.5700,  105.1400],\n",
       "         [2008.4399, 2838.9299,   83.5200,  106.3800],\n",
       "         [1316.0100, 2653.4900,   83.7800,  105.0500],\n",
       "         [2359.6201, 1976.5800,   76.7800,  104.5000],\n",
       "         [1573.3500, 2496.9700,   80.4300,  105.2600],\n",
       "         [2635.6399, 1723.6300,   79.3600,  104.4100],\n",
       "         [2557.5801, 1537.2500,   85.6700,  116.7700],\n",
       "         [ 558.9400, 2235.7600,   83.0600,  104.0500],\n",
       "         [2162.1101,  587.4100,   83.5100,  112.0600],\n",
       "         [1368.6100,  295.7400,   81.0700,  104.7400],\n",
       "         [1944.1700, 1254.0300,   86.8500,  115.1400],\n",
       "         [1332.3400, 1053.8101,  130.7800,  147.7500],\n",
       "         [ 155.8300,   81.6500,   78.9700,  100.6600],\n",
       "         [2162.7700, 1486.5900,   79.7700,  107.1500],\n",
       "         [2539.9800,    9.4500,   93.8900,  101.7500],\n",
       "         [2397.3799, 1290.7400,   83.9700,  114.3800],\n",
       "         [2361.7500, 1183.0699,   84.8600,  118.8600],\n",
       "         [2325.7500, 2693.4700,   80.6600,  104.0400],\n",
       "         [1922.0400, 2854.3899,   95.3200,  118.2600],\n",
       "         [1340.5200, 2823.4500,   97.4500,  113.6200],\n",
       "         [2632.2200,  189.8100,   89.7000,  115.8600],\n",
       "         [ 842.1700, 1005.9600,   88.0600,  129.2200]], device='cuda:0'),\n",
       " 'scores': tensor([0.7410, 0.5310, 0.5000, 0.4990, 0.4970, 0.4890, 0.4710, 0.4620, 0.4550,\n",
       "         0.4520, 0.4470, 0.4300, 0.4250, 0.4240, 0.4110, 0.4090, 0.3970, 0.3950,\n",
       "         0.3950, 0.3920, 0.3700, 0.3690, 0.3690, 0.3670, 0.3640, 0.3600, 0.3590,\n",
       "         0.3480, 0.3440, 0.3390, 0.3310, 0.3300, 0.3270, 0.3250, 0.3220, 0.3220,\n",
       "         0.3150, 0.3130, 0.3120, 0.3070, 0.3050, 0.2990, 0.2910, 0.2910, 0.2850,\n",
       "         0.2830, 0.2820, 0.2770, 0.2760, 0.2720, 0.2720, 0.2670, 0.2630, 0.2370,\n",
       "         0.2300, 0.2280, 0.2240, 0.2200], device='cuda:0'),\n",
       " 'labels': tensor([1, 0, 0, 0, 0, 0, 0, 0, 0, 0, 0, 0, 0, 0, 0, 0, 0, 0, 0, 0, 0, 0, 0, 0,\n",
       "         0, 0, 0, 0, 0, 0, 0, 0, 0, 0, 0, 0, 0, 0, 0, 0, 0, 0, 0, 0, 0, 0, 0, 1,\n",
       "         0, 0, 0, 0, 0, 0, 0, 0, 0, 0], device='cuda:0', dtype=torch.int32)}"
      ]
     },
     "execution_count": 17,
     "metadata": {},
     "output_type": "execute_result"
    }
   ],
   "source": [
    "preds[0]"
   ]
  },
  {
   "cell_type": "code",
   "execution_count": 18,
   "metadata": {},
   "outputs": [
    {
     "data": {
      "text/plain": [
       "{'boxes': tensor([[1744.,  925.,   79.,  116.],\n",
       "         [2278.,  904.,  116.,  116.],\n",
       "         [3060., 1141.,  100.,   95.],\n",
       "         [1881., 1913.,   95.,  106.],\n",
       "         [1702., 2489.,   85.,   90.],\n",
       "         [2674., 1501.,  100.,   85.],\n",
       "         [3023., 1675.,  106.,  111.],\n",
       "         [2848., 1353.,   90.,  106.],\n",
       "         [ 470., 1765.,  116.,  122.],\n",
       "         [2943., 1226.,   95.,  106.],\n",
       "         [2933.,  671.,   95.,   85.],\n",
       "         [1311.,  534.,   90.,  100.],\n",
       "         [ 254., 2003.,  100.,  111.],\n",
       "         [ 941.,  206.,   90.,  106.],\n",
       "         [2949., 1041.,   90.,  106.],\n",
       "         [1649., 2669.,   90.,   95.],\n",
       "         [ 460.,  523.,   90.,   85.],\n",
       "         [ 925.,  988.,  169.,  206.],\n",
       "         [1887., 1395.,   95.,   90.],\n",
       "         [3012.,  772.,  106.,  100.],\n",
       "         [2743., 1046.,   74.,   85.]], device='cuda:0'),\n",
       " 'scores': tensor([1., 1., 1., 1., 1., 1., 1., 1., 1., 1., 1., 1., 1., 1., 1., 1., 1., 1.,\n",
       "         1., 1., 1.], device='cuda:0'),\n",
       " 'labels': tensor([0, 0, 0, 0, 0, 0, 0, 0, 0, 0, 0, 0, 0, 0, 0, 0, 0, 1, 0, 0, 0],\n",
       "        device='cuda:0', dtype=torch.int32)}"
      ]
     },
     "execution_count": 18,
     "metadata": {},
     "output_type": "execute_result"
    }
   ],
   "source": [
    "expected[0]"
   ]
  },
  {
   "cell_type": "code",
   "execution_count": 19,
   "metadata": {},
   "outputs": [
    {
     "name": "stdout",
     "output_type": "stream",
     "text": [
      "{'classes': tensor([0, 1], dtype=torch.int32),\n",
      " 'map': tensor(0.0045),\n",
      " 'map_50': tensor(0.0194),\n",
      " 'map_75': tensor(0.0007),\n",
      " 'map_large': tensor(6.7998e-05),\n",
      " 'map_medium': tensor(0.0087),\n",
      " 'map_per_class': tensor([0.0004, 0.0086]),\n",
      " 'map_small': tensor(0.0116),\n",
      " 'mar_1': tensor(0.0043),\n",
      " 'mar_10': tensor(0.0323),\n",
      " 'mar_100': tensor(0.0423),\n",
      " 'mar_100_per_class': tensor([0.0143, 0.0703]),\n",
      " 'mar_large': tensor(0.0087),\n",
      " 'mar_medium': tensor(0.0558),\n",
      " 'mar_small': tensor(0.0162)}\n"
     ]
    }
   ],
   "source": [
    "from torchmetrics.detection import MeanAveragePrecision\n",
    "\n",
    "metric = MeanAveragePrecision(\n",
    "    iou_type=\"bbox\",\n",
    "    box_format=\"xywh\",\n",
    "    class_metrics=True,\n",
    "    extended_summary=False,\n",
    "    # backend=\"faster_coco_eval\",\n",
    ")\n",
    "\n",
    "\n",
    "metric.update(preds=preds, target=expected)\n",
    "\n",
    "from pprint import pprint\n",
    "\n",
    "pprint(metric.compute())"
   ]
  },
  {
   "cell_type": "code",
   "execution_count": 20,
   "metadata": {},
   "outputs": [
    {
     "data": {
      "text/plain": [
       "{'boxes': tensor([[1277.,  127.,   85.,   70.],\n",
       "         [1583.,  878.,   62.,   61.],\n",
       "         [ 755.,  815.,   59.,   64.],\n",
       "         [ 929.,  165.,   38.,   34.],\n",
       "         [ 864.,  375.,   96.,   79.],\n",
       "         [1430.,   66.,   26.,   25.],\n",
       "         [ 473.,  513.,   32.,   38.],\n",
       "         [1110.,  131.,   28.,   28.],\n",
       "         [ 908.,  291.,   64.,   59.],\n",
       "         [1394.,  600.,   28.,   26.],\n",
       "         [1226.,  269.,   32.,   34.],\n",
       "         [1432.,  110.,   30.,   32.],\n",
       "         [ 653.,  815.,   30.,   32.],\n",
       "         [1131.,  161.,   62.,   81.]], device='cuda:0'),\n",
       " 'scores': tensor([1., 1., 1., 1., 1., 1., 1., 1., 1., 1., 1., 1., 1., 1.],\n",
       "        device='cuda:0'),\n",
       " 'labels': tensor([1, 1, 1, 0, 1, 0, 0, 0, 1, 0, 0, 0, 0, 1], device='cuda:0',\n",
       "        dtype=torch.int32)}"
      ]
     },
     "execution_count": 20,
     "metadata": {},
     "output_type": "execute_result"
    }
   ],
   "source": [
    "expected[128]"
   ]
  },
  {
   "cell_type": "code",
   "execution_count": 21,
   "metadata": {},
   "outputs": [
    {
     "data": {
      "text/plain": [
       "{'boxes': tensor([[ 748.3300,  761.7400,   67.8500,   69.5700],\n",
       "         [1572.8800,  822.8400,   65.1300,   58.0800],\n",
       "         [ 901.1900,  269.3500,   69.1800,   64.0900],\n",
       "         [1269.7800,  116.5600,   96.8900,   72.6100],\n",
       "         [ 991.0400,  450.8000,   39.3400,   35.1800],\n",
       "         [1100.7900,  118.2600,   38.0400,   36.3000],\n",
       "         [1044.0500,  627.8600,   37.5500,   34.1200],\n",
       "         [1128.5300,  154.0300,   72.2700,   77.2700],\n",
       "         [ 762.2400,  286.0300,   37.2100,   33.6800],\n",
       "         [ 855.5900,  943.3900,   36.3200,   34.9900],\n",
       "         [1228.4800,  249.4800,   36.8000,   35.6400],\n",
       "         [ 677.1600,  598.7000,   66.2100,   52.3700],\n",
       "         [1389.9800,  559.6100,   36.6100,   33.5300],\n",
       "         [ 647.4300,  767.2100,   36.5000,   32.8900],\n",
       "         [ 702.5400,  291.8900,   37.7400,   33.7600],\n",
       "         [ 982.9900,  531.8200,   40.1700,   38.7800],\n",
       "         [1209.8900,  645.9700,   36.8900,   34.3900],\n",
       "         [ 469.5600,  483.2600,   36.5200,   32.7400],\n",
       "         [1422.7100,   56.0300,   35.5600,   32.7500],\n",
       "         [1088.0200,  943.6000,   37.3700,   35.9900],\n",
       "         [ 974.5100,  616.2500,   36.9800,   35.6100],\n",
       "         [ 621.9100,  390.1200,   38.4600,   36.6400],\n",
       "         [1053.4200,  704.4900,   68.2800,   52.6400],\n",
       "         [ 849.2800,  344.7600,  100.9700,   86.1400],\n",
       "         [1082.3900,  790.7400,   37.7200,   34.0700],\n",
       "         [ 751.1000,  609.3400,   38.5000,   35.3300],\n",
       "         [ 954.3000,  925.9400,   36.9900,   33.8300],\n",
       "         [ 203.0000,  260.5100,   36.2200,   33.3100],\n",
       "         [1487.2700,  901.1500,   35.4500,   31.5700],\n",
       "         [ 934.2400,  222.8800,   40.1300,   33.1400],\n",
       "         [ 914.9400,  204.3500,   38.5000,   34.2600],\n",
       "         [ 753.6400,  369.2700,   37.7400,   34.7600],\n",
       "         [1551.1801,  533.9600,   36.5200,   33.8700],\n",
       "         [ 737.0400,  290.3500,   38.3200,   33.9700],\n",
       "         [1433.6500,  522.7200,   43.0100,   41.3000],\n",
       "         [1302.8500,  265.6700,   38.6000,   34.4100],\n",
       "         [1728.0900,  521.1600,   34.7300,   33.5400],\n",
       "         [ 936.0100,  152.1900,   37.0400,   30.6700],\n",
       "         [ 716.9000,  580.2800,   37.2800,   32.3700],\n",
       "         [1429.5400,  102.0800,   37.4000,   33.9200],\n",
       "         [ 996.4900,   28.6300,   38.0600,   37.8100],\n",
       "         [1628.9301,  680.7200,   40.6800,   38.0600],\n",
       "         [ 871.9000,  581.9900,   35.1900,   33.2600],\n",
       "         [1139.4200,  856.7700,   36.2900,   33.6700],\n",
       "         [ 159.3100,  547.8500,   51.1000,   42.6200],\n",
       "         [ 860.8000,  885.6700,   33.6300,   29.2700],\n",
       "         [1457.8400,  247.3000,   39.3900,   36.6300],\n",
       "         [ 992.2400,  623.3600,   38.4200,   37.2400],\n",
       "         [ 365.4400,  507.4100,   40.1000,   35.5100],\n",
       "         [1510.5300,  378.9800,   37.0900,   31.8700],\n",
       "         [ 750.8200,  231.4500,   52.3500,   42.7500]], device='cuda:0'),\n",
       " 'scores': tensor([0.7650, 0.6610, 0.6590, 0.6280, 0.5130, 0.5000, 0.4970, 0.4950, 0.4880,\n",
       "         0.4650, 0.4330, 0.4250, 0.4210, 0.4120, 0.4000, 0.3890, 0.3860, 0.3810,\n",
       "         0.3770, 0.3700, 0.3440, 0.3430, 0.3340, 0.3340, 0.3300, 0.3160, 0.3120,\n",
       "         0.3120, 0.3060, 0.2970, 0.2930, 0.2880, 0.2870, 0.2870, 0.2660, 0.2620,\n",
       "         0.2540, 0.2350, 0.2330, 0.2260, 0.2210, 0.2200, 0.2060, 0.1990, 0.1870,\n",
       "         0.1780, 0.1770, 0.1760, 0.1700, 0.1550, 0.1530], device='cuda:0'),\n",
       " 'labels': tensor([1, 1, 1, 1, 0, 0, 0, 1, 0, 0, 0, 1, 0, 0, 0, 0, 0, 0, 0, 0, 0, 0, 1, 1,\n",
       "         0, 0, 0, 0, 0, 0, 0, 0, 0, 0, 0, 0, 0, 0, 0, 0, 0, 0, 0, 0, 1, 0, 0, 0,\n",
       "         0, 0, 1], device='cuda:0', dtype=torch.int32)}"
      ]
     },
     "execution_count": 21,
     "metadata": {},
     "output_type": "execute_result"
    }
   ],
   "source": [
    "preds[128]"
   ]
  },
  {
   "cell_type": "code",
   "execution_count": 22,
   "metadata": {},
   "outputs": [
    {
     "name": "stderr",
     "output_type": "stream",
     "text": [
      "  0%|          | 0/15 [00:00<?, ?it/s]"
     ]
    },
    {
     "name": "stderr",
     "output_type": "stream",
     "text": [
      "  7%|▋         | 1/15 [00:05<01:13,  5.22s/it]"
     ]
    },
    {
     "name": "stdout",
     "output_type": "stream",
     "text": [
      "0.0 tensor(0.0194)\n"
     ]
    },
    {
     "name": "stderr",
     "output_type": "stream",
     "text": [
      "100%|██████████| 15/15 [00:44<00:00,  2.96s/it]\n"
     ]
    }
   ],
   "source": [
    "from tqdm import tqdm\n",
    "\n",
    "thrs = np.linspace(0.0, 0.95, num=15)\n",
    "best_score = 0\n",
    "best_thr = 0\n",
    "\n",
    "for thr in tqdm(thrs):\n",
    "    metric = MeanAveragePrecision(\n",
    "        iou_type=\"bbox\",\n",
    "        box_format=\"xywh\",\n",
    "        class_metrics=True,\n",
    "        extended_summary=False,\n",
    "        # backend=\"faster_coco_eval\",\n",
    "    )\n",
    "    preds = [get_format_pred(i, predictions, True, thr) for i in image_files]\n",
    "    expected = [get_format_pred(i, valid_data, False, thr) for i in image_files]\n",
    "    metric.update(preds=preds, target=expected)\n",
    "    scores = metric.compute()\n",
    "    if scores[\"map_50\"] > best_score:\n",
    "        best_score = scores[\"map_50\"]\n",
    "        best_thr = thr\n",
    "        print(best_thr, best_score)"
   ]
  },
  {
   "cell_type": "code",
   "execution_count": 23,
   "metadata": {},
   "outputs": [
    {
     "name": "stdout",
     "output_type": "stream",
     "text": [
      "0.0 tensor(0.0194)\n"
     ]
    }
   ],
   "source": [
    "print(best_thr, best_score)"
   ]
  },
  {
   "cell_type": "code",
   "execution_count": 24,
   "metadata": {},
   "outputs": [
    {
     "data": {
      "text/plain": [
       "array([0.        , 0.06785714, 0.13571429, 0.20357143, 0.27142857,\n",
       "       0.33928571, 0.40714286, 0.475     , 0.54285714, 0.61071429,\n",
       "       0.67857143, 0.74642857, 0.81428571, 0.88214286, 0.95      ])"
      ]
     },
     "execution_count": 24,
     "metadata": {},
     "output_type": "execute_result"
    }
   ],
   "source": [
    "thrs"
   ]
  },
  {
   "cell_type": "code",
   "execution_count": 25,
   "metadata": {},
   "outputs": [],
   "source": [
    "thr = 0.05\n",
    "\n",
    "metric = MeanAveragePrecision(\n",
    "    iou_type=\"bbox\",\n",
    "    box_format=\"xywh\",\n",
    "    class_metrics=True,\n",
    "    extended_summary=False,\n",
    "    backend=\"faster_coco_eval\",\n",
    ")\n",
    "preds = [get_format_pred(i, predictions, True, thr) for i in image_files]\n",
    "expected = [get_format_pred(i, valid_data, False, thr) for i in image_files]\n",
    "metric.update(preds=preds, target=expected)\n",
    "scores = metric.compute()"
   ]
  },
  {
   "cell_type": "code",
   "execution_count": 26,
   "metadata": {},
   "outputs": [
    {
     "data": {
      "text/plain": [
       "{'map': tensor(0.0045),\n",
       " 'map_50': tensor(0.0194),\n",
       " 'map_75': tensor(0.0007),\n",
       " 'map_small': tensor(0.0116),\n",
       " 'map_medium': tensor(0.0087),\n",
       " 'map_large': tensor(6.7998e-05),\n",
       " 'mar_1': tensor(0.0043),\n",
       " 'mar_10': tensor(0.0323),\n",
       " 'mar_100': tensor(0.0423),\n",
       " 'mar_small': tensor(0.0162),\n",
       " 'mar_medium': tensor(0.0558),\n",
       " 'mar_large': tensor(0.0087),\n",
       " 'map_per_class': tensor([0.0004, 0.0086]),\n",
       " 'mar_100_per_class': tensor([0.0143, 0.0703]),\n",
       " 'classes': tensor([0, 1], dtype=torch.int32)}"
      ]
     },
     "execution_count": 26,
     "metadata": {},
     "output_type": "execute_result"
    }
   ],
   "source": [
    "scores"
   ]
  },
  {
   "cell_type": "code",
   "execution_count": null,
   "metadata": {},
   "outputs": [],
   "source": []
  }
 ],
 "metadata": {
  "kernelspec": {
   "display_name": ".venv",
   "language": "python",
   "name": "python3"
  },
  "language_info": {
   "codemirror_mode": {
    "name": "ipython",
    "version": 3
   },
   "file_extension": ".py",
   "mimetype": "text/x-python",
   "name": "python",
   "nbconvert_exporter": "python",
   "pygments_lexer": "ipython3",
   "version": "3.11.7"
  }
 },
 "nbformat": 4,
 "nbformat_minor": 2
}
