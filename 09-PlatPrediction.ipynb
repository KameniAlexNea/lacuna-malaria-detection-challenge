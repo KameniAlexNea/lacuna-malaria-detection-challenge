{
 "cells": [
  {
   "cell_type": "code",
   "execution_count": null,
   "metadata": {},
   "outputs": [],
   "source": [
    "import pandas as pd\n",
    "import json\n",
    "import os\n",
    "from tqdm import tqdm\n",
    "\n",
    "import numpy as np\n",
    "from zindi_code import CLS_MAPPER\n",
    "CLS_MAPPER[\"NEG\"] = 2\n",
    "CLS_MAPPER"
   ]
  },
  {
   "cell_type": "code",
   "execution_count": null,
   "metadata": {},
   "outputs": [],
   "source": [
    "VALID_PTH = \"zindi_data/ValDataset.csv\"\n",
    "PRDICTION_PTH = 'zindi_data/validation/prediction_cond-detr-50_THR0.000_IOU0.400_ID580.csv'\n",
    "THR_INF = 0.01"
   ]
  },
  {
   "cell_type": "code",
   "execution_count": null,
   "metadata": {},
   "outputs": [],
   "source": [
    "valid_data = pd.read_csv(VALID_PTH)\n",
    "\n",
    "predictions = pd.read_csv(PRDICTION_PTH)\n",
    "\n",
    "predictions[\"xmax\"] =  predictions[\"w\"] + predictions[\"xmin\"]\n",
    "predictions[\"ymax\"] = predictions[\"h\"] + predictions[\"ymin\"]\n",
    "predictions.sample(3)"
   ]
  },
  {
   "cell_type": "code",
   "execution_count": null,
   "metadata": {},
   "outputs": [],
   "source": [
    "valid_data[\"w\"] = valid_data[\"xmax\"] - valid_data[\"xmin\"]\n",
    "valid_data[\"h\"] = valid_data[\"ymax\"] - valid_data[\"ymin\"]\n",
    "\n",
    "valid_data.sample(3)"
   ]
  },
  {
   "cell_type": "code",
   "execution_count": null,
   "metadata": {},
   "outputs": [],
   "source": [
    "len(set(valid_data[\"Image_ID\"]).intersection(predictions[\"Image_ID\"])), valid_data[\"Image_ID\"].nunique()"
   ]
  },
  {
   "cell_type": "code",
   "execution_count": null,
   "metadata": {},
   "outputs": [],
   "source": [
    "import random\n",
    "\n",
    "\n",
    "image_id = random.choice(valid_data[\"Image_ID\"].unique())\n",
    "image_id"
   ]
  },
  {
   "cell_type": "code",
   "execution_count": null,
   "metadata": {},
   "outputs": [],
   "source": [
    "from PIL import Image, ImageDraw\n",
    "import os\n",
    "\n",
    "cols = [\"xmin\", \"ymin\", \"xmax\", \"ymax\"]\n",
    "color_map = {\"Trophozoite\": \"red\", \"WBC\": \"blue\"}\n",
    "color_map_test = {\"Trophozoite\": \"yellow\", \"WBC\": \"green\"}\n",
    "\n",
    "\n",
    "def draw(image_id: str):\n",
    "\timg = Image.open(os.path.join(\"zindi_data/images\", image_id))\n",
    "\tdraw = ImageDraw.Draw(img)\n",
    "\t\n",
    "\traw = predictions[(predictions[\"Image_ID\"] == image_id) & (predictions[\"class\"] != \"NEG\")]\n",
    "\tfor _, line in raw.iterrows():\n",
    "\t\tdraw.rectangle([line[i] for i in cols], fill=None, outline=color_map_test[line[\"class\"]])\n",
    "\t\n",
    "\traw = valid_data[(valid_data[\"Image_ID\"] == image_id) & (valid_data[\"class\"] != \"NEG\")]\n",
    "\tfor _, line in raw.iterrows():\n",
    "\t\tdraw.rectangle([line[i] for i in cols], fill=None, outline=color_map[line[\"class\"]])\n",
    "\treturn img"
   ]
  },
  {
   "cell_type": "code",
   "execution_count": null,
   "metadata": {},
   "outputs": [],
   "source": [
    "draw(image_id)"
   ]
  },
  {
   "cell_type": "code",
   "execution_count": null,
   "metadata": {},
   "outputs": [],
   "source": []
  }
 ],
 "metadata": {
  "kernelspec": {
   "display_name": ".venv",
   "language": "python",
   "name": "python3"
  },
  "language_info": {
   "codemirror_mode": {
    "name": "ipython",
    "version": 3
   },
   "file_extension": ".py",
   "mimetype": "text/x-python",
   "name": "python",
   "nbconvert_exporter": "python",
   "pygments_lexer": "ipython3",
   "version": "3.11.7"
  }
 },
 "nbformat": 4,
 "nbformat_minor": 2
}
