{
 "cells": [
  {
   "cell_type": "code",
   "execution_count": 1,
   "metadata": {},
   "outputs": [],
   "source": [
    "import os\n",
    "\n",
    "os.environ[\"CUDA_DEVICE_ORDER\"] = \"PCI_BUS_ID\"\n",
    "os.environ[\"CUDA_VISIBLE_DEVICES\"] = \"0\""
   ]
  },
  {
   "cell_type": "code",
   "execution_count": 2,
   "metadata": {},
   "outputs": [],
   "source": [
    "CHP_ID = \"5425\"\n",
    "SUBMODEL = \"cond-detr-50\" # \"cond-detr-50\"\n",
    "MODEL_PATH = f\"logs/{SUBMODEL}/checkpoint-{CHP_ID}\"\n",
    "# IMAGE_SHAPE = 1333 _Shape{IMAGE_SHAPE}\n",
    "THR = 0.05\n",
    "iou_threshold = 0.8\n",
    "FILE_NAME = f\"{SUBMODEL}_THR{THR*100:.3f}_IOU{iou_threshold:.3f}_ID{CHP_ID}_P\""
   ]
  },
  {
   "cell_type": "code",
   "execution_count": 3,
   "metadata": {},
   "outputs": [],
   "source": [
    "from transformers import (\n",
    "\tAutoImageProcessor,\n",
    "\tAutoModelForObjectDetection,\n",
    "\tConditionalDetrImageProcessor,\n",
    "    ConditionalDetrForObjectDetection\n",
    ")\n",
    "from PIL import Image\n",
    "import torch\n",
    "from torchvision.ops import nms\n",
    "\n",
    "import pandas as pd\n",
    "import numpy as np"
   ]
  },
  {
   "cell_type": "code",
   "execution_count": 4,
   "metadata": {},
   "outputs": [
    {
     "name": "stderr",
     "output_type": "stream",
     "text": [
      "/data/home/eak/learning/zindi_challenge/lacuna_chl/.venv/lib/python3.9/site-packages/albumentations/__init__.py:13: UserWarning: A new version of Albumentations is available: 1.4.16 (you have 1.4.15). Upgrade using: pip install -U albumentations. To disable automatic update checks, set the environment variable NO_ALBUMENTATIONS_UPDATE to 1.\n",
      "  check_for_updates()\n"
     ]
    },
    {
     "data": {
      "text/html": [
       "<div>\n",
       "<style scoped>\n",
       "    .dataframe tbody tr th:only-of-type {\n",
       "        vertical-align: middle;\n",
       "    }\n",
       "\n",
       "    .dataframe tbody tr th {\n",
       "        vertical-align: top;\n",
       "    }\n",
       "\n",
       "    .dataframe thead th {\n",
       "        text-align: right;\n",
       "    }\n",
       "</style>\n",
       "<table border=\"1\" class=\"dataframe\">\n",
       "  <thead>\n",
       "    <tr style=\"text-align: right;\">\n",
       "      <th></th>\n",
       "      <th>Image_ID</th>\n",
       "      <th>class</th>\n",
       "      <th>confidence</th>\n",
       "      <th>ymin</th>\n",
       "      <th>xmin</th>\n",
       "      <th>ymax</th>\n",
       "      <th>xmax</th>\n",
       "    </tr>\n",
       "  </thead>\n",
       "  <tbody>\n",
       "    <tr>\n",
       "      <th>990</th>\n",
       "      <td>id_gmkmdd7pqc.jpg</td>\n",
       "      <td>NaN</td>\n",
       "      <td>NaN</td>\n",
       "      <td>NaN</td>\n",
       "      <td>NaN</td>\n",
       "      <td>NaN</td>\n",
       "      <td>NaN</td>\n",
       "    </tr>\n",
       "    <tr>\n",
       "      <th>899</th>\n",
       "      <td>id_1mf35d73se.jpg</td>\n",
       "      <td>NaN</td>\n",
       "      <td>NaN</td>\n",
       "      <td>NaN</td>\n",
       "      <td>NaN</td>\n",
       "      <td>NaN</td>\n",
       "      <td>NaN</td>\n",
       "    </tr>\n",
       "    <tr>\n",
       "      <th>1069</th>\n",
       "      <td>id_u9f214ojg0.jpg</td>\n",
       "      <td>NaN</td>\n",
       "      <td>NaN</td>\n",
       "      <td>NaN</td>\n",
       "      <td>NaN</td>\n",
       "      <td>NaN</td>\n",
       "      <td>NaN</td>\n",
       "    </tr>\n",
       "    <tr>\n",
       "      <th>1038</th>\n",
       "      <td>id_1csdphjt28.jpg</td>\n",
       "      <td>NaN</td>\n",
       "      <td>NaN</td>\n",
       "      <td>NaN</td>\n",
       "      <td>NaN</td>\n",
       "      <td>NaN</td>\n",
       "      <td>NaN</td>\n",
       "    </tr>\n",
       "    <tr>\n",
       "      <th>4</th>\n",
       "      <td>id_tirid4qt68.jpg</td>\n",
       "      <td>NaN</td>\n",
       "      <td>NaN</td>\n",
       "      <td>NaN</td>\n",
       "      <td>NaN</td>\n",
       "      <td>NaN</td>\n",
       "      <td>NaN</td>\n",
       "    </tr>\n",
       "  </tbody>\n",
       "</table>\n",
       "</div>"
      ],
      "text/plain": [
       "               Image_ID  class  confidence  ymin  xmin  ymax  xmax\n",
       "990   id_gmkmdd7pqc.jpg    NaN         NaN   NaN   NaN   NaN   NaN\n",
       "899   id_1mf35d73se.jpg    NaN         NaN   NaN   NaN   NaN   NaN\n",
       "1069  id_u9f214ojg0.jpg    NaN         NaN   NaN   NaN   NaN   NaN\n",
       "1038  id_1csdphjt28.jpg    NaN         NaN   NaN   NaN   NaN   NaN\n",
       "4     id_tirid4qt68.jpg    NaN         NaN   NaN   NaN   NaN   NaN"
      ]
     },
     "execution_count": 4,
     "metadata": {},
     "output_type": "execute_result"
    }
   ],
   "source": [
    "from zindi_code.dataset import load_and_format\n",
    "from zindi_code import CLS_MAPPER\n",
    "\n",
    "image_folder = \"zindi_data/images\"\n",
    "\n",
    "test = pd.read_csv(\"zindi_data/Test.csv\")\n",
    "test.sample(5)"
   ]
  },
  {
   "cell_type": "code",
   "execution_count": 5,
   "metadata": {},
   "outputs": [],
   "source": [
    "model_pth = MODEL_PATH\n",
    "\n",
    "image_processor: ConditionalDetrImageProcessor = AutoImageProcessor.from_pretrained(\n",
    "    model_pth\n",
    ")\n",
    "model: ConditionalDetrForObjectDetection = AutoModelForObjectDetection.from_pretrained(\n",
    "    model_pth\n",
    ").to(\n",
    "    \"cuda\"\n",
    ")  # .train(False)"
   ]
  },
  {
   "cell_type": "code",
   "execution_count": 6,
   "metadata": {},
   "outputs": [
    {
     "data": {
      "text/plain": [
       "ConditionalDetrImageProcessor {\n",
       "  \"do_convert_annotations\": true,\n",
       "  \"do_normalize\": true,\n",
       "  \"do_pad\": true,\n",
       "  \"do_rescale\": true,\n",
       "  \"do_resize\": true,\n",
       "  \"format\": \"coco_detection\",\n",
       "  \"image_mean\": [\n",
       "    0.485,\n",
       "    0.456,\n",
       "    0.406\n",
       "  ],\n",
       "  \"image_processor_type\": \"ConditionalDetrImageProcessor\",\n",
       "  \"image_std\": [\n",
       "    0.229,\n",
       "    0.224,\n",
       "    0.225\n",
       "  ],\n",
       "  \"pad_size\": null,\n",
       "  \"resample\": 2,\n",
       "  \"rescale_factor\": 0.00392156862745098,\n",
       "  \"size\": {\n",
       "    \"longest_edge\": 1333,\n",
       "    \"shortest_edge\": 800\n",
       "  }\n",
       "}"
      ]
     },
     "execution_count": 6,
     "metadata": {},
     "output_type": "execute_result"
    }
   ],
   "source": [
    "image_processor"
   ]
  },
  {
   "cell_type": "code",
   "execution_count": 7,
   "metadata": {},
   "outputs": [
    {
     "data": {
      "text/plain": [
       "{0: 'Trophozoite', 1: 'WBC'}"
      ]
     },
     "execution_count": 7,
     "metadata": {},
     "output_type": "execute_result"
    }
   ],
   "source": [
    "model.config.id2label"
   ]
  },
  {
   "cell_type": "code",
   "execution_count": 8,
   "metadata": {},
   "outputs": [],
   "source": [
    "@torch.no_grad()\n",
    "def make_predictions(images: list[Image.Image]):\n",
    "\tinputs = image_processor(images=images, return_tensors=\"pt\").to(\"cuda\")\n",
    "\toutputs = model(**inputs)\n",
    "\ttarget_sizes = torch.tensor([image.size[::-1] for image in images])\n",
    "\treturn image_processor.post_process_object_detection(\n",
    "\t\toutputs, threshold=THR, target_sizes=target_sizes\n",
    "\t)\n",
    "\n",
    "def load_transform(path: str):\n",
    "\treturn Image.open(os.path.join(image_folder, path)).convert(\"RGB\")\n",
    "\timage = Image.open(os.path.join(image_folder, path))\n",
    "\treturn np.array(image.convert(\"RGB\"))[:, :, ::-1]\n",
    "\n",
    "def load_images(image_pths: list[str]):\n",
    "\treturn [\n",
    "\t\tload_transform(image_pth)\n",
    "\t\tfor image_pth in image_pths\n",
    "\t]\n",
    "\n",
    "\n",
    "def predicts(image_pths: list[str]):\n",
    "\timages = load_images(image_pths)\n",
    "\tresults = make_predictions(images)\n",
    "\tpredictions = []\n",
    "\tfor image_pth, result in zip(image_pths, results):\n",
    "\t\tprediction = []\n",
    "\t\tif len(result[\"boxes\"]):\n",
    "\t\t\tindices = nms(result[\"boxes\"], result[\"scores\"], iou_threshold)\n",
    "\t\t\tif not len(indices):\n",
    "\t\t\t\tcontinue\n",
    "\t\t\tfor score, label, box in zip(\n",
    "\t\t\t\tresult[\"scores\"][indices],\n",
    "\t\t\t\tresult[\"labels\"][indices],\n",
    "\t\t\t\tresult[\"boxes\"][indices],\n",
    "\t\t\t):\n",
    "\t\t\t\tx1, y1, x2, y2 = (round(i, 2) for i in box.tolist())\n",
    "\t\t\t\tprediction.append(\n",
    "\t\t\t\t\t[\n",
    "\t\t\t\t\t\timage_pth,\n",
    "\t\t\t\t\t\tmodel.config.id2label[label.item()],\n",
    "\t\t\t\t\t\tround(score.item(), 3),\n",
    "\t\t\t\t\t\tx1,\n",
    "\t\t\t\t\t\ty1,\n",
    "\t\t\t\t\t\tx2,\n",
    "\t\t\t\t\t\ty2\n",
    "\t\t\t\t\t]\n",
    "\t\t\t\t)\n",
    "\t\tif not len(prediction):\n",
    "\t\t\tprediction.append([image_pth] + [\"NEG\", 1., 0, 0, 0, 0,])\n",
    "\t\tpredictions.extend(prediction)\n",
    "\treturn pd.DataFrame(\n",
    "\t\tpredictions, columns=[\"Image_ID\", \"class\", \"confidence\", \"xmin\", \"ymin\", \"xmax\", \"ymax\"]\n",
    "\t)"
   ]
  },
  {
   "cell_type": "code",
   "execution_count": 9,
   "metadata": {},
   "outputs": [],
   "source": [
    "from tqdm import tqdm"
   ]
  },
  {
   "cell_type": "code",
   "execution_count": 11,
   "metadata": {},
   "outputs": [
    {
     "name": "stderr",
     "output_type": "stream",
     "text": [
      "100%|██████████| 74/74 [04:53<00:00,  3.97s/it]\n"
     ]
    }
   ],
   "source": [
    "batch_size = 16\n",
    "test_images = test[\"Image_ID\"].unique()\n",
    "results = [\n",
    "\tpredicts(test_images[i : i + batch_size])\n",
    "\tfor i in tqdm(\n",
    "\t\trange(0, len(test_images), batch_size), total=len(test_images) // batch_size + 1\n",
    "\t) if i < len(test_images)\n",
    "]"
   ]
  },
  {
   "cell_type": "code",
   "execution_count": 12,
   "metadata": {},
   "outputs": [],
   "source": [
    "predictions = pd.concat(results, ignore_index=True)"
   ]
  },
  {
   "cell_type": "code",
   "execution_count": 13,
   "metadata": {},
   "outputs": [
    {
     "data": {
      "text/html": [
       "<div>\n",
       "<style scoped>\n",
       "    .dataframe tbody tr th:only-of-type {\n",
       "        vertical-align: middle;\n",
       "    }\n",
       "\n",
       "    .dataframe tbody tr th {\n",
       "        vertical-align: top;\n",
       "    }\n",
       "\n",
       "    .dataframe thead th {\n",
       "        text-align: right;\n",
       "    }\n",
       "</style>\n",
       "<table border=\"1\" class=\"dataframe\">\n",
       "  <thead>\n",
       "    <tr style=\"text-align: right;\">\n",
       "      <th></th>\n",
       "      <th>Image_ID</th>\n",
       "      <th>class</th>\n",
       "      <th>confidence</th>\n",
       "      <th>xmin</th>\n",
       "      <th>ymin</th>\n",
       "      <th>xmax</th>\n",
       "      <th>ymax</th>\n",
       "    </tr>\n",
       "  </thead>\n",
       "  <tbody>\n",
       "    <tr>\n",
       "      <th>3617</th>\n",
       "      <td>id_zzeqlbyhta.jpg</td>\n",
       "      <td>Trophozoite</td>\n",
       "      <td>0.098</td>\n",
       "      <td>1042.00</td>\n",
       "      <td>526.88</td>\n",
       "      <td>1076.02</td>\n",
       "      <td>557.36</td>\n",
       "    </tr>\n",
       "    <tr>\n",
       "      <th>6381</th>\n",
       "      <td>id_q624dnvhoj.jpg</td>\n",
       "      <td>Trophozoite</td>\n",
       "      <td>0.324</td>\n",
       "      <td>508.18</td>\n",
       "      <td>60.01</td>\n",
       "      <td>542.88</td>\n",
       "      <td>90.43</td>\n",
       "    </tr>\n",
       "    <tr>\n",
       "      <th>29776</th>\n",
       "      <td>id_35zvz4r71s.jpg</td>\n",
       "      <td>Trophozoite</td>\n",
       "      <td>0.127</td>\n",
       "      <td>663.02</td>\n",
       "      <td>504.75</td>\n",
       "      <td>691.76</td>\n",
       "      <td>530.20</td>\n",
       "    </tr>\n",
       "    <tr>\n",
       "      <th>15614</th>\n",
       "      <td>id_p0399v663a.jpg</td>\n",
       "      <td>WBC</td>\n",
       "      <td>0.781</td>\n",
       "      <td>3611.38</td>\n",
       "      <td>1301.37</td>\n",
       "      <td>3791.46</td>\n",
       "      <td>1515.30</td>\n",
       "    </tr>\n",
       "    <tr>\n",
       "      <th>32811</th>\n",
       "      <td>id_70s6c8isgd.jpg</td>\n",
       "      <td>Trophozoite</td>\n",
       "      <td>0.058</td>\n",
       "      <td>753.94</td>\n",
       "      <td>959.78</td>\n",
       "      <td>835.03</td>\n",
       "      <td>1041.75</td>\n",
       "    </tr>\n",
       "    <tr>\n",
       "      <th>25579</th>\n",
       "      <td>id_rvpk6a4kf5.jpg</td>\n",
       "      <td>Trophozoite</td>\n",
       "      <td>0.057</td>\n",
       "      <td>941.66</td>\n",
       "      <td>534.70</td>\n",
       "      <td>979.83</td>\n",
       "      <td>563.04</td>\n",
       "    </tr>\n",
       "    <tr>\n",
       "      <th>30333</th>\n",
       "      <td>id_ck2skvxqtf.jpg</td>\n",
       "      <td>Trophozoite</td>\n",
       "      <td>0.067</td>\n",
       "      <td>1209.67</td>\n",
       "      <td>541.66</td>\n",
       "      <td>1237.58</td>\n",
       "      <td>566.09</td>\n",
       "    </tr>\n",
       "    <tr>\n",
       "      <th>32993</th>\n",
       "      <td>id_serc1thxju.jpg</td>\n",
       "      <td>Trophozoite</td>\n",
       "      <td>0.110</td>\n",
       "      <td>3072.44</td>\n",
       "      <td>2009.33</td>\n",
       "      <td>3151.18</td>\n",
       "      <td>2104.26</td>\n",
       "    </tr>\n",
       "    <tr>\n",
       "      <th>19863</th>\n",
       "      <td>id_2kulbx4oet.jpg</td>\n",
       "      <td>Trophozoite</td>\n",
       "      <td>0.125</td>\n",
       "      <td>608.08</td>\n",
       "      <td>190.91</td>\n",
       "      <td>639.80</td>\n",
       "      <td>219.24</td>\n",
       "    </tr>\n",
       "    <tr>\n",
       "      <th>10146</th>\n",
       "      <td>id_m5expi6ak1.jpg</td>\n",
       "      <td>WBC</td>\n",
       "      <td>0.651</td>\n",
       "      <td>1393.51</td>\n",
       "      <td>744.93</td>\n",
       "      <td>1471.89</td>\n",
       "      <td>811.19</td>\n",
       "    </tr>\n",
       "  </tbody>\n",
       "</table>\n",
       "</div>"
      ],
      "text/plain": [
       "                Image_ID        class  confidence     xmin     ymin     xmax  \\\n",
       "3617   id_zzeqlbyhta.jpg  Trophozoite       0.098  1042.00   526.88  1076.02   \n",
       "6381   id_q624dnvhoj.jpg  Trophozoite       0.324   508.18    60.01   542.88   \n",
       "29776  id_35zvz4r71s.jpg  Trophozoite       0.127   663.02   504.75   691.76   \n",
       "15614  id_p0399v663a.jpg          WBC       0.781  3611.38  1301.37  3791.46   \n",
       "32811  id_70s6c8isgd.jpg  Trophozoite       0.058   753.94   959.78   835.03   \n",
       "25579  id_rvpk6a4kf5.jpg  Trophozoite       0.057   941.66   534.70   979.83   \n",
       "30333  id_ck2skvxqtf.jpg  Trophozoite       0.067  1209.67   541.66  1237.58   \n",
       "32993  id_serc1thxju.jpg  Trophozoite       0.110  3072.44  2009.33  3151.18   \n",
       "19863  id_2kulbx4oet.jpg  Trophozoite       0.125   608.08   190.91   639.80   \n",
       "10146  id_m5expi6ak1.jpg          WBC       0.651  1393.51   744.93  1471.89   \n",
       "\n",
       "          ymax  \n",
       "3617    557.36  \n",
       "6381     90.43  \n",
       "29776   530.20  \n",
       "15614  1515.30  \n",
       "32811  1041.75  \n",
       "25579   563.04  \n",
       "30333   566.09  \n",
       "32993  2104.26  \n",
       "19863   219.24  \n",
       "10146   811.19  "
      ]
     },
     "execution_count": 13,
     "metadata": {},
     "output_type": "execute_result"
    }
   ],
   "source": [
    "predictions.sample(10)"
   ]
  },
  {
   "cell_type": "code",
   "execution_count": 14,
   "metadata": {},
   "outputs": [
    {
     "data": {
      "text/plain": [
       "class\n",
       "Trophozoite    0.868711\n",
       "WBC            0.126167\n",
       "NEG            0.005122\n",
       "Name: proportion, dtype: float64"
      ]
     },
     "execution_count": 14,
     "metadata": {},
     "output_type": "execute_result"
    }
   ],
   "source": [
    "predictions[\"class\"].value_counts(True)"
   ]
  },
  {
   "cell_type": "code",
   "execution_count": 15,
   "metadata": {},
   "outputs": [],
   "source": [
    "predictions.to_csv(f\"zindi_data/test/prediction_{FILE_NAME}.csv\", index=False)"
   ]
  },
  {
   "cell_type": "code",
   "execution_count": 16,
   "metadata": {},
   "outputs": [
    {
     "data": {
      "text/plain": [
       "'zindi_data/test/prediction_cond-detr-50_THR5.000_IOU0.800_ID5425_P.csv'"
      ]
     },
     "execution_count": 16,
     "metadata": {},
     "output_type": "execute_result"
    }
   ],
   "source": [
    "f\"zindi_data/test/prediction_{FILE_NAME}.csv\""
   ]
  },
  {
   "cell_type": "code",
   "execution_count": null,
   "metadata": {},
   "outputs": [],
   "source": []
  }
 ],
 "metadata": {
  "kernelspec": {
   "display_name": ".venv",
   "language": "python",
   "name": "python3"
  },
  "language_info": {
   "codemirror_mode": {
    "name": "ipython",
    "version": 3
   },
   "file_extension": ".py",
   "mimetype": "text/x-python",
   "name": "python",
   "nbconvert_exporter": "python",
   "pygments_lexer": "ipython3",
   "version": "3.9.18"
  }
 },
 "nbformat": 4,
 "nbformat_minor": 2
}
