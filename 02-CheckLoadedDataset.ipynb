{
 "cells": [
  {
   "cell_type": "code",
   "execution_count": 1,
   "metadata": {},
   "outputs": [
    {
     "name": "stdout",
     "output_type": "stream",
     "text": [
      "618\n",
      "0\n"
     ]
    },
    {
     "data": {
      "text/plain": [
       "Dataset({\n",
       "    features: ['image_id', 'image', 'width', 'height', 'objects'],\n",
       "    num_rows: 1854\n",
       "})"
      ]
     },
     "execution_count": 1,
     "metadata": {},
     "output_type": "execute_result"
    }
   ],
   "source": [
    "from zindi_code.dataset import load_dataset\n",
    "\n",
    "\n",
    "data = load_dataset()\n",
    "\n",
    "data"
   ]
  },
  {
   "cell_type": "code",
   "execution_count": 3,
   "metadata": {},
   "outputs": [
    {
     "data": {
      "text/plain": [
       "{'image_id': 10,\n",
       " 'image': <PIL.Image.Image image mode=RGB size=1920x1080>,\n",
       " 'width': 1920,\n",
       " 'height': 1080,\n",
       " 'objects': {'area': [6561, 4092, 1024, 780, 1176, 1368, 1152, 4736],\n",
       "  'bbox': [[197, 327, 81, 81],\n",
       "   [868, 794, 66, 62],\n",
       "   [499, 569, 32, 32],\n",
       "   [1076, 1025, 26, 30],\n",
       "   [1260, 482, 28, 42],\n",
       "   [777, 496, 38, 36],\n",
       "   [1638, 842, 32, 36],\n",
       "   [218, 409, 74, 64]],\n",
       "  'category': [1, 1, 0, 0, 0, 0, 0, 1],\n",
       "  'id': [1554, 1784, 5142, 5325, 8402, 8843, 15435, 20210]}}"
      ]
     },
     "execution_count": 3,
     "metadata": {},
     "output_type": "execute_result"
    }
   ],
   "source": [
    "data[10]"
   ]
  },
  {
   "cell_type": "code",
   "execution_count": 3,
   "metadata": {},
   "outputs": [],
   "source": [
    "for raw in data:\n",
    "    raw = raw[\"objects\"]\n",
    "    size = len(raw[\"id\"])\n",
    "    if any(len(x) != size for x in raw.values()):\n",
    "        print(raw)"
   ]
  },
  {
   "cell_type": "code",
   "execution_count": null,
   "metadata": {},
   "outputs": [],
   "source": []
  }
 ],
 "metadata": {
  "kernelspec": {
   "display_name": ".venv",
   "language": "python",
   "name": "python3"
  },
  "language_info": {
   "codemirror_mode": {
    "name": "ipython",
    "version": 3
   },
   "file_extension": ".py",
   "mimetype": "text/x-python",
   "name": "python",
   "nbconvert_exporter": "python",
   "pygments_lexer": "ipython3",
   "version": "3.9.18"
  }
 },
 "nbformat": 4,
 "nbformat_minor": 2
}
